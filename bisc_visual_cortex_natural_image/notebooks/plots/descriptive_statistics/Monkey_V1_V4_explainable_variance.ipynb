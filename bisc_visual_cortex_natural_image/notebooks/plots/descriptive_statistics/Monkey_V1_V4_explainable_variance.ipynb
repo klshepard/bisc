{
 "cells": [
  {
   "cell_type": "code",
   "execution_count": null,
   "metadata": {},
   "outputs": [],
   "source": [
    "import datajoint as dj\n",
    "dj.config[\"enable_python_native_blobs\"] = True\n",
    "dj.config['schema_name'] = \"nnfabrik_toy_V4\"\n",
    "schema = dj.schema(\"nnfabrik_toy_V4\")\n",
    "\n",
    "import os\n",
    "from os import listdir\n",
    "from os.path import isfile, join\n",
    "\n",
    "\n",
    "import torch\n",
    "import matplotlib.pyplot as plt\n",
    "import numpy as np\n",
    "import pickle \n",
    "import time\n",
    "from torch import load\n",
    "\n",
    "import nnfabrik\n",
    "from nnfabrik import main, builder\n",
    "from nnfabrik.main import *\n",
    "\n",
    "import nnvision\n",
    "import seaborn as sns"
   ]
  },
  {
   "cell_type": "code",
   "execution_count": 28,
   "metadata": {},
   "outputs": [],
   "source": [
    "from nnvision.utility.measures import get_explainable_var\n",
    "n_repeats = np.hstack([np.arange(2,10), np.arange(10,20,2),  np.arange(20,36,4)])\n",
    "n_iters = 10\n",
    "\n",
    "v4_hash= '293317b0600244345fe605961ef9f170'\n",
    "v1_hash = '839b51124b143e456cfcf1d78954ea7d'"
   ]
  },
  {
   "cell_type": "code",
   "execution_count": null,
   "metadata": {},
   "outputs": [],
   "source": [
    "key = dict(dataset_hash=v4_hash)\n",
    "dataloaders = (Dataset() & key).get_dataloader(seed=1000)\n",
    "\n",
    "rep_array, score_array=[],[]\n",
    "for i in range(n_iters):\n",
    "    for reps in n_repeats:\n",
    "        score = get_explainable_var(dataloaders[\"test\"], per_neuron=False, repeat_limit=reps)\n",
    "        rep_array.append(reps)\n",
    "        score_array.append(score)\n",
    "\n",
    "v4_reps = rep_array\n",
    "v4_scores = score_array\n",
    "\n",
    "\n",
    "key = dict(dataset_hash=v1_hash)\n",
    "dataloaders = (Dataset() & key).get_dataloader(seed=1000)\n",
    "rep_array, score_array=[],[]\n",
    "for i in range(n_iters):\n",
    "    for reps in n_repeats:\n",
    "        score = get_explainable_var(dataloaders[\"test\"], per_neuron=False, repeat_limit=reps)\n",
    "        rep_array.append(reps)\n",
    "        score_array.append(score)\n",
    "\n",
    "v1_reps = rep_array\n",
    "v1_scores = score_array\n",
    "\n"
   ]
  },
  {
   "cell_type": "code",
   "execution_count": 5,
   "metadata": {},
   "outputs": [],
   "source": [
    "df = pd.DataFrame({'repeats': np.hstack([v1_reps, v4_reps]), \n",
    "                        'explainable variance': np.hstack([v1_scores, v4_scores]),\n",
    "                        'dataset': ['v1']*len(v1_reps) + ['v4']*len(v4_reps)})"
   ]
  },
  {
   "cell_type": "code",
   "execution_count": null,
   "metadata": {},
   "outputs": [],
   "source": [
    "fig, ax = plt.subplots(1,1, figsize=(6,6))\n",
    "sns.set_context('talk', font_scale=0.8)\n",
    "\n",
    "flatui = [\"#9b59b6\", \"#3498db\", \"#95a5a6\", \"#e74c3c\", \"#34495e\", \"#2ecc71\"]\n",
    "plt.grid(\"on\", ls='--')\n",
    "sns.lineplot(x=\"repeats\", y=\"explainable variance\", hue=\"dataset\",data=df, ci=\"sd\", palette=flatui[-2:])\n",
    "plt.ylim([0.29, 0.34])\n",
    "sns.despine(trim=True, offset=2)\n",
    "plt.title(\"Explainable Variance across repeats\")\n",
    "plt.savefig(\"Monkey_V2_explainable_variance.pdf\", dpi=100, bbox_inches=\"tight\")"
   ]
  },
  {
   "cell_type": "code",
   "execution_count": null,
   "metadata": {},
   "outputs": [],
   "source": []
  },
  {
   "cell_type": "code",
   "execution_count": null,
   "metadata": {},
   "outputs": [],
   "source": []
  },
  {
   "cell_type": "code",
   "execution_count": null,
   "metadata": {},
   "outputs": [],
   "source": []
  },
  {
   "cell_type": "code",
   "execution_count": null,
   "metadata": {},
   "outputs": [],
   "source": []
  }
 ],
 "metadata": {
  "kernelspec": {
   "display_name": "Python 3",
   "language": "python",
   "name": "python3"
  },
  "language_info": {
   "codemirror_mode": {
    "name": "ipython",
    "version": 3
   },
   "file_extension": ".py",
   "mimetype": "text/x-python",
   "name": "python",
   "nbconvert_exporter": "python",
   "pygments_lexer": "ipython3",
   "version": "3.8.0"
  }
 },
 "nbformat": 4,
 "nbformat_minor": 4
}
