{
 "cells": [
  {
   "cell_type": "code",
   "execution_count": 3,
   "metadata": {},
   "outputs": [
    {
     "name": "stdout",
     "output_type": "stream",
     "text": [
      "The autoreload extension is already loaded. To reload it, use:\n",
      "  %reload_ext autoreload\n"
     ]
    }
   ],
   "source": [
    "%load_ext autoreload\n",
    "%autoreload 2\n",
    "\n",
    "import nnfabrik\n",
    "from nnfabrik import builder\n",
    "\n",
    "import os\n",
    "import torch\n",
    "import numpy as np\n",
    "from tqdm import tqdm\n",
    "\n",
    "import matplotlib.pyplot as plt\n",
    "import seaborn as sns\n",
    "import pandas as pd\n"
   ]
  },
  {
   "cell_type": "code",
   "execution_count": 4,
   "metadata": {},
   "outputs": [],
   "source": [
    "dataset_fn = 'nnvision.datasets.monkey_loaders.monkey_static_loader'\n",
    "dataset_config = {'dataset': 'CSRF_V4',\n",
    "  'neuronal_data_files': ['/data/monkey/toliaslab/CSRF19_V4/neuronal_data/CSRF19_V4_3645713184967.pickle',\n",
    "   '/data/monkey/toliaslab/CSRF19_V4/neuronal_data/CSRF19_V4_3646146362280.pickle',\n",
    "   '/data/monkey/toliaslab/CSRF19_V4/neuronal_data/CSRF19_V4_3646222772876.pickle',\n",
    "   '/data/monkey/toliaslab/CSRF19_V4/neuronal_data/CSRF19_V4_3646321567215.pickle',\n",
    "   '/data/monkey/toliaslab/CSRF19_V4/neuronal_data/CSRF19_V4_3646401671909.pickle',\n",
    "   '/data/monkey/toliaslab/CSRF19_V4/neuronal_data/CSRF19_V4_3646657276979.pickle',\n",
    "   '/data/monkey/toliaslab/CSRF19_V4/neuronal_data/CSRF19_V4_3646747773987.pickle',\n",
    "   '/data/monkey/toliaslab/CSRF19_V4/neuronal_data/CSRF19_V4_3646924284383.pickle',\n",
    "   '/data/monkey/toliaslab/CSRF19_V4/neuronal_data/CSRF19_V4_3647439534447.pickle',\n",
    "   '/data/monkey/toliaslab/CSRF19_V4/neuronal_data/CSRF19_V4_3647531807425.pickle',\n",
    "   '/data/monkey/toliaslab/CSRF19_V4/neuronal_data/CSRF19_V4_3647617982355.pickle',\n",
    "   '/data/monkey/toliaslab/CSRF19_V4/neuronal_data/CSRF19_V4_3648051669051.pickle',\n",
    "   '/data/monkey/toliaslab/CSRF19_V4/neuronal_data/CSRF19_V4_3648221742562.pickle',\n",
    "   '/data/monkey/toliaslab/CSRF19_V4/neuronal_data/CSRF19_V4_3648475457626.pickle',\n",
    "   '/data/monkey/toliaslab/CSRF19_V4/neuronal_data/CSRF19_V4_3648644839726.pickle',\n",
    "   '/data/monkey/toliaslab/CSRF19_V4/neuronal_data/CSRF19_V4_3649169411059.pickle',\n",
    "   '/data/monkey/toliaslab/CSRF19_V4/neuronal_data/CSRF19_V4_3649252123347.pickle',\n",
    "   '/data/monkey/toliaslab/CSRF19_V4/neuronal_data/CSRF19_V4_3649689088057.pickle',\n",
    "   '/data/monkey/toliaslab/CSRF19_V4/neuronal_data/CSRF19_V4_3649771255234.pickle',\n",
    "   '/data/monkey/toliaslab/CSRF19_V4/neuronal_data/CSRF19_V4_3650037309346.pickle',\n",
    "   '/data/monkey/toliaslab/CSRF19_V4/neuronal_data/CSRF19_V4_3650459721914.pickle',\n",
    "   '/data/monkey/toliaslab/CSRF19_V4/neuronal_data/CSRF19_V4_3651417046988.pickle',\n",
    "   '/data/monkey/toliaslab/CSRF19_V4/neuronal_data/CSRF19_V4_3652197206019.pickle',\n",
    "   '/data/monkey/toliaslab/CSRF19_V4/neuronal_data/CSRF19_V4_3652885366025.pickle',\n",
    "   '/data/monkey/toliaslab/CSRF19_V4/neuronal_data/CSRF19_V4_3653061170515.pickle',\n",
    "   '/data/monkey/toliaslab/CSRF19_V4/neuronal_data/CSRF19_V4_3653226873615.pickle',\n",
    "   '/data/monkey/toliaslab/CSRF19_V4/neuronal_data/CSRF19_V4_3653320713405.pickle',\n",
    "   '/data/monkey/toliaslab/CSRF19_V4/neuronal_data/CSRF19_V4_3653578665399.pickle',\n",
    "   '/data/monkey/toliaslab/CSRF19_V4/neuronal_data/CSRF19_V4_3653924870701.pickle',\n",
    "   '/data/monkey/toliaslab/CSRF19_V4/neuronal_data/CSRF19_V4_3654009687031.pickle',\n",
    "   '/data/monkey/toliaslab/CSRF19_V4/neuronal_data/CSRF19_V4_3654087847388.pickle'],\n",
    "  'image_cache_path': '/data/monkey/toliaslab/CSRF19_V4/images/individual/',\n",
    "  'crop': [(68, 0), (126, 126)],\n",
    "  'subsample': 1,\n",
    "  'scale': 0.4,\n",
    "  'seed': 1000,\n",
    "  'batch_size': 64,\n",
    "  'time_bins_sum': (3, 4, 5, 6, 7, 8, 9, 10, 11)}"
   ]
  },
  {
   "cell_type": "code",
   "execution_count": 5,
   "metadata": {},
   "outputs": [],
   "source": [
    "dataloaders = builder.get_data(dataset_fn, dataset_config)"
   ]
  },
  {
   "cell_type": "markdown",
   "metadata": {},
   "source": [
    "## Dataloaders"
   ]
  },
  {
   "cell_type": "markdown",
   "metadata": {},
   "source": [
    "NNfabrik expects dataloaders to be nested dictionarys with actual PyTorch DataLoader Objects at the second Tier. The First Tier will be \"train\", \"validation\", and \"test\". The second Tier will be \"session_key\": DataLoader. So each dataset is either comprised of one or multiple sessions, with a session ID as the dictionary key to its dataloader.\n",
    "Let's have a look:"
   ]
  },
  {
   "cell_type": "code",
   "execution_count": 10,
   "metadata": {},
   "outputs": [
    {
     "data": {
      "text/plain": [
       "{'train': {'3645713184967': <torch.utils.data.dataloader.DataLoader at 0x7f60295dde80>,\n",
       "  '3646146362280': <torch.utils.data.dataloader.DataLoader at 0x7f5f658f2760>,\n",
       "  '3646222772876': <torch.utils.data.dataloader.DataLoader at 0x7f5f658f9580>,\n",
       "  '3646321567215': <torch.utils.data.dataloader.DataLoader at 0x7f5f658fb460>,\n",
       "  '3646401671909': <torch.utils.data.dataloader.DataLoader at 0x7f5f658ff310>,\n",
       "  '3646657276979': <torch.utils.data.dataloader.DataLoader at 0x7f5f659041f0>,\n",
       "  '3646747773987': <torch.utils.data.dataloader.DataLoader at 0x7f5f659050d0>,\n",
       "  '3646924284383': <torch.utils.data.dataloader.DataLoader at 0x7f5f65905550>,\n",
       "  '3647439534447': <torch.utils.data.dataloader.DataLoader at 0x7f5f6590bf10>,\n",
       "  '3647531807425': <torch.utils.data.dataloader.DataLoader at 0x7f5f65908df0>,\n",
       "  '3647617982355': <torch.utils.data.dataloader.DataLoader at 0x7f5f65912cd0>,\n",
       "  '3648051669051': <torch.utils.data.dataloader.DataLoader at 0x7f5f65898b50>,\n",
       "  '3648221742562': <torch.utils.data.dataloader.DataLoader at 0x7f5f6589aa30>,\n",
       "  '3648475457626': <torch.utils.data.dataloader.DataLoader at 0x7f5f6589d940>,\n",
       "  '3648644839726': <torch.utils.data.dataloader.DataLoader at 0x7f5f658a47f0>,\n",
       "  '3649169411059': <torch.utils.data.dataloader.DataLoader at 0x7f5f658a86a0>,\n",
       "  '3649252123347': <torch.utils.data.dataloader.DataLoader at 0x7f5f658ad580>,\n",
       "  '3649689088057': <torch.utils.data.dataloader.DataLoader at 0x7f5f658af460>,\n",
       "  '3649771255234': <torch.utils.data.dataloader.DataLoader at 0x7f5f658b5310>,\n",
       "  '3650037309346': <torch.utils.data.dataloader.DataLoader at 0x7f5f658b81f0>,\n",
       "  '3650459721914': <torch.utils.data.dataloader.DataLoader at 0x7f5f658bd0d0>,\n",
       "  '3651417046988': <torch.utils.data.dataloader.DataLoader at 0x7f5f658bd550>,\n",
       "  '3652197206019': <torch.utils.data.dataloader.DataLoader at 0x7f5f658be430>,\n",
       "  '3652885366025': <torch.utils.data.dataloader.DataLoader at 0x7f5f658c2df0>,\n",
       "  '3653061170515': <torch.utils.data.dataloader.DataLoader at 0x7f5f658c7cd0>,\n",
       "  '3653226873615': <torch.utils.data.dataloader.DataLoader at 0x7f5f658ceb50>,\n",
       "  '3653320713405': <torch.utils.data.dataloader.DataLoader at 0x7f5f658d2a30>,\n",
       "  '3653578665399': <torch.utils.data.dataloader.DataLoader at 0x7f5f658d3940>,\n",
       "  '3653924870701': <torch.utils.data.dataloader.DataLoader at 0x7f5f658587f0>,\n",
       "  '3654009687031': <torch.utils.data.dataloader.DataLoader at 0x7f5f6585b6a0>,\n",
       "  '3654087847388': <torch.utils.data.dataloader.DataLoader at 0x7f5f6585c580>},\n",
       " 'validation': {'3645713184967': <torch.utils.data.dataloader.DataLoader at 0x7f5f65b77f10>,\n",
       "  '3646146362280': <torch.utils.data.dataloader.DataLoader at 0x7f5f658f2c40>,\n",
       "  '3646222772876': <torch.utils.data.dataloader.DataLoader at 0x7f5f658f9a90>,\n",
       "  '3646321567215': <torch.utils.data.dataloader.DataLoader at 0x7f5f658fb970>,\n",
       "  '3646401671909': <torch.utils.data.dataloader.DataLoader at 0x7f5f658ff820>,\n",
       "  '3646657276979': <torch.utils.data.dataloader.DataLoader at 0x7f5f65904700>,\n",
       "  '3646747773987': <torch.utils.data.dataloader.DataLoader at 0x7f5f659055e0>,\n",
       "  '3646924284383': <torch.utils.data.dataloader.DataLoader at 0x7f5f6590b4c0>,\n",
       "  '3647439534447': <torch.utils.data.dataloader.DataLoader at 0x7f5f659083d0>,\n",
       "  '3647531807425': <torch.utils.data.dataloader.DataLoader at 0x7f5f65912280>,\n",
       "  '3647617982355': <torch.utils.data.dataloader.DataLoader at 0x7f5f65898130>,\n",
       "  '3648051669051': <torch.utils.data.dataloader.DataLoader at 0x7f5f65898df0>,\n",
       "  '3648221742562': <torch.utils.data.dataloader.DataLoader at 0x7f5f6589af70>,\n",
       "  '3648475457626': <torch.utils.data.dataloader.DataLoader at 0x7f5f6589de50>,\n",
       "  '3648644839726': <torch.utils.data.dataloader.DataLoader at 0x7f5f658a4d30>,\n",
       "  '3649169411059': <torch.utils.data.dataloader.DataLoader at 0x7f5f658a8bb0>,\n",
       "  '3649252123347': <torch.utils.data.dataloader.DataLoader at 0x7f5f658ada90>,\n",
       "  '3649689088057': <torch.utils.data.dataloader.DataLoader at 0x7f5f658af970>,\n",
       "  '3649771255234': <torch.utils.data.dataloader.DataLoader at 0x7f5f658b5820>,\n",
       "  '3650037309346': <torch.utils.data.dataloader.DataLoader at 0x7f5f658b8700>,\n",
       "  '3650459721914': <torch.utils.data.dataloader.DataLoader at 0x7f5f658bd5e0>,\n",
       "  '3651417046988': <torch.utils.data.dataloader.DataLoader at 0x7f5f658be4c0>,\n",
       "  '3652197206019': <torch.utils.data.dataloader.DataLoader at 0x7f5f658c23a0>,\n",
       "  '3652885366025': <torch.utils.data.dataloader.DataLoader at 0x7f5f658c7280>,\n",
       "  '3653061170515': <torch.utils.data.dataloader.DataLoader at 0x7f5f658ce130>,\n",
       "  '3653226873615': <torch.utils.data.dataloader.DataLoader at 0x7f5f658cedf0>,\n",
       "  '3653320713405': <torch.utils.data.dataloader.DataLoader at 0x7f5f658d2f70>,\n",
       "  '3653578665399': <torch.utils.data.dataloader.DataLoader at 0x7f5f658d3e50>,\n",
       "  '3653924870701': <torch.utils.data.dataloader.DataLoader at 0x7f5f65858d30>,\n",
       "  '3654009687031': <torch.utils.data.dataloader.DataLoader at 0x7f5f6585bbb0>,\n",
       "  '3654087847388': <torch.utils.data.dataloader.DataLoader at 0x7f5f6585ca90>},\n",
       " 'test': {'3645713184967': <torch.utils.data.dataloader.DataLoader at 0x7f5f658f2670>,\n",
       "  '3646146362280': <torch.utils.data.dataloader.DataLoader at 0x7f5f658f92b0>,\n",
       "  '3646222772876': <torch.utils.data.dataloader.DataLoader at 0x7f5f658fb190>,\n",
       "  '3646321567215': <torch.utils.data.dataloader.DataLoader at 0x7f5f658ff070>,\n",
       "  '3646401671909': <torch.utils.data.dataloader.DataLoader at 0x7f5f658fffa0>,\n",
       "  '3646657276979': <torch.utils.data.dataloader.DataLoader at 0x7f5f65904e80>,\n",
       "  '3646747773987': <torch.utils.data.dataloader.DataLoader at 0x7f5f65905d60>,\n",
       "  '3646924284383': <torch.utils.data.dataloader.DataLoader at 0x7f5f6590bc40>,\n",
       "  '3647439534447': <torch.utils.data.dataloader.DataLoader at 0x7f5f65908b20>,\n",
       "  '3647531807425': <torch.utils.data.dataloader.DataLoader at 0x7f5f65912a00>,\n",
       "  '3647617982355': <torch.utils.data.dataloader.DataLoader at 0x7f5f658988b0>,\n",
       "  '3648051669051': <torch.utils.data.dataloader.DataLoader at 0x7f5f6589a790>,\n",
       "  '3648221742562': <torch.utils.data.dataloader.DataLoader at 0x7f5f6589d670>,\n",
       "  '3648475457626': <torch.utils.data.dataloader.DataLoader at 0x7f5f658a4550>,\n",
       "  '3648644839726': <torch.utils.data.dataloader.DataLoader at 0x7f5f658a83d0>,\n",
       "  '3649169411059': <torch.utils.data.dataloader.DataLoader at 0x7f5f658ad2b0>,\n",
       "  '3649252123347': <torch.utils.data.dataloader.DataLoader at 0x7f5f658af190>,\n",
       "  '3649689088057': <torch.utils.data.dataloader.DataLoader at 0x7f5f658b5070>,\n",
       "  '3649771255234': <torch.utils.data.dataloader.DataLoader at 0x7f5f658b5fa0>,\n",
       "  '3650037309346': <torch.utils.data.dataloader.DataLoader at 0x7f5f658b8e80>,\n",
       "  '3650459721914': <torch.utils.data.dataloader.DataLoader at 0x7f5f658bdd60>,\n",
       "  '3651417046988': <torch.utils.data.dataloader.DataLoader at 0x7f5f658bec40>,\n",
       "  '3652197206019': <torch.utils.data.dataloader.DataLoader at 0x7f5f658c2b20>,\n",
       "  '3652885366025': <torch.utils.data.dataloader.DataLoader at 0x7f5f658c7a00>,\n",
       "  '3653061170515': <torch.utils.data.dataloader.DataLoader at 0x7f5f658ce8b0>,\n",
       "  '3653226873615': <torch.utils.data.dataloader.DataLoader at 0x7f5f658d2790>,\n",
       "  '3653320713405': <torch.utils.data.dataloader.DataLoader at 0x7f5f658d3670>,\n",
       "  '3653578665399': <torch.utils.data.dataloader.DataLoader at 0x7f5f65858550>,\n",
       "  '3653924870701': <torch.utils.data.dataloader.DataLoader at 0x7f5f6585b3d0>,\n",
       "  '3654009687031': <torch.utils.data.dataloader.DataLoader at 0x7f5f6585c2b0>,\n",
       "  '3654087847388': <torch.utils.data.dataloader.DataLoader at 0x7f5f65861190>}}"
      ]
     },
     "execution_count": 10,
     "metadata": {},
     "output_type": "execute_result"
    }
   ],
   "source": [
    "dataloaders"
   ]
  },
  {
   "cell_type": "code",
   "execution_count": 11,
   "metadata": {},
   "outputs": [],
   "source": [
    "data_key = list(dataloaders[\"train\"].keys())[0]"
   ]
  },
  {
   "cell_type": "code",
   "execution_count": 14,
   "metadata": {},
   "outputs": [
    {
     "data": {
      "text/plain": [
       "<matplotlib.image.AxesImage at 0x7f5f498d98b0>"
      ]
     },
     "execution_count": 14,
     "metadata": {},
     "output_type": "execute_result"
    },
    {
     "data": {
      "image/png": "[encoded data removed]",
      "text/plain": [
       "<Figure size 432x288 with 1 Axes>"
      ]
     },
     "metadata": {
      "needs_background": "light"
     },
     "output_type": "display_data"
    }
   ],
   "source": [
    "# here's a random image. The images are cropped to be 20x20, so it trains fast for demo purposes.\n",
    "some_image = dataloaders[\"train\"][data_key].dataset[:].inputs[0,0,::].cpu().numpy()\n",
    "plt.imshow(some_image, cmap='gray')"
   ]
  },
  {
   "cell_type": "code",
   "execution_count": 15,
   "metadata": {},
   "outputs": [],
   "source": [
    "dataloader = dataloaders[\"train\"][data_key]"
   ]
  },
  {
   "cell_type": "code",
   "execution_count": 16,
   "metadata": {},
   "outputs": [
    {
     "name": "stdout",
     "output_type": "stream",
     "text": [
      "image_dimensions: torch.Size([64, 1, 67, 67])\n",
      "number of neurons of that session:  torch.Size([64, 14])\n"
     ]
    }
   ],
   "source": [
    "inputs, targets = next(iter(dataloader))\n",
    "print(\"image_dimensions:\", inputs.shape)\n",
    "print(\"number of neurons of that session: \", targets.shape)"
   ]
  },
  {
   "cell_type": "code",
   "execution_count": 18,
   "metadata": {},
   "outputs": [
    {
     "name": "stdout",
     "output_type": "stream",
     "text": [
      "torch.Size([11951, 1, 67, 67])\n"
     ]
    }
   ],
   "source": [
    "# input image dimension\n",
    "input_shape = dataloaders[\"train\"][data_key].dataset[:].inputs.shape\n",
    "print(input_shape)\n",
    "# total images = 16064\n",
    "# dims: N x C x W x H"
   ]
  },
  {
   "cell_type": "markdown",
   "metadata": {},
   "source": [
    "## Model Building"
   ]
  },
  {
   "cell_type": "markdown",
   "metadata": {},
   "source": [
    "Models are built using the neuralpredictors repo from sinzlab. They consist of a convolutional core (with a user-specified number of layers), and a readout (spatial transformer readout, described in Sinz et al, 2018, NeurIPS)."
   ]
  },
  {
   "cell_type": "markdown",
   "metadata": {},
   "source": [
    "### Building a model"
   ]
  },
  {
   "cell_type": "markdown",
   "metadata": {},
   "source": [
    "#### the best data driven monkey model"
   ]
  },
  {
   "cell_type": "code",
   "execution_count": 24,
   "metadata": {},
   "outputs": [
    {
     "name": "stdout",
     "output_type": "stream",
     "text": [
      "Encoder(\n",
      "  (core): SE2dCore(\n",
      "    (_input_weights_regularizer): LaplaceL2norm(\n",
      "      (laplace): Laplace()\n",
      "    )\n",
      "    (features): Sequential(\n",
      "      (layer0): Sequential(\n",
      "        (conv): Conv2d(1, 32, kernel_size=(15, 15), stride=(1, 1), bias=False)\n",
      "        (norm): BatchNorm2d(32, eps=1e-05, momentum=0.9, affine=True, track_running_stats=True)\n",
      "        (nonlin): ELU(alpha=1.0, inplace=True)\n",
      "      )\n",
      "      (layer1): Sequential(\n",
      "        (ds_conv): DepthSeparableConv2d(\n",
      "          (in_depth_conv): Conv2d(32, 32, kernel_size=(1, 1), stride=(1, 1), bias=False)\n",
      "          (spatial_conv): Conv2d(32, 32, kernel_size=(9, 9), stride=(1, 1), padding=(4, 4), groups=32, bias=False)\n",
      "          (out_depth_conv): Conv2d(32, 32, kernel_size=(1, 1), stride=(1, 1), bias=False)\n",
      "        )\n",
      "        (norm): BatchNorm2d(32, eps=1e-05, momentum=0.9, affine=True, track_running_stats=True)\n",
      "        (nonlin): ELU(alpha=1.0, inplace=True)\n",
      "      )\n",
      "      (layer2): Sequential(\n",
      "        (ds_conv): DepthSeparableConv2d(\n",
      "          (in_depth_conv): Conv2d(32, 32, kernel_size=(1, 1), stride=(1, 1), bias=False)\n",
      "          (spatial_conv): Conv2d(32, 32, kernel_size=(9, 9), stride=(1, 1), padding=(4, 4), groups=32, bias=False)\n",
      "          (out_depth_conv): Conv2d(32, 32, kernel_size=(1, 1), stride=(1, 1), bias=False)\n",
      "        )\n",
      "        (norm): BatchNorm2d(32, eps=1e-05, momentum=0.9, affine=True, track_running_stats=True)\n",
      "        (nonlin): ELU(alpha=1.0, inplace=True)\n",
      "      )\n",
      "      (layer3): Sequential(\n",
      "        (ds_conv): DepthSeparableConv2d(\n",
      "          (in_depth_conv): Conv2d(32, 32, kernel_size=(1, 1), stride=(1, 1), bias=False)\n",
      "          (spatial_conv): Conv2d(32, 32, kernel_size=(9, 9), stride=(1, 1), padding=(4, 4), groups=32, bias=False)\n",
      "          (out_depth_conv): Conv2d(32, 32, kernel_size=(1, 1), stride=(1, 1), bias=False)\n",
      "        )\n",
      "        (norm): BatchNorm2d(32, eps=1e-05, momentum=0.9, affine=True, track_running_stats=True)\n",
      "        (nonlin): ELU(alpha=1.0, inplace=True)\n",
      "      )\n",
      "      (layer4): Sequential(\n",
      "        (ds_conv): DepthSeparableConv2d(\n",
      "          (in_depth_conv): Conv2d(32, 32, kernel_size=(1, 1), stride=(1, 1), bias=False)\n",
      "          (spatial_conv): Conv2d(32, 32, kernel_size=(9, 9), stride=(1, 1), padding=(4, 4), groups=32, bias=False)\n",
      "          (out_depth_conv): Conv2d(32, 32, kernel_size=(1, 1), stride=(1, 1), bias=False)\n",
      "        )\n",
      "        (norm): BatchNorm2d(32, eps=1e-05, momentum=0.9, affine=True, track_running_stats=True)\n",
      "        (nonlin): ELU(alpha=1.0, inplace=True)\n",
      "      )\n",
      "      (layer5): Sequential(\n",
      "        (ds_conv): DepthSeparableConv2d(\n",
      "          (in_depth_conv): Conv2d(32, 32, kernel_size=(1, 1), stride=(1, 1), bias=False)\n",
      "          (spatial_conv): Conv2d(32, 32, kernel_size=(9, 9), stride=(1, 1), padding=(4, 4), groups=32, bias=False)\n",
      "          (out_depth_conv): Conv2d(32, 32, kernel_size=(1, 1), stride=(1, 1), bias=False)\n",
      "        )\n",
      "        (norm): BatchNorm2d(32, eps=1e-05, momentum=0.9, affine=True, track_running_stats=True)\n",
      "        (nonlin): ELU(alpha=1.0, inplace=True)\n",
      "      )\n",
      "    )\n",
      "  ) [SE2dCore regularizers: gamma_input = 10|skip = 0]\n",
      "  \n",
      "  (readout): MultipleFullGaussian2d(\n",
      "    (3645713184967): isotropic FullGaussian2d (32 x 53 x 53 -> 14) with bias\n",
      "    (3646146362280): isotropic FullGaussian2d (32 x 53 x 53 -> 7) with bias\n",
      "    (3646222772876): isotropic FullGaussian2d (32 x 53 x 53 -> 14) with bias\n",
      "    (3646321567215): isotropic FullGaussian2d (32 x 53 x 53 -> 6) with bias\n",
      "    (3646401671909): isotropic FullGaussian2d (32 x 53 x 53 -> 8) with bias\n",
      "    (3646657276979): isotropic FullGaussian2d (32 x 53 x 53 -> 11) with bias\n",
      "    (3646747773987): isotropic FullGaussian2d (32 x 53 x 53 -> 6) with bias\n",
      "    (3646924284383): isotropic FullGaussian2d (32 x 53 x 53 -> 2) with bias\n",
      "    (3647439534447): isotropic FullGaussian2d (32 x 53 x 53 -> 13) with bias\n",
      "    (3647531807425): isotropic FullGaussian2d (32 x 53 x 53 -> 12) with bias\n",
      "    (3647617982355): isotropic FullGaussian2d (32 x 53 x 53 -> 13) with bias\n",
      "    (3648051669051): isotropic FullGaussian2d (32 x 53 x 53 -> 9) with bias\n",
      "    (3648221742562): isotropic FullGaussian2d (32 x 53 x 53 -> 9) with bias\n",
      "    (3648475457626): isotropic FullGaussian2d (32 x 53 x 53 -> 4) with bias\n",
      "    (3648644839726): isotropic FullGaussian2d (32 x 53 x 53 -> 7) with bias\n",
      "    (3649169411059): isotropic FullGaussian2d (32 x 53 x 53 -> 6) with bias\n",
      "    (3649252123347): isotropic FullGaussian2d (32 x 53 x 53 -> 9) with bias\n",
      "    (3649689088057): isotropic FullGaussian2d (32 x 53 x 53 -> 6) with bias\n",
      "    (3649771255234): isotropic FullGaussian2d (32 x 53 x 53 -> 3) with bias\n",
      "    (3650037309346): isotropic FullGaussian2d (32 x 53 x 53 -> 6) with bias\n",
      "    (3650459721914): isotropic FullGaussian2d (32 x 53 x 53 -> 11) with bias\n",
      "    (3651417046988): isotropic FullGaussian2d (32 x 53 x 53 -> 2) with bias\n",
      "    (3652197206019): isotropic FullGaussian2d (32 x 53 x 53 -> 18) with bias\n",
      "    (3652885366025): isotropic FullGaussian2d (32 x 53 x 53 -> 10) with bias\n",
      "    (3653061170515): isotropic FullGaussian2d (32 x 53 x 53 -> 14) with bias\n",
      "    (3653226873615): isotropic FullGaussian2d (32 x 53 x 53 -> 3) with bias\n",
      "    (3653320713405): isotropic FullGaussian2d (32 x 53 x 53 -> 10) with bias\n",
      "    (3653578665399): isotropic FullGaussian2d (32 x 53 x 53 -> 5) with bias\n",
      "    (3653924870701): isotropic FullGaussian2d (32 x 53 x 53 -> 3) with bias\n",
      "    (3654009687031): isotropic FullGaussian2d (32 x 53 x 53 -> 2) with bias\n",
      "    (3654087847388): isotropic FullGaussian2d (32 x 53 x 53 -> 11) with bias\n",
      "  )\n",
      ")\n"
     ]
    }
   ],
   "source": [
    "model_fn = 'nnvision.models.se_core_full_gauss_readout'\n",
    "model_config = {'pad_input': False,\n",
    "  'gauss_type': 'isotropic',\n",
    "  'gamma_readout': 0.43,\n",
    "  'gamma_input': 10,\n",
    "  'layers': 6,\n",
    "  'depth_separable': True,\n",
    "  'n_se_blocks': 0,\n",
    "  'stack': -1,\n",
    "  'input_kern': 15,\n",
    "  'hidden_kern': 9,\n",
    "  'hidden_channels': 32,\n",
    "  'init_mu_range': 0.1780563002765732,\n",
    "  'init_sigma': 0.5851238789405838}\n",
    "\n",
    "\n",
    "model = builder.get_model(model_fn, model_config, dataloaders=dataloaders,seed=1000)\n",
    "print(model)"
   ]
  },
  {
   "cell_type": "markdown",
   "metadata": {},
   "source": [
    "### the best mouse model with attention core (from the hyper search of a few weeks ago)"
   ]
  },
  {
   "cell_type": "code",
   "execution_count": 28,
   "metadata": {},
   "outputs": [],
   "source": [
    "model_fn = 'nndichromacy.models.se_core_full_gauss_readout'\n",
    "model_config = {'pad_input': False,\n",
    "   'stack': -1,\n",
    "   'input_kern': 9,\n",
    "   'hidden_dilation': 1,\n",
    "   'n_se_blocks': 0,\n",
    "   'depth_separable': False,\n",
    "   'attention_conv': True,\n",
    "   'share_features': False,\n",
    "   'share_grid': False,\n",
    "   'init_sigma': 0.1,\n",
    "   'init_mu_range': 0.3,\n",
    "   'gauss_type': 'full',\n",
    "   'gamma_readout': 0.012060713874543235,\n",
    "   'gamma_input': 0.1679565228206452,\n",
    "   'hidden_kern': 3,\n",
    "   'layers': 4,\n",
    "   'hidden_channels': 64}"
   ]
  },
  {
   "cell_type": "code",
   "execution_count": 30,
   "metadata": {},
   "outputs": [
    {
     "name": "stdout",
     "output_type": "stream",
     "text": [
      "Encoder(\n",
      "  (core): SE2dCore(\n",
      "    (_input_weights_regularizer): LaplaceL2norm(\n",
      "      (laplace): Laplace()\n",
      "    )\n",
      "    (features): Sequential(\n",
      "      (layer0): Sequential(\n",
      "        (conv): Conv2d(1, 64, kernel_size=(9, 9), stride=(1, 1), bias=False)\n",
      "        (norm): BatchNorm2d(64, eps=1e-05, momentum=0.9, affine=True, track_running_stats=True)\n",
      "        (nonlin): ELU(alpha=1.0, inplace=True)\n",
      "      )\n",
      "      (layer1): Sequential(\n",
      "        (conv): AttentionConv(\n",
      "          (key_conv): Conv2d(64, 64, kernel_size=(1, 1), stride=(1, 1), bias=False)\n",
      "          (query_conv): Conv2d(64, 64, kernel_size=(1, 1), stride=(1, 1), bias=False)\n",
      "          (value_conv): Conv2d(64, 64, kernel_size=(1, 1), stride=(1, 1), bias=False)\n",
      "        )\n",
      "        (norm): BatchNorm2d(64, eps=1e-05, momentum=0.9, affine=True, track_running_stats=True)\n",
      "        (nonlin): ELU(alpha=1.0, inplace=True)\n",
      "      )\n",
      "      (layer2): Sequential(\n",
      "        (conv): AttentionConv(\n",
      "          (key_conv): Conv2d(64, 64, kernel_size=(1, 1), stride=(1, 1), bias=False)\n",
      "          (query_conv): Conv2d(64, 64, kernel_size=(1, 1), stride=(1, 1), bias=False)\n",
      "          (value_conv): Conv2d(64, 64, kernel_size=(1, 1), stride=(1, 1), bias=False)\n",
      "        )\n",
      "        (norm): BatchNorm2d(64, eps=1e-05, momentum=0.9, affine=True, track_running_stats=True)\n",
      "        (nonlin): ELU(alpha=1.0, inplace=True)\n",
      "      )\n",
      "      (layer3): Sequential(\n",
      "        (conv): AttentionConv(\n",
      "          (key_conv): Conv2d(64, 64, kernel_size=(1, 1), stride=(1, 1), bias=False)\n",
      "          (query_conv): Conv2d(64, 64, kernel_size=(1, 1), stride=(1, 1), bias=False)\n",
      "          (value_conv): Conv2d(64, 64, kernel_size=(1, 1), stride=(1, 1), bias=False)\n",
      "        )\n",
      "        (norm): BatchNorm2d(64, eps=1e-05, momentum=0.9, affine=True, track_running_stats=True)\n",
      "        (nonlin): ELU(alpha=1.0, inplace=True)\n",
      "      )\n",
      "    )\n",
      "  ) [SE2dCore regularizers: gamma_input = 0.1679565228206452|skip = 0]\n",
      "  \n",
      "  (readout): MultipleFullGaussian2d(\n",
      "    (3645713184967): full FullGaussian2d (64 x 59 x 59 -> 14) with bias\n",
      "    (3646146362280): full FullGaussian2d (64 x 59 x 59 -> 7) with bias\n",
      "    (3646222772876): full FullGaussian2d (64 x 59 x 59 -> 14) with bias\n",
      "    (3646321567215): full FullGaussian2d (64 x 59 x 59 -> 6) with bias\n",
      "    (3646401671909): full FullGaussian2d (64 x 59 x 59 -> 8) with bias\n",
      "    (3646657276979): full FullGaussian2d (64 x 59 x 59 -> 11) with bias\n",
      "    (3646747773987): full FullGaussian2d (64 x 59 x 59 -> 6) with bias\n",
      "    (3646924284383): full FullGaussian2d (64 x 59 x 59 -> 2) with bias\n",
      "    (3647439534447): full FullGaussian2d (64 x 59 x 59 -> 13) with bias\n",
      "    (3647531807425): full FullGaussian2d (64 x 59 x 59 -> 12) with bias\n",
      "    (3647617982355): full FullGaussian2d (64 x 59 x 59 -> 13) with bias\n",
      "    (3648051669051): full FullGaussian2d (64 x 59 x 59 -> 9) with bias\n",
      "    (3648221742562): full FullGaussian2d (64 x 59 x 59 -> 9) with bias\n",
      "    (3648475457626): full FullGaussian2d (64 x 59 x 59 -> 4) with bias\n",
      "    (3648644839726): full FullGaussian2d (64 x 59 x 59 -> 7) with bias\n",
      "    (3649169411059): full FullGaussian2d (64 x 59 x 59 -> 6) with bias\n",
      "    (3649252123347): full FullGaussian2d (64 x 59 x 59 -> 9) with bias\n",
      "    (3649689088057): full FullGaussian2d (64 x 59 x 59 -> 6) with bias\n",
      "    (3649771255234): full FullGaussian2d (64 x 59 x 59 -> 3) with bias\n",
      "    (3650037309346): full FullGaussian2d (64 x 59 x 59 -> 6) with bias\n",
      "    (3650459721914): full FullGaussian2d (64 x 59 x 59 -> 11) with bias\n",
      "    (3651417046988): full FullGaussian2d (64 x 59 x 59 -> 2) with bias\n",
      "    (3652197206019): full FullGaussian2d (64 x 59 x 59 -> 18) with bias\n",
      "    (3652885366025): full FullGaussian2d (64 x 59 x 59 -> 10) with bias\n",
      "    (3653061170515): full FullGaussian2d (64 x 59 x 59 -> 14) with bias\n",
      "    (3653226873615): full FullGaussian2d (64 x 59 x 59 -> 3) with bias\n",
      "    (3653320713405): full FullGaussian2d (64 x 59 x 59 -> 10) with bias\n",
      "    (3653578665399): full FullGaussian2d (64 x 59 x 59 -> 5) with bias\n",
      "    (3653924870701): full FullGaussian2d (64 x 59 x 59 -> 3) with bias\n",
      "    (3654009687031): full FullGaussian2d (64 x 59 x 59 -> 2) with bias\n",
      "    (3654087847388): full FullGaussian2d (64 x 59 x 59 -> 11) with bias\n",
      "  )\n",
      ")\n"
     ]
    }
   ],
   "source": [
    "model = builder.get_model(model_fn, model_config, dataloaders=dataloaders,seed=1000)\n",
    "print(model)"
   ]
  },
  {
   "cell_type": "code",
   "execution_count": 31,
   "metadata": {},
   "outputs": [],
   "source": [
    "trainer_fn = 'nnvision.training.trainers.nnvision_trainer'\n",
    "trainer_config = {'stop_function': 'get_poisson_loss',\n",
    "                   'maximize': False,\n",
    "                   'avg_loss': False,\n",
    "                   'device': 'cuda',\n",
    "                   'max_iter': 100,\n",
    "                   'lr_init': 0.005,\n",
    "                   'lr_decay_steps': 4,\n",
    "                   'patience': 3,\n",
    "                   'verbose': True,\n",
    "                 }\n",
    "trainer = builder.get_trainer(trainer_fn, trainer_config)"
   ]
  },
  {
   "cell_type": "code",
   "execution_count": 32,
   "metadata": {},
   "outputs": [
    {
     "name": "stderr",
     "output_type": "stream",
     "text": [
      "Epoch 1:   2%|▏         | 143/6665 [00:49<37:22,  2.91it/s]\n"
     ]
    },
    {
     "ename": "KeyboardInterrupt",
     "evalue": "",
     "output_type": "error",
     "traceback": [
      "\u001b[0;31m---------------------------------------------------------------------------\u001b[0m",
      "\u001b[0;31mKeyboardInterrupt\u001b[0m                         Traceback (most recent call last)",
      "\u001b[0;32m<ipython-input-32-6043af48b5b8>\u001b[0m in \u001b[0;36m<module>\u001b[0;34m\u001b[0m\n\u001b[0;32m----> 1\u001b[0;31m \u001b[0mout\u001b[0m \u001b[0;34m=\u001b[0m \u001b[0mtrainer\u001b[0m\u001b[0;34m(\u001b[0m\u001b[0mmodel\u001b[0m\u001b[0;34m,\u001b[0m \u001b[0mdataloaders\u001b[0m\u001b[0;34m,\u001b[0m \u001b[0mseed\u001b[0m\u001b[0;34m=\u001b[0m\u001b[0;36m987654321\u001b[0m\u001b[0;34m)\u001b[0m\u001b[0;34m\u001b[0m\u001b[0;34m\u001b[0m\u001b[0m\n\u001b[0m",
      "\u001b[0;32m/src/nnvision/nnvision/training/trainers.py\u001b[0m in \u001b[0;36mnnvision_trainer\u001b[0;34m(model, dataloaders, seed, avg_loss, scale_loss, loss_function, stop_function, loss_accum_batch_n, device, verbose, interval, patience, epoch, lr_init, max_iter, maximize, tolerance, restore_best, lr_decay_steps, lr_decay_factor, min_lr, cb, track_training, return_test_score, **kwargs)\u001b[0m\n\u001b[1;32m    121\u001b[0m                                                desc=\"Epoch {}\".format(epoch)):\n\u001b[1;32m    122\u001b[0m \u001b[0;34m\u001b[0m\u001b[0m\n\u001b[0;32m--> 123\u001b[0;31m             \u001b[0mloss\u001b[0m \u001b[0;34m=\u001b[0m \u001b[0mfull_objective\u001b[0m\u001b[0;34m(\u001b[0m\u001b[0mmodel\u001b[0m\u001b[0;34m,\u001b[0m \u001b[0mdataloaders\u001b[0m\u001b[0;34m[\u001b[0m\u001b[0;34m\"train\"\u001b[0m\u001b[0;34m]\u001b[0m\u001b[0;34m,\u001b[0m \u001b[0mdata_key\u001b[0m\u001b[0;34m,\u001b[0m \u001b[0;34m*\u001b[0m\u001b[0mdata\u001b[0m\u001b[0;34m)\u001b[0m\u001b[0;34m\u001b[0m\u001b[0;34m\u001b[0m\u001b[0m\n\u001b[0m\u001b[1;32m    124\u001b[0m             \u001b[0mloss\u001b[0m\u001b[0;34m.\u001b[0m\u001b[0mbackward\u001b[0m\u001b[0;34m(\u001b[0m\u001b[0;34m)\u001b[0m\u001b[0;34m\u001b[0m\u001b[0;34m\u001b[0m\u001b[0m\n\u001b[1;32m    125\u001b[0m             \u001b[0;32mif\u001b[0m \u001b[0;34m(\u001b[0m\u001b[0mbatch_no\u001b[0m \u001b[0;34m+\u001b[0m \u001b[0;36m1\u001b[0m\u001b[0;34m)\u001b[0m \u001b[0;34m%\u001b[0m \u001b[0moptim_step_count\u001b[0m \u001b[0;34m==\u001b[0m \u001b[0;36m0\u001b[0m\u001b[0;34m:\u001b[0m\u001b[0;34m\u001b[0m\u001b[0;34m\u001b[0m\u001b[0m\n",
      "\u001b[0;32m/src/nnvision/nnvision/training/trainers.py\u001b[0m in \u001b[0;36mfull_objective\u001b[0;34m(model, dataloader, data_key, *args)\u001b[0m\n\u001b[1;32m     69\u001b[0m         \"\"\"\n\u001b[1;32m     70\u001b[0m         \u001b[0mloss_scale\u001b[0m \u001b[0;34m=\u001b[0m \u001b[0mnp\u001b[0m\u001b[0;34m.\u001b[0m\u001b[0msqrt\u001b[0m\u001b[0;34m(\u001b[0m\u001b[0mlen\u001b[0m\u001b[0;34m(\u001b[0m\u001b[0mdataloader\u001b[0m\u001b[0;34m[\u001b[0m\u001b[0mdata_key\u001b[0m\u001b[0;34m]\u001b[0m\u001b[0;34m.\u001b[0m\u001b[0mdataset\u001b[0m\u001b[0;34m)\u001b[0m \u001b[0;34m/\u001b[0m \u001b[0margs\u001b[0m\u001b[0;34m[\u001b[0m\u001b[0;36m0\u001b[0m\u001b[0;34m]\u001b[0m\u001b[0;34m.\u001b[0m\u001b[0mshape\u001b[0m\u001b[0;34m[\u001b[0m\u001b[0;36m0\u001b[0m\u001b[0;34m]\u001b[0m\u001b[0;34m)\u001b[0m \u001b[0;32mif\u001b[0m \u001b[0mscale_loss\u001b[0m \u001b[0;32melse\u001b[0m \u001b[0;36m1.0\u001b[0m\u001b[0;34m\u001b[0m\u001b[0;34m\u001b[0m\u001b[0m\n\u001b[0;32m---> 71\u001b[0;31m         \u001b[0;32mreturn\u001b[0m \u001b[0mloss_scale\u001b[0m \u001b[0;34m*\u001b[0m \u001b[0mcriterion\u001b[0m\u001b[0;34m(\u001b[0m\u001b[0mmodel\u001b[0m\u001b[0;34m(\u001b[0m\u001b[0margs\u001b[0m\u001b[0;34m[\u001b[0m\u001b[0;36m0\u001b[0m\u001b[0;34m]\u001b[0m\u001b[0;34m.\u001b[0m\u001b[0mto\u001b[0m\u001b[0;34m(\u001b[0m\u001b[0mdevice\u001b[0m\u001b[0;34m)\u001b[0m\u001b[0;34m,\u001b[0m \u001b[0mdata_key\u001b[0m\u001b[0;34m=\u001b[0m\u001b[0mdata_key\u001b[0m\u001b[0;34m)\u001b[0m\u001b[0;34m,\u001b[0m \u001b[0margs\u001b[0m\u001b[0;34m[\u001b[0m\u001b[0;36m1\u001b[0m\u001b[0;34m]\u001b[0m\u001b[0;34m.\u001b[0m\u001b[0mto\u001b[0m\u001b[0;34m(\u001b[0m\u001b[0mdevice\u001b[0m\u001b[0;34m)\u001b[0m\u001b[0;34m)\u001b[0m\u001b[0;31m \u001b[0m\u001b[0;31m\\\u001b[0m\u001b[0;34m\u001b[0m\u001b[0;34m\u001b[0m\u001b[0m\n\u001b[0m\u001b[1;32m     72\u001b[0m                \u001b[0;34m+\u001b[0m \u001b[0mmodel\u001b[0m\u001b[0;34m.\u001b[0m\u001b[0mregularizer\u001b[0m\u001b[0;34m(\u001b[0m\u001b[0mdata_key\u001b[0m\u001b[0;34m)\u001b[0m\u001b[0;34m\u001b[0m\u001b[0;34m\u001b[0m\u001b[0m\n\u001b[1;32m     73\u001b[0m \u001b[0;34m\u001b[0m\u001b[0m\n",
      "\u001b[0;31mKeyboardInterrupt\u001b[0m: "
     ]
    }
   ],
   "source": [
    "out = trainer(model, dataloaders, seed=987654321)"
   ]
  },
  {
   "cell_type": "code",
   "execution_count": null,
   "metadata": {},
   "outputs": [],
   "source": []
  }
 ],
 "metadata": {
  "kernelspec": {
   "display_name": "Python 3",
   "language": "python",
   "name": "python3"
  },
  "language_info": {
   "codemirror_mode": {
    "name": "ipython",
    "version": 3
   },
   "file_extension": ".py",
   "mimetype": "text/x-python",
   "name": "python",
   "nbconvert_exporter": "python",
   "pygments_lexer": "ipython3",
   "version": "3.8.0"
  }
 },
 "nbformat": 4,
 "nbformat_minor": 4
}
