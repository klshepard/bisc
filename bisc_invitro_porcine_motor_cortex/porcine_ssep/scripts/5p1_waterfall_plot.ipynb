{
 "cells": [
  {
   "cell_type": "code",
   "execution_count": null,
   "metadata": {},
   "outputs": [],
   "source": [
    "\"\"\" import settings \"\"\"\n",
    "%load_ext autoreload\n",
    "%autoreload 2\n",
    "\n",
    "import numpy as np\n",
    "from matplotlib import pyplot as plt\n",
    "from matplotlib_settings import set_plot_settings, reset_plot_settings\n",
    "\n",
    "# Set the plot settings\n",
    "set_plot_settings()\n",
    "\n",
    "# import global variables\n",
    "from utils_ssep_global import *"
   ]
  },
  {
   "cell_type": "code",
   "execution_count": null,
   "metadata": {},
   "outputs": [],
   "source": [
    "\"\"\" load data, define static params \"\"\"\n",
    "# load bad channel\n",
    "bad_ch_idx_dir = f'{DATA_DIR}/1_bad_channels'\n",
    "bad_chs = np.load(f\"{bad_ch_idx_dir}/bad_ch_idx.npy\")\n",
    "\n",
    "# load downsampled data\n",
    "fs, Ts = FS/RS, TS*RS\n",
    "ds_data_dir = f'{DATA_DIR}/5_downsample'\n",
    "t = np.load(f\"{ds_data_dir}/t_{RS}.npy\")\n",
    "\n",
    "# SSEP index\n",
    "sep_idxs = np.where(np.logical_and(t > SEP_T0, t < SEP_T1))[0]\n",
    "\n",
    "# Baseline index\n",
    "baseline_idxs = np.where(np.logical_and(t > BASELINE_T0, t < BASELINE_T1))[0]"
   ]
  },
  {
   "cell_type": "markdown",
   "metadata": {},
   "source": [
    "Choose a \"stim_site\""
   ]
  },
  {
   "cell_type": "code",
   "execution_count": null,
   "metadata": {},
   "outputs": [],
   "source": [
    "# 0: Median Nerve\n",
    "# 1: Snout Lateral\n",
    "# 2: Snout Superior\n",
    "# 3: Snout Medial\n",
    "# 4: Snout Inferior\n",
    "stim_site = 3 # pick from 0, 1, 2, 3, 4. "
   ]
  },
  {
   "cell_type": "code",
   "execution_count": null,
   "metadata": {},
   "outputs": [],
   "source": [
    "\"\"\" load segmentized recording \"\"\"\n",
    "min_trial = 100 # number of trials to average over\n",
    "\n",
    "# load data\n",
    "fn_label = STIM_LABELS[stim_site].replace(\" \", \"_\").lower()\n",
    "ds_segs = np.load(f\"{ds_data_dir}/{fn_label}_ds_{RS}_segs.npy\")\n",
    "vtc = np.load(f\"{ds_data_dir}/{fn_label}_valid_trial_count.npy\")"
   ]
  },
  {
   "cell_type": "code",
   "execution_count": null,
   "metadata": {},
   "outputs": [],
   "source": [
    "\"\"\" channel recording averaged over a fixed number of trials \"\"\"\n",
    "ch_means = np.full((ds_segs.shape[0], ds_segs.shape[2]), np.nan)  # dimension: ch*time\n",
    "\n",
    "# channels with insufficient valid trials will be discarded\n",
    "disqualified_chs = np.where(vtc < min_trial)[0]\n",
    "\n",
    "for ch, ch_data in enumerate(ds_segs):\n",
    "    if ch in bad_chs or ch in disqualified_chs:\n",
    "        continue\n",
    "\n",
    "    count = 0\n",
    "    ch_mean = np.zeros((ch_data.shape[1],))\n",
    "    for trial_data in ch_data:\n",
    "        if np.any(np.isnan(trial_data)): # if any data point is saturated\n",
    "            continue\n",
    "\n",
    "        ch_mean += trial_data\n",
    "        count += 1\n",
    "        if count == min_trial:\n",
    "            break\n",
    "\n",
    "    assert count == min_trial\n",
    "    ch_mean = ch_mean/min_trial\n",
    "\n",
    "    # apply baseline correction\n",
    "    ch_means[ch] = ch_mean - np.mean(ch_mean[baseline_idxs])"
   ]
  },
  {
   "cell_type": "code",
   "execution_count": null,
   "metadata": {},
   "outputs": [],
   "source": [
    "\"\"\" Channel recordings will be arranged according to their \"peak\" SSEP voltage \"\"\"\n",
    "maxs = np.nanmax(ch_means[:,sep_idxs], axis=1)\n",
    "mins = np.nanmin(ch_means[:,sep_idxs], axis=1)\n",
    "\n",
    "# peak-to-peak amplitude\n",
    "p2pks = maxs - mins\n",
    "max_p2pk_ch =  np.nanargmax(p2pks) # channel with maximum peak-to-peak\n",
    "max_p2pk_row, max_p2pk_col = max_p2pk_ch//16, max_p2pk_ch%16\n",
    "print(max_p2pk_row, max_p2pk_col)\n",
    "\n",
    "# peak amplitude\n",
    "pks = np.zeros((NCH, 2))\n",
    "for ch, (vmax, vmin) in enumerate(zip(maxs, mins)):\n",
    "    pks[ch,1] = ch\n",
    "    if np.isnan(vmax) or np.isnan(vmin):\n",
    "        pks[ch,0] = np.nan\n",
    "        continue\n",
    "    if vmax > -vmin:\n",
    "        pks[ch,0] = vmax\n",
    "    else:\n",
    "        pks[ch,0] = vmin\n",
    "\n",
    "# sort by peak\n",
    "peak_sort = np.delete(pks, np.where(np.isnan(pks)), axis=0)\n",
    "peak_sort_idxs = np.argsort(peak_sort[:,0])[::-1] # reverse\n",
    "peak_sort = peak_sort[peak_sort_idxs]\n",
    "\n",
    "# fig, ax = plt.subplots(figsize=(3,1))\n",
    "# ax.plot(peak_sort[:,0])"
   ]
  },
  {
   "cell_type": "markdown",
   "metadata": {},
   "source": [
    "Generate Waterfall Plot"
   ]
  },
  {
   "cell_type": "code",
   "execution_count": null,
   "metadata": {},
   "outputs": [],
   "source": [
    "from utils_ssep_plot import plot_waterfall\n",
    "# std_devs = np.nanstd(ch_means[:,sep_idxs], axis=1)\n",
    "\n",
    "t0, t1 = -50e-3, 100e-3 # plot range\n",
    "\n",
    "sort_chs = peak_sort[:,1].astype(int)\n",
    "voff = 10 # vertical offset between channels\n",
    "\n",
    "# convert bits to voltage\n",
    "plot_data = ch_means*FS_ADC/MAX_ADC_CODE/GAIN/1e-6\n",
    "\n",
    "num_good_ch = 256 - np.sum((vtc < min_trial).astype(int))\n",
    "title_str = f'N = {min_trial}, nch = {num_good_ch}\\n'\n",
    "if stim_site == 0:\n",
    "    title_str += 'Median Nerve'\n",
    "else:\n",
    "    title_str += STIM_LABELS[stim_site]\n",
    "\n",
    "\n",
    "plt.close('all')\n",
    "figsize = (4.5, 12)\n",
    "fig, ax = plt.subplots(figsize=figsize)\n",
    "plot_waterfall(ax, t, plot_data, sort_chs, t0, t1, voff, sel_detrend =True,\n",
    "               title_str=title_str)\n",
    "\n",
    "\n",
    "# save_dir = './figures/ssep/waterfall'\n",
    "# save_fn = f'{fn_label}_waterfall'\n",
    "# plt.savefig(f\"{save_dir}./{save_fn}.svg\", bbox_inches='tight')\n",
    "# plt.savefig(f\"{save_dir}./{save_fn}.png\", bbox_inches='tight', dpi=1200)"
   ]
  },
  {
   "cell_type": "code",
   "execution_count": null,
   "metadata": {},
   "outputs": [],
   "source": []
  }
 ],
 "metadata": {
  "kernelspec": {
   "display_name": ".venv",
   "language": "python",
   "name": "python3"
  },
  "language_info": {
   "codemirror_mode": {
    "name": "ipython",
    "version": 3
   },
   "file_extension": ".py",
   "mimetype": "text/x-python",
   "name": "python",
   "nbconvert_exporter": "python",
   "pygments_lexer": "ipython3",
   "version": "3.10.0"
  },
  "vscode": {
   "interpreter": {
    "hash": "d955faee816db44f0a85e254d00ad008273b576d6dbe16759b0bc5b99bc5dcbd"
   }
  }
 },
 "nbformat": 4,
 "nbformat_minor": 4
}
