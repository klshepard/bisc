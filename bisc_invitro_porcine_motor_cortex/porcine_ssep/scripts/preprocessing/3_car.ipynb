{
 "cells": [
  {
   "cell_type": "code",
   "execution_count": null,
   "metadata": {},
   "outputs": [],
   "source": [
    "\"\"\" import settings \"\"\"\n",
    "%load_ext autoreload\n",
    "%autoreload 2\n",
    "\n",
    "import os\n",
    "import numpy as np\n",
    "import scipy\n",
    "\n",
    "from matplotlib import pyplot as plt\n",
    "from matplotlib_settings import set_plot_settings, reset_plot_settings\n",
    "\n",
    "# Set the plot settings\n",
    "set_plot_settings()\n",
    "\n",
    "# import global variables\n",
    "from utils_ssep_global import *"
   ]
  },
  {
   "cell_type": "code",
   "execution_count": null,
   "metadata": {},
   "outputs": [],
   "source": [
    "\"\"\" load data, define static params \"\"\"\n",
    "# load bad channel\n",
    "bad_ch_idx_dir = f'{DATA_DIR}/1_bad_channels'\n",
    "bad_chs = np.load(f\"{bad_ch_idx_dir}/bad_ch_idx.npy\")\n",
    "\n",
    "# load segmentized data\n",
    "seg_data_dir = f'{DATA_DIR}/2_segmentized'\n",
    "t = np.load(f\"{seg_data_dir}/t.npy\")\n",
    "\n",
    "# SSEP index\n",
    "sep_idxs = np.where(np.logical_and(t > SEP_T0, t < SEP_T1))[0]\n",
    "# Baseline index\n",
    "baseline_idxs = np.where(np.logical_and(t > BASELINE_T0, t < BASELINE_T1))[0]\n",
    "\n",
    "# save to this directory\n",
    "save_dir = f'{DATA_DIR}/3_car'\n",
    "if not os.path.exists(save_dir):\n",
    "   os.makedirs(save_dir)"
   ]
  },
  {
   "cell_type": "markdown",
   "metadata": {},
   "source": [
    "Select channels to be used for CAR"
   ]
  },
  {
   "cell_type": "code",
   "execution_count": null,
   "metadata": {},
   "outputs": [],
   "source": [
    "\"\"\" First, exclude unstable channels \"\"\"\n",
    "# fetch number of valid trials\n",
    "valid_trial_counts = []\n",
    "for stim_site in range(N_SITES):\n",
    "    fn_label = STIM_LABELS[stim_site].replace(\" \", \"_\").lower()\n",
    "    vtc = np.load(f\"{DATA_DIR}/2_segmentized/{fn_label}_valid_trial_count.npy\")\n",
    "    valid_trial_counts.append(vtc)\n",
    "\n",
    "# channels with not enough valid trials. exclusive with bad_ch\n",
    "unstable_chs = []\n",
    "\n",
    "for vtc in valid_trial_counts:\n",
    "    n_total = np.max(vtc)\n",
    "    for ch, count in enumerate(vtc):\n",
    "        if ch in unstable_chs or ch in bad_chs:\n",
    "            continue\n",
    "        if count < n_total*STABLE_PROP_THRESH:\n",
    "            unstable_chs.append(ch)\n",
    "\n",
    "unstable_chs = np.array(unstable_chs)\n",
    "\n",
    "# plot\n",
    "# fig, ax = plt.subplots(figsize=(3,3))\n",
    "# z = np.zeros((NCH,))\n",
    "# z[unstable_chs] = 1\n",
    "# ax.imshow(z.reshape(16, -1))\n",
    "# ax.set_title('unstable channels')"
   ]
  },
  {
   "cell_type": "code",
   "execution_count": null,
   "metadata": {},
   "outputs": [],
   "source": [
    "\"\"\" for each SSEP, fetch channel RMS \"\"\"\n",
    "sep_rms = [[] for _ in range(NCH)]\n",
    "for stim_site in range(N_SITES):\n",
    "    fn_label = STIM_LABELS[stim_site].replace(\" \", \"_\").lower()\n",
    "    raw_segs = np.load(f\"{seg_data_dir}/{fn_label}_raw_segs.npy\")\n",
    "\n",
    "    for ch, ch_data in enumerate(raw_segs):\n",
    "        for trial, trial_data in enumerate(ch_data):\n",
    "            if ch in bad_chs or ch in unstable_chs:\n",
    "                sep_rms[ch].append(np.nan)\n",
    "            elif np.isnan(trial_data[0]):\n",
    "                sep_rms[ch].append(np.nan)\n",
    "            else:\n",
    "                sep_rms[ch].append(np.std(trial_data[sep_idxs]))\n",
    "\n",
    "sep_rms = np.array(sep_rms)\n",
    "np.save(f'{save_dir}/sep_rms.npy', sep_rms)"
   ]
  },
  {
   "cell_type": "code",
   "execution_count": null,
   "metadata": {},
   "outputs": [],
   "source": [
    "\"\"\" find channels with lowest RMS \"\"\"\n",
    "# sep_rms = np.load(f'{save_dir}/sep_rms.npz')['arr_0']\n",
    "ch_rms = np.nanmean(sep_rms, axis=1)\n",
    "car_chs = np.argsort(ch_rms)[:N_CAR_CH]\n",
    "np.save(f'{save_dir}/car_chs.npy', car_chs)\n",
    "\n",
    "print(car_chs)\n",
    "\n",
    "# plot\n",
    "# fig, ax = plt.subplots(1, 2)\n",
    "# z = np.zeros((NCH,))\n",
    "# z[car_chs] = 1\n",
    "# ax[0].imshow(ch_rms.reshape(16, -1))\n",
    "# ax[1].imshow(z.reshape(16, -1))\n",
    "\n",
    "# ax[0].set_title('RMS')\n",
    "# ax[1].set_title('CAR Channels')"
   ]
  },
  {
   "cell_type": "markdown",
   "metadata": {},
   "source": [
    "Re-reference all data using common reference"
   ]
  },
  {
   "cell_type": "code",
   "execution_count": null,
   "metadata": {},
   "outputs": [],
   "source": [
    "\"\"\" Re-reference all data \"\"\"\n",
    "for stim_site in range(N_SITES):\n",
    "    fn_label = STIM_LABELS[stim_site].replace(\" \", \"_\").lower()\n",
    "    raw_segs = np.load(f\"{seg_data_dir}/{fn_label}_raw_segs.npy\")\n",
    "\n",
    "    # rearrange the dimensions to (trials, channels, time points)\n",
    "    cmr_segs = np.transpose(raw_segs, (1, 0, 2))    \n",
    "\n",
    "    cars = []\n",
    "    for trial_data in cmr_segs:\n",
    "        car = np.nanmean(trial_data[car_chs], axis=0)\n",
    "        for ch_data in trial_data:\n",
    "            if np.isnan(ch_data[0]):\n",
    "                continue\n",
    "            ch_data -= car\n",
    "        cars.append(car)\n",
    "\n",
    "    cars = np.array(cars)\n",
    "    mean_car = np.nanmean(cars, axis=0)\n",
    "\n",
    "    # revert arrangement\n",
    "    cmr_segs = np.transpose(cmr_segs, (1, 0, 2))\n",
    "\n",
    "    np.save(f'{save_dir}/{fn_label}_mean_car.npy', mean_car)\n",
    "    np.save(f'{save_dir}/{fn_label}_cmr_segs.npy', cmr_segs)"
   ]
  }
 ],
 "metadata": {
  "kernelspec": {
   "display_name": ".venv",
   "language": "python",
   "name": "python3"
  },
  "language_info": {
   "codemirror_mode": {
    "name": "ipython",
    "version": 3
   },
   "file_extension": ".py",
   "mimetype": "text/x-python",
   "name": "python",
   "nbconvert_exporter": "python",
   "pygments_lexer": "ipython3",
   "version": "3.10.0"
  },
  "vscode": {
   "interpreter": {
    "hash": "d955faee816db44f0a85e254d00ad008273b576d6dbe16759b0bc5b99bc5dcbd"
   }
  }
 },
 "nbformat": 4,
 "nbformat_minor": 4
}
