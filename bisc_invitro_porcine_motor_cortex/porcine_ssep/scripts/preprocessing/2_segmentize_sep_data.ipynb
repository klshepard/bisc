{
 "cells": [
  {
   "cell_type": "code",
   "execution_count": null,
   "metadata": {},
   "outputs": [],
   "source": [
    "\"\"\" import settings \"\"\"\n",
    "%load_ext autoreload\n",
    "%autoreload 2\n",
    "\n",
    "import os, sys\n",
    "sys.path.append('C:\\\\Users\\\\kraus\\\\Desktop\\\\BISC_software')\n",
    "sys.path.append('C:\\\\Users\\\\kraus\\\\Desktop\\\\BISC_software\\\\measurements\\\\pig3')\n",
    "\n",
    "from utils_mp import read_recdata\n",
    "from utils_analysis import recover_pulses, get_pulse_edges, find_matching_recording\n",
    "\n",
    "import numpy as np\n",
    "import scipy\n",
    "\n",
    "from matplotlib import pyplot as plt\n",
    "from matplotlib_settings import set_plot_settings, reset_plot_settings\n",
    "\n",
    "# Set the plot settings\n",
    "set_plot_settings()\n",
    "\n",
    "# import global variables\n",
    "from utils_ssep_global import *"
   ]
  },
  {
   "cell_type": "code",
   "execution_count": null,
   "metadata": {},
   "outputs": [],
   "source": [
    "\"\"\" Load bad channel index \"\"\" \n",
    "bad_ch_idx_dir = f'{DATA_DIR}/1_bad_channels'\n",
    "bad_chs = np.load(f\"{bad_ch_idx_dir}/bad_ch_idx.npy\")"
   ]
  },
  {
   "cell_type": "code",
   "execution_count": null,
   "metadata": {},
   "outputs": [],
   "source": [
    "\"\"\" define segment length \"\"\"\n",
    "# SSEP technical params and segmentization params \n",
    "# get almost full period for now. they will be further chopped up down the pipeline -> changed to [-250, 250] msec\n",
    "# tic, toc = -1*((1/STIM_RATE)-5e-3), (1/STIM_RATE)-5e-3 \n",
    "tic, toc = FULL_T0, FULL_T1\n",
    "len_seg = int(toc*FS) - int(tic*FS)\n",
    "i_sync_delay = int(T_SYNC_DELAY*FS)\n",
    "\n",
    "# local field potential BPF\n",
    "# I ended up not using filtered data down the pipeline\n",
    "# Biggest reason is that low-pass filtering could not applied to data prior to segmentization\n",
    "# because of saturation issues. Note that motion artifacts and vet techs stepping on the cables\n",
    "# can kick the channels in and out of saturation..\n",
    "# And it is impractical to apply a reasonable high-pass filtering on segmentized data.\n",
    "# For example 1-Hz cut-off can't be applied when the segment itself is shorter than a second..\n",
    "# Instead of BPF, I relied on combination of linear detrending and low-pass filtering\n",
    "\n",
    "# band = [1, 300]\n",
    "# Wn = [e / FS* 2 for e in band]\n",
    "# lfp_filter_coeff = scipy.signal.iirfilter(N=4, Wn=Wn, analog=False, btype='bandpass', \n",
    "#                                           ftype='butter', output='sos')"
   ]
  },
  {
   "cell_type": "code",
   "execution_count": null,
   "metadata": {},
   "outputs": [],
   "source": [
    "# save to this directory\n",
    "save_dir = f'{DATA_DIR}/2_segmentized'\n",
    "if not os.path.exists(save_dir):\n",
    "   os.makedirs(save_dir)"
   ]
  },
  {
   "cell_type": "code",
   "execution_count": null,
   "metadata": {},
   "outputs": [],
   "source": [
    "\"\"\" manually pick a stimulation site for single file inspection \"\"\"\n",
    "stim_site = 0 # pick from 0, 1, 2, 3, 4\n",
    "\n",
    "stim_label = STIM_LABELS[stim_site]\n",
    "fn_label = STIM_LABELS[stim_site].replace(\" \", \"_\").lower()\n",
    "print(stim_label)"
   ]
  },
  {
   "cell_type": "code",
   "execution_count": null,
   "metadata": {},
   "outputs": [],
   "source": [
    "\"\"\" find all recording files corresponding to the given peripheral stim site \"\"\"\n",
    "en_static_electrode = 1\n",
    "criteria = {}\n",
    "criteria['en_static_electrode'] = en_static_electrode\n",
    "criteria['vga_gain'] = VGA_GAIN\n",
    "criteria['stim location'] = stim_label\n",
    "\n",
    "# some sites have more number of files because (I think) some were taken without turning on the sync pulse\n",
    "# number of valid recordings will come out to be more or less even for all sties\n",
    "rec_fnames, infos = find_matching_recording(f'{RAW_DATA_DIR}/{LOG_FNAME}', criteria)\n",
    "print(len(rec_fnames))\n",
    "\n",
    "for ii, rec_fname in enumerate(rec_fnames):\n",
    "    rec_fnames[ii] = rec_fname.split(\"/\")[-1]"
   ]
  },
  {
   "cell_type": "code",
   "execution_count": null,
   "metadata": {},
   "outputs": [],
   "source": [
    "\"\"\" Segmentize all SSEP recordings and save them \"\"\"\n",
    "\n",
    "en_static_electrode = 1\n",
    "criteria = {}\n",
    "criteria['en_static_electrode'] = en_static_electrode\n",
    "criteria['vga_gain'] = VGA_GAIN\n",
    "\n",
    "for stim_site in range(N_SITES):\n",
    "    # find all recording files corresponding to the given peripheral stim site\n",
    "    stim_label = STIM_LABELS[stim_site]\n",
    "    criteria['stim location'] = stim_label\n",
    "\n",
    "    rec_fnames, infos = find_matching_recording(f'{RAW_DATA_DIR}/{LOG_FNAME}', criteria)\n",
    "    print(f'Identified {len(rec_fnames)} files for {stim_label} stimulation')\n",
    "\n",
    "    for ii, rec_fname in enumerate(rec_fnames):\n",
    "        rec_fnames[ii] = rec_fname.split(\"/\")[-1]\n",
    "\n",
    "    # initialize\n",
    "    valid_trial_count = np.zeros((NCH,)) # number of valid (non-satruated) trials\n",
    "    raw_segs = [[] for _ in range(NCH)]  # unfiltered segments\n",
    "\n",
    "    for rec_fname in rec_fnames:\n",
    "        values, pulses, ts, nr, nc = read_recdata(f'{RAW_DATA_DIR}/{rec_fname}', use_tetrode=False)\n",
    "\n",
    "\n",
    "        # from raw pulse data, get index of rising edges\n",
    "        recovered = recover_pulses(pulses, STIM_RATE, STIM_PULSE_WIDTH, always_on=True, dt=TS)\n",
    "        sync_idxs, _ = get_pulse_edges(pulses)\n",
    "\n",
    "        if not sync_idxs: # if empty\n",
    "            print(f'file: {rec_fname}. no sync pulse detected')\n",
    "            continue\n",
    "\n",
    "        # from sync pulse timings, retrieve stimulation timings\n",
    "        stim_idxs = np.array(sync_idxs) - i_sync_delay\n",
    "        if stim_idxs[0] < 0: stim_idxs = stim_idxs[1:]\n",
    "\n",
    "        \"\"\" segmentize \"\"\"\n",
    "\n",
    "        for stim_idx in stim_idxs:\n",
    "            i0, i1 = stim_idx + int(tic*FS), stim_idx + int(toc*FS)\n",
    "\n",
    "            if i0 < 0: continue # first stim recording is incomplete\n",
    "            if i1 > values.shape[0]: break # last stim recording is incomplete\n",
    "\n",
    "            for ch in range(NCH):\n",
    "                raw_seg = values[i0:i1, ch]\n",
    "\n",
    "                # not sure why I didn't code like this: \n",
    "                is_saturated = np.any(np.logical_or(raw_seg <= LOW_CUT, raw_seg >= HIGH_CUT))\n",
    "                # is_saturated = not np.all((raw_seg > LOW_CUT) & (raw_seg < HIGH_CUT))\n",
    "\n",
    "                if is_saturated:\n",
    "                    raw_segs[ch].append(np.full((len_seg,), np.nan))\n",
    "                else:\n",
    "                    valid_trial_count[ch] += 1\n",
    "                    raw_segs[ch].append(scipy.signal.detrend(raw_seg))\n",
    "\n",
    "    # convert to array and save\n",
    "    raw_segs = np.array(raw_segs)\n",
    "    fn_label = STIM_LABELS[stim_site].replace(\" \", \"_\").lower()\n",
    "    np.save(f'{save_dir}/{fn_label}_valid_trial_count.npy', valid_trial_count)\n",
    "    np.save(f'{save_dir}/{fn_label}_raw_segs.npy', raw_segs)\n",
    "\n",
    "# time\n",
    "t = np.arange(0, len_seg)*TS\n",
    "t = t - np.mean(t)\n",
    "np.save(f'{save_dir}/t.npy', t)"
   ]
  },
  {
   "cell_type": "code",
   "execution_count": null,
   "metadata": {},
   "outputs": [],
   "source": []
  }
 ],
 "metadata": {
  "kernelspec": {
   "display_name": ".venv",
   "language": "python",
   "name": "python3"
  },
  "language_info": {
   "codemirror_mode": {
    "name": "ipython",
    "version": 3
   },
   "file_extension": ".py",
   "mimetype": "text/x-python",
   "name": "python",
   "nbconvert_exporter": "python",
   "pygments_lexer": "ipython3",
   "version": "3.10.0"
  },
  "vscode": {
   "interpreter": {
    "hash": "d955faee816db44f0a85e254d00ad008273b576d6dbe16759b0bc5b99bc5dcbd"
   }
  }
 },
 "nbformat": 4,
 "nbformat_minor": 4
}
