{
 "cells": [
  {
   "cell_type": "code",
   "execution_count": null,
   "metadata": {},
   "outputs": [],
   "source": [
    "\"\"\" import settings \"\"\"\n",
    "%load_ext autoreload\n",
    "%autoreload 2\n",
    "\n",
    "import os\n",
    "import numpy as np\n",
    "import scipy\n",
    "\n",
    "from matplotlib import pyplot as plt\n",
    "from matplotlib_settings import set_plot_settings, reset_plot_settings\n",
    "\n",
    "# Set the plot settings\n",
    "set_plot_settings()\n",
    "\n",
    "# import global variables\n",
    "from utils_ssep_global import *"
   ]
  },
  {
   "cell_type": "code",
   "execution_count": null,
   "metadata": {},
   "outputs": [],
   "source": [
    "\"\"\" load data, define static params \"\"\"\n",
    "# load bad channel\n",
    "bad_ch_idx_dir = f'{DATA_DIR}/1_bad_channels'\n",
    "bad_chs = np.load(f\"{bad_ch_idx_dir}/bad_ch_idx.npy\")\n",
    "\n",
    "# load segmentized data\n",
    "seg_data_dir = f'{DATA_DIR}/2_segmentized'\n",
    "t = np.load(f\"{seg_data_dir}/t.npy\")\n",
    "\n",
    "#\n",
    "car_data_dir = f'{DATA_DIR}/3_car'\n",
    "\n",
    "# SSEP index\n",
    "sep_idxs = np.where(np.logical_and(t > SEP_T0, t < SEP_T1))[0]\n",
    "# Baseline index\n",
    "baseline_idxs = np.where(np.logical_and(t > BASELINE_T0, t < BASELINE_T1))[0]\n",
    "# Artifact index\n",
    "artifact_idxs = np.where(np.logical_and(t > ARTIFACT_T0, t < ARTIFACT_T1))[0]\n",
    "\n",
    "# save to this directory\n",
    "save_dir = f'{DATA_DIR}/4_denoise'\n",
    "if not os.path.exists(save_dir):\n",
    "   os.makedirs(save_dir)"
   ]
  },
  {
   "cell_type": "markdown",
   "metadata": {},
   "source": [
    "Try first on a single dataset"
   ]
  },
  {
   "cell_type": "code",
   "execution_count": null,
   "metadata": {},
   "outputs": [],
   "source": [
    "def get_pc(n_pc, u, s, v):\n",
    "    s_padded = np.zeros((u.shape[1], v.shape[0]))\n",
    "    s_padded[n_pc, n_pc] = s[n_pc]\n",
    "\n",
    "    return u@s_padded@v"
   ]
  },
  {
   "cell_type": "code",
   "execution_count": null,
   "metadata": {},
   "outputs": [],
   "source": [
    "\"\"\" try PC removal \"\"\"\n",
    "from sklearn.utils.extmath import randomized_svd\n",
    "# from numpy.linalg import svd\n",
    "\n",
    "def remove_artifact_pc(dn_segs, n_components, n_remove, sel_stitch=False, n_stitch=1):\n",
    "\n",
    "    n_trial = dn_segs.shape[1] # total number of trials\n",
    "\n",
    "    # PCs in the time window defined as the \"artifact range\"\n",
    "    artifact_pcs = np.zeros((n_components, NCH, len(artifact_idxs)))\n",
    "    sum_pc_removed = np.zeros((NCH, len(artifact_idxs)))\n",
    "\n",
    "    for trial_idx in range(n_trial):\n",
    "        trial_data = np.copy(dn_segs[:,trial_idx,artifact_idxs])\n",
    "\n",
    "        # apply zero-mean\n",
    "        for ch_data in trial_data:\n",
    "            ch_data -= np.nanmean(ch_data)\n",
    "\n",
    "        \"\"\" SVD \"\"\"\n",
    "        u, s, v = randomized_svd(trial_data, n_components=n_components)\n",
    "\n",
    "        # compute artifact PCs for the trial\n",
    "        for pc_idx in range(n_components):\n",
    "            artifact_pcs[pc_idx,:,:] = get_pc(pc_idx, u, s, v)\n",
    "\n",
    "        pc_removed = np.sum(artifact_pcs[:n_remove, :], axis=0)\n",
    "\n",
    "        sum_pc_removed += pc_removed\n",
    "        dn_segs[:,trial_idx,artifact_idxs] -= pc_removed\n",
    "        if sel_stitch:\n",
    "            idx0 = artifact_idxs[0]\n",
    "            for ch in range(NCH):\n",
    "                dn_ch_data = dn_segs[ch,trial_idx,:]\n",
    "                mu1 = np.nanmean(dn_ch_data[idx0-n_stitch:idx0])\n",
    "                mu2 = np.nanmean(dn_ch_data[idx0:idx0+n_stitch])\n",
    "                dn_ch_data[idx0:] -= (mu2 -mu1)\n",
    "\n",
    "    return dn_segs, sum_pc_removed/n_trial"
   ]
  },
  {
   "cell_type": "markdown",
   "metadata": {},
   "source": [
    "Remove Artifact PCs"
   ]
  },
  {
   "cell_type": "code",
   "execution_count": null,
   "metadata": {},
   "outputs": [],
   "source": [
    "\"\"\" remove artifact PCs for all data \"\"\"\n",
    "for stim_site in range(N_SITES):\n",
    "    fn_label = STIM_LABELS[stim_site].replace(\" \", \"_\").lower()\n",
    "    cmr_segs = np.load(f\"{car_data_dir}/{fn_label}_cmr_segs.npy\") # ch * trial *time\n",
    "\n",
    "    dn_segs = np.copy(cmr_segs) # de-noised segments\n",
    "    saturated_idx = np.where(np.isnan(dn_segs))\n",
    "    dn_segs[saturated_idx] = 0\n",
    "    # null out bad channel data\n",
    "    dn_segs[bad_chs] = 0\n",
    "\n",
    "    dn_segs, pc_removed = remove_artifact_pc(dn_segs, N_PC, N_REMOVE, \n",
    "                                             sel_stitch=True, n_stitch=N_STITCH)\n",
    "\n",
    "    \n",
    "    dn_segs[dn_segs==0] = np.nan\n",
    "\n",
    "    np.save(f'{save_dir}/{fn_label}_dn_segs.npy',    dn_segs)\n",
    "    np.save(f'{save_dir}/{fn_label}_pc_removed.npy', pc_removed)"
   ]
  },
  {
   "cell_type": "code",
   "execution_count": null,
   "metadata": {},
   "outputs": [],
   "source": []
  }
 ],
 "metadata": {
  "kernelspec": {
   "display_name": ".venv",
   "language": "python",
   "name": "python3"
  },
  "language_info": {
   "codemirror_mode": {
    "name": "ipython",
    "version": 3
   },
   "file_extension": ".py",
   "mimetype": "text/x-python",
   "name": "python",
   "nbconvert_exporter": "python",
   "pygments_lexer": "ipython3",
   "version": "3.10.0"
  },
  "vscode": {
   "interpreter": {
    "hash": "d955faee816db44f0a85e254d00ad008273b576d6dbe16759b0bc5b99bc5dcbd"
   }
  }
 },
 "nbformat": 4,
 "nbformat_minor": 4
}
