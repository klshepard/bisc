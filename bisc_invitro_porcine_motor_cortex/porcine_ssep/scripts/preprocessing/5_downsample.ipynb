{
 "cells": [
  {
   "cell_type": "code",
   "execution_count": null,
   "metadata": {},
   "outputs": [],
   "source": [
    "\"\"\" import settings \"\"\"\n",
    "%load_ext autoreload\n",
    "%autoreload 2\n",
    "\n",
    "import os\n",
    "import numpy as np\n",
    "import scipy\n",
    "\n",
    "from matplotlib import pyplot as plt\n",
    "from matplotlib_settings import set_plot_settings, reset_plot_settings\n",
    "\n",
    "# Set the plot settings\n",
    "set_plot_settings()\n",
    "\n",
    "# import global variables\n",
    "from utils_ssep_global import *"
   ]
  },
  {
   "cell_type": "code",
   "execution_count": null,
   "metadata": {},
   "outputs": [],
   "source": [
    "\"\"\" load data, define static params \"\"\"\n",
    "# load bad channel\n",
    "bad_ch_idx_dir = f'{DATA_DIR}/1_bad_channels'\n",
    "bad_chs = np.load(f\"{bad_ch_idx_dir}/bad_ch_idx.npy\")\n",
    "\n",
    "# load segmentized data\n",
    "seg_data_dir = f'{DATA_DIR}/2_segmentized'\n",
    "t = np.load(f\"{seg_data_dir}/t.npy\")\n",
    "\n",
    "#\n",
    "car_data_dir = f'{DATA_DIR}/3_car'\n",
    "# t = np.load(f\"{car_data_dir}/t.npy\")\n",
    "\n",
    "dn_data_dir = f'{DATA_DIR}/4_denoise'\n",
    "\n",
    "# SSEP index\n",
    "sep_idxs = np.where(np.logical_and(t > SEP_T0, t < SEP_T1))[0]\n",
    "# Baseline index\n",
    "baseline_idxs = np.where(np.logical_and(t > BASELINE_T0, t < BASELINE_T1))[0]\n",
    "\n",
    "# Downsampled index. Use a smaller window from this point of the pipeline\n",
    "ds_idxs = np.where(np.logical_and(t > DS_T0, t < DS_T1))[0]\n",
    "\n",
    "# save to this directory\n",
    "save_dir = f'{DATA_DIR}/5_downsample'\n",
    "if not os.path.exists(save_dir):\n",
    "   os.makedirs(save_dir)"
   ]
  },
  {
   "cell_type": "markdown",
   "metadata": {},
   "source": [
    "Downsample all data sets"
   ]
  },
  {
   "cell_type": "code",
   "execution_count": null,
   "metadata": {},
   "outputs": [],
   "source": [
    "t = t[ds_idxs]\n",
    "t_RS = t[::RS]\n",
    "print(f'Downsampling to {FS/RS:.1f} Hz')"
   ]
  },
  {
   "cell_type": "code",
   "execution_count": null,
   "metadata": {},
   "outputs": [],
   "source": [
    "from tqdm.notebook import tqdm\n",
    "from scipy.signal import decimate\n",
    "\n",
    "for stim_site in range(N_SITES):\n",
    "    # re-do counting\n",
    "    valid_trial_count = np.zeros((NCH,))\n",
    "\n",
    "    \"\"\" load data \"\"\"\n",
    "    fn_label = STIM_LABELS[stim_site].replace(\" \", \"_\").lower()\n",
    "\n",
    "    # dimensions: ch * trial * time\n",
    "    full_segs = np.load(f\"{dn_data_dir}/{fn_label}_dn_segs.npy\")\n",
    "    full_segs = full_segs[:,:,ds_idxs]\n",
    "\n",
    "    # ds_seg_len = int(np.ceil(full_segs.shape[2]/RS))\n",
    "    ds_seg_len = int(np.ceil(full_segs.shape[2]/RS))\n",
    "    num_trials = full_segs.shape[1]\n",
    "\n",
    "    ds_segs = np.full((NCH, num_trials, ds_seg_len), np.nan)\n",
    "    # decimate segment by segment. batch process doesn't work because of NaN\n",
    "    for ch, ch_data in enumerate(full_segs):\n",
    "        for tr, trial_data in enumerate(ch_data):\n",
    "            if np.any(np.isnan(trial_data)):\n",
    "                # ds_segs[ch][tr] = np.full((ds_seg_len,), np.nan)\n",
    "                continue\n",
    "            else:\n",
    "                ds_segs[ch][tr] = decimate(decimate(trial_data, q=RS1, zero_phase=True),\n",
    "                                          q=RS2, zero_phase=True)\n",
    "                valid_trial_count[ch] += 1\n",
    "\n",
    "    np.save(f'{save_dir}/{fn_label}_ds_{RS}_segs.npy', ds_segs)\n",
    "    np.save(f'{save_dir}/{fn_label}_valid_trial_count.npy', valid_trial_count)\n",
    "\n",
    "np.save(f'{save_dir}/t_{RS}.npy', t_RS)"
   ]
  },
  {
   "cell_type": "code",
   "execution_count": null,
   "metadata": {},
   "outputs": [],
   "source": []
  }
 ],
 "metadata": {
  "kernelspec": {
   "display_name": ".venv",
   "language": "python",
   "name": "python3"
  },
  "language_info": {
   "codemirror_mode": {
    "name": "ipython",
    "version": 3
   },
   "file_extension": ".py",
   "mimetype": "text/x-python",
   "name": "python",
   "nbconvert_exporter": "python",
   "pygments_lexer": "ipython3",
   "version": "3.10.0"
  },
  "vscode": {
   "interpreter": {
    "hash": "d955faee816db44f0a85e254d00ad008273b576d6dbe16759b0bc5b99bc5dcbd"
   }
  }
 },
 "nbformat": 4,
 "nbformat_minor": 4
}
