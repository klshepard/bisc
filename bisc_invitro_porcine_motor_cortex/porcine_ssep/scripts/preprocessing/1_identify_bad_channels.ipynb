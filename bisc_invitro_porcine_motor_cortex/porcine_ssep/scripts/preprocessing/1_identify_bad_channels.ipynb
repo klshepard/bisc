{
 "cells": [
  {
   "cell_type": "code",
   "execution_count": null,
   "metadata": {},
   "outputs": [],
   "source": [
    "\"\"\" import settings \"\"\"\n",
    "%load_ext autoreload\n",
    "%autoreload 2\n",
    "\n",
    "# ensure we can see bisc python files if not installed into system\n",
    "import os, sys\n",
    "sys.path.append('C:\\\\Users\\\\kraus\\\\Desktop\\\\BISC_software')\n",
    "sys.path.append('C:\\\\Users\\\\kraus\\\\Desktop\\\\BISC_software\\\\measurements\\\\pig3')\n",
    "\n",
    "from utils_mp import read_recdata\n",
    "from utils_analysis import find_matching_recording\n",
    "\n",
    "import numpy as np\n",
    "from matplotlib import pyplot as plt\n",
    "from matplotlib_settings import set_plot_settings, reset_plot_settings\n",
    "\n",
    "# Set the plot settings\n",
    "set_plot_settings()\n",
    "\n",
    "# import global variables\n",
    "from utils_ssep_global import *"
   ]
  },
  {
   "cell_type": "code",
   "execution_count": null,
   "metadata": {},
   "outputs": [],
   "source": [
    "\"\"\" find all baseline recording files \"\"\"\n",
    "log_dir = \"./recording_raw\"\n",
    "log_fname = \"record_log_20231017_cleaned.csv\"\n",
    "\n",
    "criteria = {}\n",
    "criteria['stim location'] = 'Baseline'\n",
    "criteria['en_static_electrode'] = 1\n",
    "criteria['vga_gain'] = VGA_GAIN\n",
    "\n",
    "rec_fnames, infos = find_matching_recording(f'{RAW_DATA_DIR}/{LOG_FNAME}', criteria)\n",
    "print(len(rec_fnames))\n",
    "\n",
    "for ii, rec_fname in enumerate(rec_fnames):\n",
    "    rec_fnames[ii] = rec_fname.split(\"/\")[-1] # extract filename from the path"
   ]
  },
  {
   "cell_type": "markdown",
   "metadata": {},
   "source": [
    "Go through baseline recording, identify faulty channels"
   ]
  },
  {
   "cell_type": "code",
   "execution_count": null,
   "metadata": {},
   "outputs": [],
   "source": [
    "\"\"\" step 1. load all baseline recordings \"\"\"\n",
    "i_settle = int(T_SETTLE*FS)\n",
    "\n",
    "raw_data = [[] for _ in range(NCH)]\n",
    "for ii, rec_fname in enumerate(rec_fnames):\n",
    "    values, pulses, ts, nr, nc = read_recdata(f'{RAW_DATA_DIR}/{rec_fname}', use_tetrode=False)\n",
    "\n",
    "    for ch in range(NCH):\n",
    "        raw_data[ch].append(values[i_settle:, ch])\n",
    "\n",
    "# check all channel recording lengths are same\n",
    "for ch in range(NCH):\n",
    "    for seg0, seg1 in zip(raw_data[ch][:-1], raw_data[ch][1:]):\n",
    "        assert len(seg0) == len(seg1)"
   ]
  },
  {
   "cell_type": "code",
   "execution_count": null,
   "metadata": {},
   "outputs": [],
   "source": [
    "\"\"\" step 2. filter \"\"\"\n",
    "# BPF and HPF are not used any more. deprecated\n",
    "from scipy.signal import iirfilter, sosfiltfilt\n",
    "\n",
    "lpf_data = [[] for _ in range(NCH)]\n",
    "\n",
    "# criteria: \n",
    "f_cut0 = 300 # LFP cut-offs\n",
    "lpf_sos = iirfilter(N=8, Wn=f_cut0/(FS/2), btype='low', ftype='butter', output='sos')\n",
    "\n",
    "for ch, ch_data in enumerate(raw_data):\n",
    "    ch_lpf = []\n",
    "    for jj, y in enumerate(ch_data):\n",
    "        # \"flatten out\" saturated values\n",
    "        y[y <= LOW_CUT] = LOW_CUT\n",
    "        y[y >= HIGH_CUT] = HIGH_CUT\n",
    "\n",
    "        if np.std(y) == 0:\n",
    "            ch_lpf.append(np.zeros(y.shape)) # fully saturated\n",
    "        else:\n",
    "            ch_lpf.append(sosfiltfilt(lpf_sos, y))\n",
    "\n",
    "    lpf_data[ch] = np.array(ch_lpf)\n",
    "    \n",
    "lpf_data = np.array(lpf_data) # channel * files * time"
   ]
  },
  {
   "cell_type": "code",
   "execution_count": null,
   "metadata": {},
   "outputs": [],
   "source": [
    "def compute_overall_std_dev(sigmas):\n",
    "    if np.alltrue(np.isnan(sigmas)):\n",
    "        return np.nan\n",
    "\n",
    "    numel, denom = 0, 0\n",
    "    for sigma in sigmas:\n",
    "        if np.isnan(sigma):\n",
    "            continue\n",
    "        \n",
    "        numel += sigma**2\n",
    "        denom += 1\n",
    "    \n",
    "    return np.sqrt(numel/denom)"
   ]
  },
  {
   "cell_type": "code",
   "execution_count": null,
   "metadata": {},
   "outputs": [],
   "source": [
    "\"\"\" Step 3. Compute Channel RMS \"\"\"\n",
    "# compute channel RMS for each recording file\n",
    "lpf_sigmas = np.zeros((NCH, lpf_data.shape[1]))\n",
    "for ch, ch_lpf in enumerate(lpf_data):\n",
    "    for trial, lpf_seg in enumerate(ch_lpf):\n",
    "        s0 = np.std(lpf_seg)\n",
    "\n",
    "        if s0 == 0: lpf_sigmas[ch, trial] = np.nan\n",
    "        else: lpf_sigmas[ch, trial] = s0\n",
    "\n",
    "# compute channel RMS across all recording\n",
    "S = np.zeros((NCH, ))\n",
    "for ch, sigmas in enumerate(lpf_sigmas):\n",
    "    S[ch] = compute_overall_std_dev(sigmas)"
   ]
  },
  {
   "cell_type": "code",
   "execution_count": null,
   "metadata": {},
   "outputs": [],
   "source": [
    "\"\"\" plot RMS map \"\"\"\n",
    "fig, ax = plt.subplots(1, 1, figsize=(3, 3))\n",
    "fig.suptitle('Channel RMS')\n",
    "\n",
    "im0 = ax.imshow(S.reshape(16, -1))\n",
    "# ax.set_title(f'LPF@{f_cut0:d}Hz', fontsize=12)"
   ]
  },
  {
   "cell_type": "code",
   "execution_count": null,
   "metadata": {},
   "outputs": [],
   "source": [
    "\"\"\" Apply Heuristic Thresholding \"\"\"\n",
    "thresh0, thresh1 = 2.5, 3\n",
    "dead_channels = S < np.nanmean(S)/DEAD_THRESH\n",
    "noisy_channels = S > np.nanmean(S)*NOISY_THRESH\n",
    "\n",
    "saturated_channels = (np.isnan(S))\n",
    "\n",
    "fig, ax = plt.subplots(1, 3)\n",
    "ax[0].imshow(dead_channels.reshape(16, -1))\n",
    "ax[1].imshow(noisy_channels.reshape(16, -1))\n",
    "ax[2].imshow(saturated_channels.reshape(16, -1))\n",
    "\n",
    "ax[0].set_title('Dead')\n",
    "ax[1].set_title('Noisy')\n",
    "ax[2].set_title('Saturated')\n",
    "\n",
    "for ii in range(3):\n",
    "    ax[ii].set_xticks([])\n",
    "    ax[ii].set_yticks([])"
   ]
  },
  {
   "cell_type": "code",
   "execution_count": null,
   "metadata": {},
   "outputs": [],
   "source": [
    "\"\"\" Step 4. save bad channel idx \"\"\"\n",
    "bad_ch_idx = np.where(np.logical_or(np.logical_or(dead_channels, noisy_channels), \n",
    "                                    saturated_channels))[0]\n",
    "print(f'bad channels: {bad_ch_idx}')\n",
    "\n",
    "save_dir = f'{DATA_DIR}/1_bad_channels'\n",
    "if not os.path.exists(save_dir):\n",
    "   os.makedirs(save_dir)\n",
    "\n",
    "np.save(f'{save_dir}/bad_ch_idx.npy', bad_ch_idx)"
   ]
  }
 ],
 "metadata": {
  "kernelspec": {
   "display_name": ".venv",
   "language": "python",
   "name": "python3"
  },
  "language_info": {
   "codemirror_mode": {
    "name": "ipython",
    "version": 3
   },
   "file_extension": ".py",
   "mimetype": "text/x-python",
   "name": "python",
   "nbconvert_exporter": "python",
   "pygments_lexer": "ipython3",
   "version": "3.10.0"
  },
  "vscode": {
   "interpreter": {
    "hash": "d955faee816db44f0a85e254d00ad008273b576d6dbe16759b0bc5b99bc5dcbd"
   }
  }
 },
 "nbformat": 4,
 "nbformat_minor": 4
}
