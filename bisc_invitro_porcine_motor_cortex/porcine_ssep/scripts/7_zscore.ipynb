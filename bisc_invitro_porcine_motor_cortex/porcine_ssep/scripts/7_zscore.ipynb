{
 "cells": [
  {
   "cell_type": "code",
   "execution_count": null,
   "metadata": {},
   "outputs": [],
   "source": [
    "\"\"\" import settings \"\"\"\n",
    "%load_ext autoreload\n",
    "%autoreload 2\n",
    "\n",
    "import os\n",
    "import numpy as np\n",
    "from matplotlib import pyplot as plt\n",
    "from matplotlib_settings import set_plot_settings, reset_plot_settings\n",
    "\n",
    "# Set the plot settings\n",
    "set_plot_settings()\n",
    "\n",
    "# import global variables\n",
    "from utils_ssep_global import *"
   ]
  },
  {
   "cell_type": "code",
   "execution_count": null,
   "metadata": {},
   "outputs": [],
   "source": [
    "\"\"\" load data, define static params \"\"\"\n",
    "# load bad channel\n",
    "bad_ch_idx_dir = f'{DATA_DIR}/1_bad_channels'\n",
    "bad_chs = np.load(f\"{bad_ch_idx_dir}/bad_ch_idx.npy\")\n",
    "\n",
    "# load downsampled data\n",
    "fs, Ts = FS/RS, TS*RS\n",
    "ds_data_dir = f'{DATA_DIR}/5_downsample'\n",
    "t = np.load(f\"{ds_data_dir}/t_{RS}.npy\")\n",
    "\n",
    "# SSEP index\n",
    "sep_idxs = np.where(np.logical_and(t > SEP_T0, t < SEP_T1))[0]\n",
    "\n",
    "# Baseline index\n",
    "baseline_idxs = np.where(np.logical_and(t > BASELINE_T0, t < BASELINE_T1))[0]\n",
    "\n",
    "# define \"z-score window\"\n",
    "zscore_t0, zscore_t1 = BASELINE_T0, SEP_T1\n",
    "zscore_idxs = np.where(np.logical_and(t > zscore_t0, t < zscore_t1))[0]"
   ]
  },
  {
   "cell_type": "markdown",
   "metadata": {},
   "source": [
    "Z-score Time Domain Data"
   ]
  },
  {
   "cell_type": "code",
   "execution_count": null,
   "metadata": {},
   "outputs": [],
   "source": [
    "\"\"\" define path for saving z-scored data \"\"\"\n",
    "save_dir = f'{DATA_DIR}/7_zscore'\n",
    "if not os.path.exists(save_dir):\n",
    "   os.makedirs(save_dir)"
   ]
  },
  {
   "cell_type": "code",
   "execution_count": null,
   "metadata": {},
   "outputs": [],
   "source": [
    "\"\"\" z-score time domain data. normalize against window that covers baseline and SSEP \"\"\"\n",
    "for idx, stim_label in enumerate(STIM_LABELS):\n",
    "    fn_label = stim_label.replace(\" \", \"_\").lower()\n",
    "    ds_segs = np.load(f\"{ds_data_dir}/{fn_label}_ds_{RS}_segs.npy\")\n",
    "\n",
    "    num_trials = ds_segs.shape[1]\n",
    "    \n",
    "    zscore_segs = np.full(ds_segs.shape, np.nan)\n",
    "\n",
    "    # ch_data: trial*time\n",
    "    for ch, ch_data in enumerate(ds_segs):\n",
    "        # use all-trial sigma\n",
    "        sigma = np.nanstd(ch_data[:,zscore_idxs])\n",
    "        for trial, trial_data in enumerate(ch_data):\n",
    "            if np.isnan(trial_data[0]):\n",
    "                continue\n",
    "\n",
    "            # because baseline fluctuates, use per-trial mu\n",
    "            mu = np.mean(trial_data[baseline_idxs])\n",
    "            zscore_segs[ch][trial] = (trial_data - mu)/sigma\n",
    "    \n",
    "    np.save(f'{save_dir}/{fn_label}_ds_{RS}_zscore.npy', zscore_segs)"
   ]
  },
  {
   "cell_type": "code",
   "execution_count": null,
   "metadata": {},
   "outputs": [],
   "source": []
  }
 ],
 "metadata": {
  "kernelspec": {
   "display_name": ".venv",
   "language": "python",
   "name": "python3"
  },
  "language_info": {
   "codemirror_mode": {
    "name": "ipython",
    "version": 3
   },
   "file_extension": ".py",
   "mimetype": "text/x-python",
   "name": "python",
   "nbconvert_exporter": "python",
   "pygments_lexer": "ipython3",
   "version": "3.10.0"
  },
  "vscode": {
   "interpreter": {
    "hash": "d955faee816db44f0a85e254d00ad008273b576d6dbe16759b0bc5b99bc5dcbd"
   }
  }
 },
 "nbformat": 4,
 "nbformat_minor": 4
}
