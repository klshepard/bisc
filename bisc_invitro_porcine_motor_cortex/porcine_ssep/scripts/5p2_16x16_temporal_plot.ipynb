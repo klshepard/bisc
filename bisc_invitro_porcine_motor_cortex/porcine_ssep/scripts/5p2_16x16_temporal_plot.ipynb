{
 "cells": [
  {
   "cell_type": "code",
   "execution_count": null,
   "metadata": {},
   "outputs": [],
   "source": [
    "\"\"\" import settings \"\"\"\n",
    "%load_ext autoreload\n",
    "%autoreload 2\n",
    "\n",
    "import numpy as np\n",
    "from matplotlib import pyplot as plt\n",
    "from matplotlib_settings import set_plot_settings, reset_plot_settings\n",
    "\n",
    "# Set the plot settings\n",
    "set_plot_settings()\n",
    "\n",
    "# import global variables\n",
    "from utils_ssep_global import *"
   ]
  },
  {
   "cell_type": "code",
   "execution_count": null,
   "metadata": {},
   "outputs": [],
   "source": [
    "\"\"\" load data, define static params \"\"\"\n",
    "# load bad channel\n",
    "bad_ch_idx_dir = f'{DATA_DIR}/1_bad_channels'\n",
    "bad_chs = np.load(f\"{bad_ch_idx_dir}/bad_ch_idx.npy\")\n",
    "\n",
    "# load downsampled data\n",
    "fs, Ts = FS/RS, TS*RS\n",
    "ds_data_dir = f'{DATA_DIR}/5_downsample'\n",
    "t = np.load(f\"{ds_data_dir}/t_{RS}.npy\")\n",
    "\n",
    "# SSEP index\n",
    "sep_idxs = np.where(np.logical_and(t > SEP_T0, t < SEP_T1))[0]\n",
    "\n",
    "# Baseline index\n",
    "baseline_idxs = np.where(np.logical_and(t > BASELINE_T0, t < BASELINE_T1))[0]"
   ]
  },
  {
   "cell_type": "markdown",
   "metadata": {},
   "source": [
    "Choose a \"stim_site\""
   ]
  },
  {
   "cell_type": "code",
   "execution_count": null,
   "metadata": {},
   "outputs": [],
   "source": [
    "# 0: Median Nerve\n",
    "# 1: Snout Lateral\n",
    "# 2: Snout Superior\n",
    "# 3: Snout Medial\n",
    "# 4: Snout Inferior\n",
    "stim_site = 4 # pick from 0, 1, 2, 3, 4. "
   ]
  },
  {
   "cell_type": "code",
   "execution_count": null,
   "metadata": {},
   "outputs": [],
   "source": [
    "\"\"\" load segmentized recording \"\"\"\n",
    "min_trial = 100 # number of trials to average over\n",
    "\n",
    "# load data\n",
    "fn_label = STIM_LABELS[stim_site].replace(\" \", \"_\").lower()\n",
    "ds_segs = np.load(f\"{ds_data_dir}/{fn_label}_ds_{RS}_segs.npy\")\n",
    "vtc = np.load(f\"{ds_data_dir}/{fn_label}_valid_trial_count.npy\")"
   ]
  },
  {
   "cell_type": "code",
   "execution_count": null,
   "metadata": {},
   "outputs": [],
   "source": [
    "\"\"\" channel recording averaged over a fixed number of trials \"\"\"\n",
    "ch_means = np.full((ds_segs.shape[0], ds_segs.shape[2]), np.nan)  # dimension: ch*time\n",
    "ch_stds  = np.full((ds_segs.shape[0], ds_segs.shape[2]), np.nan)  # dimension: ch*time\n",
    "\n",
    "# channels with insufficient valid trials will be discarded\n",
    "disqualified_chs = np.where(vtc < min_trial)[0]\n",
    "\n",
    "for ch, ch_data in enumerate(ds_segs):\n",
    "    if ch in bad_chs or ch in disqualified_chs:\n",
    "        continue\n",
    "    count = 0\n",
    "\n",
    "    trial_datas = []\n",
    "    for trial_data in ch_data:\n",
    "        if np.any(np.isnan(trial_data)):\n",
    "            continue\n",
    "\n",
    "        trial_datas.append(trial_data)\n",
    "        count += 1\n",
    "        if count == min_trial:\n",
    "            break\n",
    "\n",
    "    assert count == min_trial\n",
    "    \n",
    "    trial_datas = np.array(trial_datas)\n",
    "    ch_mean = np.mean(trial_datas, axis=0)\n",
    "    # baseline correction\n",
    "    ch_means[ch] = ch_mean - np.mean(ch_mean[baseline_idxs])\n",
    "    ch_stds[ch] = np.std(trial_datas, axis=0)"
   ]
  },
  {
   "cell_type": "code",
   "execution_count": null,
   "metadata": {},
   "outputs": [],
   "source": [
    "\"\"\" convert to micro-volts \"\"\"\n",
    "data_means = ch_means*FS_ADC/MAX_ADC_CODE/GAIN/1e-6\n",
    "data_stds  = ch_stds*FS_ADC/MAX_ADC_CODE/GAIN/1e-6"
   ]
  },
  {
   "cell_type": "code",
   "execution_count": null,
   "metadata": {},
   "outputs": [],
   "source": [
    "from utils_ssep_plot import plot_spatiotemporal\n",
    "plt.close('all')\n",
    "fig, ax = plt.subplots(16, 16, figsize=(6, 6), sharex=True, sharey=True)\n",
    "\n",
    "# adjust spacing between subplots (default: 0.2 i.e. 20% of plot)\n",
    "plt.subplots_adjust(wspace=0.05, hspace=0)\n",
    "\n",
    "if stim_site == 0:\n",
    "    title_str = 'Median Nerve'\n",
    "else:\n",
    "    title_str = STIM_LABELS[stim_site]\n",
    "t0, t1 = 0, 50e-3 # plotting range\n",
    "plot_spatiotemporal(fig, ax, t, data_means, data_stds, disqualified_chs, t0, t1, title_str)\n",
    "\n",
    "# save_dir = './figures/ssep/16x16_temporal'\n",
    "# save_fn = f'{fn_label}_16x16_temporal'\n",
    "# plt.savefig(f\"{save_dir}./{save_fn}.svg\", bbox_inches='tight')\n",
    "# plt.savefig(f\"{save_dir}./{save_fn}.png\", bbox_inches='tight', dpi=1200)"
   ]
  },
  {
   "cell_type": "code",
   "execution_count": null,
   "metadata": {},
   "outputs": [],
   "source": []
  }
 ],
 "metadata": {
  "kernelspec": {
   "display_name": ".venv",
   "language": "python",
   "name": "python3"
  },
  "language_info": {
   "codemirror_mode": {
    "name": "ipython",
    "version": 3
   },
   "file_extension": ".py",
   "mimetype": "text/x-python",
   "name": "python",
   "nbconvert_exporter": "python",
   "pygments_lexer": "ipython3",
   "version": "3.10.0"
  },
  "vscode": {
   "interpreter": {
    "hash": "d955faee816db44f0a85e254d00ad008273b576d6dbe16759b0bc5b99bc5dcbd"
   }
  }
 },
 "nbformat": 4,
 "nbformat_minor": 4
}
