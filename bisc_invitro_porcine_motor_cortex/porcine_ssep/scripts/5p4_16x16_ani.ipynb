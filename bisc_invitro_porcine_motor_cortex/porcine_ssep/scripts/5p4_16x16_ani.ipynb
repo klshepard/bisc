{
 "cells": [
  {
   "cell_type": "code",
   "execution_count": null,
   "metadata": {},
   "outputs": [],
   "source": [
    "\"\"\" import settings \"\"\"\n",
    "%load_ext autoreload\n",
    "%autoreload 2\n",
    "\n",
    "import numpy as np\n",
    "from matplotlib import pyplot as plt\n",
    "from matplotlib_settings import set_plot_settings, reset_plot_settings\n",
    "\n",
    "# Set the plot settings\n",
    "set_plot_settings()\n",
    "\n",
    "# import global variables\n",
    "from utils_ssep_global import *"
   ]
  },
  {
   "cell_type": "code",
   "execution_count": null,
   "metadata": {},
   "outputs": [],
   "source": [
    "\"\"\" load data, define static params \"\"\"\n",
    "# load bad channel\n",
    "bad_ch_idx_dir = f'{DATA_DIR}/1_bad_channels'\n",
    "bad_chs = np.load(f\"{bad_ch_idx_dir}/bad_ch_idx.npy\")\n",
    "\n",
    "# load downsampled data\n",
    "fs, Ts = FS/RS, TS*RS\n",
    "ds_data_dir = f'{DATA_DIR}/5_downsample'\n",
    "t = np.load(f\"{ds_data_dir}/t_{RS}.npy\")\n",
    "\n",
    "# SSEP index\n",
    "sep_idxs = np.where(np.logical_and(t > SEP_T0, t < SEP_T1))[0]\n",
    "\n",
    "# Baseline index\n",
    "baseline_idxs = np.where(np.logical_and(t > BASELINE_T0, t < BASELINE_T1))[0]"
   ]
  },
  {
   "cell_type": "code",
   "execution_count": null,
   "metadata": {},
   "outputs": [],
   "source": [
    "n_sites = 5 # total number of stimulation locations\n",
    "stim_sites = [0, 1, 4, 2, 3] # re-order for plotting\n",
    "min_trial = 100"
   ]
  },
  {
   "cell_type": "markdown",
   "metadata": {},
   "source": [
    "Load trial averaged channel recording"
   ]
  },
  {
   "cell_type": "code",
   "execution_count": null,
   "metadata": {},
   "outputs": [],
   "source": [
    "\"\"\" for all stim sites, channel recordings averaged over a fixed number of trials \"\"\"\n",
    "data_means = np.zeros((n_sites, NCH, len(t))) # dimension: site*ch*time\n",
    "\n",
    "for idx, stim_site in enumerate(stim_sites):\n",
    "    # load data\n",
    "    fn_label = STIM_LABELS[stim_site].replace(\" \", \"_\").lower()\n",
    "    ds_segs = np.load(f\"{ds_data_dir}/{fn_label}_ds_{RS}_segs.npy\")\n",
    "    vtc = np.load(f\"{ds_data_dir}/{fn_label}_valid_trial_count.npy\")\n",
    "\n",
    "    # channels with insufficient valid trials will be discarded\n",
    "    disqualified_ch = np.where(vtc < min_trial)[0]\n",
    "\n",
    "    ch_means = np.full((ds_segs.shape[0], ds_segs.shape[2]), np.nan) # dimension: ch*time\n",
    "\n",
    "    # ch_data: trial*time\n",
    "    for ch, ch_data in enumerate(ds_segs):\n",
    "        if ch in bad_chs or ch in disqualified_ch:\n",
    "            continue\n",
    "\n",
    "        count = 0\n",
    "        ch_mean = np.zeros((ch_data.shape[1],))\n",
    "        for trial_data in ch_data:\n",
    "            if np.any(np.isnan(trial_data)):\n",
    "                continue\n",
    "\n",
    "            ch_mean += trial_data\n",
    "            count += 1\n",
    "            if count == min_trial:\n",
    "                break\n",
    "\n",
    "        assert count == min_trial\n",
    "        ch_mean = ch_mean/min_trial\n",
    "\n",
    "        # apply baseline correction\n",
    "        ch_means[ch] = ch_mean - np.mean(ch_mean[baseline_idxs])\n",
    "    data_means[idx] = ch_means"
   ]
  },
  {
   "cell_type": "code",
   "execution_count": null,
   "metadata": {},
   "outputs": [],
   "source": [
    "\"\"\" normalize \"\"\"\n",
    "sep_means = data_means[:,:,sep_idxs]\n",
    "for sep_mean, data_mean in zip(sep_means, data_means):\n",
    "    data_mean /= np.nanmax(np.abs(sep_mean)) # normalize"
   ]
  },
  {
   "cell_type": "code",
   "execution_count": null,
   "metadata": {},
   "outputs": [],
   "source": [
    "\"\"\" time points of a few example frames to plot \"\"\"\n",
    "frame_ts = np.array([-10e-3, -5e-3, 0, 5e-3, 10e-3, 15e-3, 20e-3, 25e-3,\n",
    "                     30e-3, 35e-3, 40e-3, 45e-3])\n",
    "\n",
    "frame_idxs = []\n",
    "for frame_t in frame_ts:\n",
    "    frame_idxs.append(np.where(t < frame_t)[0][-1])\n",
    "frame_idxs = np.array(frame_idxs)"
   ]
  },
  {
   "cell_type": "code",
   "execution_count": null,
   "metadata": {},
   "outputs": [],
   "source": [
    "\"\"\" plot and save a few example frames \"\"\"\n",
    "from utils_ssep_plot import plot_spatial_cbar, plot_spatial_ruler, plot_spatial_compass\n",
    "\n",
    "title_strs = []\n",
    "for stim_site in stim_sites:\n",
    "    if stim_site == 0:\n",
    "        title_strs.append('Median Nerve')\n",
    "    else:\n",
    "        title_strs.append(STIM_LABELS[stim_site])\n",
    "\n",
    "save_dir = './figures/ssep/spatial_map'\n",
    "\n",
    "for idx0 in frame_idxs:\n",
    "    plt.close('all')\n",
    "    fig, ax = plt.subplots(2, 3, figsize=(8, 6))\n",
    "    plt.subplots_adjust(wspace=0.05, hspace=0.05)\n",
    "\n",
    "    ax_rc = [(0, 0), (0, 1), (1, 0), (1, 1), (1, 2)]\n",
    "    for idx, rc in enumerate(ax_rc):\n",
    "        r, c = rc\n",
    "        ax[r, c].set_xticks([])\n",
    "        ax[r, c].set_yticks([])\n",
    "        ax[r, c].set_title(title_strs[idx])\n",
    "\n",
    "    im0 = ax[0, 0].imshow(data_means[0,:,idx0].reshape(16, -1), vmax=1, vmin=-1, cmap='bwr')\n",
    "    im1 = ax[0, 1].imshow(data_means[1,:,idx0].reshape(16, -1), vmax=1, vmin=-1, cmap='bwr')\n",
    "    im2 = ax[1, 0].imshow(data_means[2,:,idx0].reshape(16, -1), vmax=1, vmin=-1, cmap='bwr')\n",
    "    im3 = ax[1, 1].imshow(data_means[3,:,idx0].reshape(16, -1), vmax=1, vmin=-1, cmap='bwr')\n",
    "    im4 = ax[1, 2].imshow(data_means[4,:,idx0].reshape(16, -1), vmax=1, vmin=-1, cmap='bwr')\n",
    "\n",
    "    fig.suptitle(f't = {t[idx0]/1e-3:.1f} ms')\n",
    "\n",
    "    plot_spatial_cbar(fig, ax[0, 2])\n",
    "    plot_spatial_ruler(ax[0, 2])\n",
    "    plot_spatial_compass(ax[0, 2])\n",
    "\n",
    "    # save_fn = f'ssep_spatial_map_{np.round(t[idx0]/1e-3)}ms'\n",
    "    # plt.savefig(f\"{save_dir}/{save_fn}.svg\", bbox_inches='tight')\n",
    "    # plt.savefig(f\"{save_dir}/{save_fn}.png\", bbox_inches='tight', dpi=1200)"
   ]
  },
  {
   "cell_type": "markdown",
   "metadata": {},
   "source": [
    "Plot Frames"
   ]
  },
  {
   "cell_type": "code",
   "execution_count": null,
   "metadata": {},
   "outputs": [],
   "source": [
    "\"\"\" define time range for generating movie \"\"\" \n",
    "ani_t0, ani_t1 = -10e-3, 45e-3\n",
    "fn_t0, fn_t1 = int(ani_t0/1e-3), int(ani_t1/1e-3)\n",
    "ani_idxs = np.where(np.logical_and(t > ani_t0, t < ani_t1))[0]"
   ]
  },
  {
   "cell_type": "code",
   "execution_count": null,
   "metadata": {},
   "outputs": [],
   "source": [
    "\"\"\" initialize the 2x3 plot \"\"\"\n",
    "from utils_ssep_plot import plot_spatial_cbar, plot_spatial_ruler, plot_spatial_compass\n",
    "\n",
    "title_strs = []\n",
    "for stim_site in stim_sites:\n",
    "    if stim_site == 0:\n",
    "        title_strs.append('Median Nerve')\n",
    "    else:\n",
    "        title_strs.append(STIM_LABELS[stim_site])\n",
    "\n",
    "plt.close('all')\n",
    "fig, ax = plt.subplots(2, 3, figsize=(8, 6))\n",
    "plt.subplots_adjust(wspace=0.05, hspace=0.05)\n",
    "\n",
    "ax_rc = [(0, 0), (0, 1), (1, 0), (1, 1), (1, 2)]\n",
    "for idx, rc in enumerate(ax_rc):\n",
    "    r, c = rc\n",
    "    ax[r, c].set_xticks([])\n",
    "    ax[r, c].set_yticks([])\n",
    "    ax[r, c].set_title(title_strs[idx])\n",
    "\n",
    "idx0 = ani_idxs[0]\n",
    "im0 = ax[0, 0].imshow(data_means[0,:,idx0].reshape(16, -1), vmax=1, vmin=-1, cmap='bwr')\n",
    "im1 = ax[0, 1].imshow(data_means[1,:,idx0].reshape(16, -1), vmax=1, vmin=-1, cmap='bwr')\n",
    "im2 = ax[1, 0].imshow(data_means[2,:,idx0].reshape(16, -1), vmax=1, vmin=-1, cmap='bwr')\n",
    "im3 = ax[1, 1].imshow(data_means[3,:,idx0].reshape(16, -1), vmax=1, vmin=-1, cmap='bwr')\n",
    "im4 = ax[1, 2].imshow(data_means[4,:,idx0].reshape(16, -1), vmax=1, vmin=-1, cmap='bwr')\n",
    "\n",
    "fig.suptitle(f't = {t[idx0]/1e-3:.1f} ms')\n",
    "\n",
    "plot_spatial_cbar(fig, ax[0, 2])\n",
    "plot_spatial_ruler(ax[0, 2])\n",
    "plot_spatial_compass(ax[0, 2])"
   ]
  },
  {
   "cell_type": "code",
   "execution_count": null,
   "metadata": {},
   "outputs": [],
   "source": [
    "\"\"\" generate movie \"\"\"\n",
    "# download FFMPegWriter from here: https://ffmpeg.org/download.html\n",
    "import matplotlib.animation as animation\n",
    "from matplotlib.animation import FFMpegWriter\n",
    "save_dir = '.'\n",
    "\n",
    "def animate(idx):\n",
    "    fig.suptitle(f't = {t[idx]/1e-3:.1f} ms')\n",
    "\n",
    "    frame0 = data_means[0,:,idx].reshape(16, -1)\n",
    "    frame1 = data_means[1,:,idx].reshape(16, -1)\n",
    "    frame2 = data_means[2,:,idx].reshape(16, -1)\n",
    "    frame3 = data_means[3,:,idx].reshape(16, -1)\n",
    "    frame4 = data_means[4,:,idx].reshape(16, -1)\n",
    "\n",
    "    im0.set_array(frame0)\n",
    "    im1.set_array(frame1)\n",
    "    im2.set_array(frame2)\n",
    "    im3.set_array(frame3)\n",
    "    im4.set_array(frame4)\n",
    "\n",
    "    return im0, im1, im2, im3, im4\n",
    "\n",
    "ani = animation.FuncAnimation(fig, animate, frames=ani_idxs, blit=True)\n",
    "\n",
    "save_fn = f\"bisc_porcine_ssep\"\n",
    "ani.save(f'{save_dir}/{save_fn}.mp4', writer=FFMpegWriter(fps=10))"
   ]
  },
  {
   "cell_type": "code",
   "execution_count": null,
   "metadata": {},
   "outputs": [],
   "source": []
  }
 ],
 "metadata": {
  "kernelspec": {
   "display_name": ".venv",
   "language": "python",
   "name": "python3"
  },
  "language_info": {
   "codemirror_mode": {
    "name": "ipython",
    "version": 3
   },
   "file_extension": ".py",
   "mimetype": "text/x-python",
   "name": "python",
   "nbconvert_exporter": "python",
   "pygments_lexer": "ipython3",
   "version": "3.10.0"
  },
  "vscode": {
   "interpreter": {
    "hash": "d955faee816db44f0a85e254d00ad008273b576d6dbe16759b0bc5b99bc5dcbd"
   }
  }
 },
 "nbformat": 4,
 "nbformat_minor": 4
}
