{
 "cells": [
  {
   "cell_type": "code",
   "execution_count": null,
   "metadata": {},
   "outputs": [],
   "source": [
    "\"\"\" import settings \"\"\"\n",
    "%load_ext autoreload\n",
    "%autoreload 2\n",
    "\n",
    "import numpy as np\n",
    "from matplotlib import pyplot as plt\n",
    "from matplotlib_settings import set_plot_settings, reset_plot_settings\n",
    "\n",
    "# Set the plot settings\n",
    "set_plot_settings()\n",
    "\n",
    "# import global variables\n",
    "from utils_ssep_global import *"
   ]
  },
  {
   "cell_type": "code",
   "execution_count": null,
   "metadata": {},
   "outputs": [],
   "source": [
    "\"\"\" load data, define static params \"\"\"\n",
    "# load bad channel\n",
    "bad_ch_idx_dir = f'{DATA_DIR}/1_bad_channels'\n",
    "bad_chs = np.load(f\"{bad_ch_idx_dir}/bad_ch_idx.npy\")\n",
    "\n",
    "# load downsampled data\n",
    "fs, Ts = FS/RS, TS*RS\n",
    "ds_data_dir = f'{DATA_DIR}/5_downsample'\n",
    "t = np.load(f\"{ds_data_dir}/t_{RS}.npy\")\n",
    "\n",
    "# SSEP index\n",
    "sep_idxs = np.where(np.logical_and(t > SEP_T0, t < SEP_T1))[0]\n",
    "\n",
    "# Baseline index\n",
    "baseline_idxs = np.where(np.logical_and(t > BASELINE_T0, t < BASELINE_T1))[0]"
   ]
  },
  {
   "cell_type": "markdown",
   "metadata": {},
   "source": [
    "Load trial averaged channel recording"
   ]
  },
  {
   "cell_type": "code",
   "execution_count": null,
   "metadata": {},
   "outputs": [],
   "source": [
    "n_sites = 5 # total number of stimulation locations\n",
    "stim_sites = [0, 1, 4, 2, 3] # re-order for plotting\n",
    "min_trial = 100"
   ]
  },
  {
   "cell_type": "code",
   "execution_count": null,
   "metadata": {},
   "outputs": [],
   "source": [
    "\"\"\" for all stim sites, channel recordings averaged over a fixed number of trials \"\"\"\n",
    "data_means = np.zeros((n_sites, NCH, len(t))) # dimension: site*ch*time\n",
    "\n",
    "for idx, stim_site in enumerate(stim_sites):\n",
    "    # load data\n",
    "    fn_label = STIM_LABELS[stim_site].replace(\" \", \"_\").lower()\n",
    "    ds_segs = np.load(f\"{ds_data_dir}/{fn_label}_ds_{RS}_segs.npy\")\n",
    "    vtc = np.load(f\"{ds_data_dir}/{fn_label}_valid_trial_count.npy\")\n",
    "\n",
    "    # channels with insufficient valid trials will be discarded\n",
    "    disqualified_ch = np.where(vtc < min_trial)[0]\n",
    "\n",
    "    ch_means = np.full((ds_segs.shape[0], ds_segs.shape[2]), np.nan) # dimension: ch*time\n",
    "\n",
    "    # ch_data: trial*time\n",
    "    for ch, ch_data in enumerate(ds_segs):\n",
    "        if ch in bad_chs or ch in disqualified_ch:\n",
    "            continue\n",
    "\n",
    "        count = 0\n",
    "        ch_mean = np.zeros((ch_data.shape[1],))\n",
    "        for trial_data in ch_data:\n",
    "            if np.any(np.isnan(trial_data)):\n",
    "                continue\n",
    "\n",
    "            ch_mean += trial_data\n",
    "            count += 1\n",
    "            if count == min_trial:\n",
    "                break\n",
    "\n",
    "        assert count == min_trial\n",
    "        ch_mean = ch_mean/min_trial\n",
    "\n",
    "        # apply baseline correction\n",
    "        ch_means[ch] = ch_mean - np.mean(ch_mean[baseline_idxs])\n",
    "    data_means[idx] = ch_means"
   ]
  },
  {
   "cell_type": "markdown",
   "metadata": {},
   "source": [
    "Make Spatial Map of SSEP Peaks (Extrema)"
   ]
  },
  {
   "cell_type": "code",
   "execution_count": null,
   "metadata": {},
   "outputs": [],
   "source": [
    "\"\"\" find SSEP peak (extrema) for each stimulation site \"\"\"\n",
    "data_sep_maxs = np.nanmax(data_means[:,:,sep_idxs], axis=2) # dimension: site*ch\n",
    "data_sep_mins = np.nanmin(data_means[:,:,sep_idxs], axis=2) # dimension: site*ch\n",
    "\n",
    "data_sep_pks = np.zeros_like(data_sep_maxs)\n",
    "\n",
    "for ii, (sep_maxs, sep_mins) in enumerate(zip(data_sep_maxs, data_sep_mins)):\n",
    "    for ch, (vmax, vmin) in enumerate(zip(sep_maxs, sep_mins)):\n",
    "        if np.isnan(vmax) or np.isnan(vmin):\n",
    "            data_sep_pks[ii][ch] = np.nan\n",
    "        elif vmax > -vmin:\n",
    "            data_sep_pks[ii][ch] = vmax\n",
    "        else:\n",
    "            data_sep_pks[ii][ch] = vmin"
   ]
  },
  {
   "cell_type": "code",
   "execution_count": null,
   "metadata": {},
   "outputs": [],
   "source": [
    "\"\"\" plot spatial map \"\"\"\n",
    "from utils_ssep_plot import plot_spatial_peaks\n",
    "\n",
    "fig, ax = plt.subplots(2, 3, figsize=(8, 6))\n",
    "plt.subplots_adjust(wspace=0.05, hspace=0.05)\n",
    "\n",
    "title_strs = ['MN', 'SL', 'SI', 'SS', 'SM'] \n",
    "ax_rc = [(0, 0), (0, 1), (1, 0), (1, 1), (1, 2)] # assign ax to each stim site\n",
    "\n",
    "plot_spatial_peaks(fig, ax, data_sep_pks, title_strs, ax_rc)\n",
    "\n",
    "# save_dir = './figures/ssep/spatial_map'\n",
    "# save_fn = f'ssep_spatial_map'\n",
    "# plt.savefig(f\"{save_dir}/{save_fn}.svg\", bbox_inches='tight')\n",
    "# plt.savefig(f\"{save_dir}/{save_fn}.png\", bbox_inches='tight', dpi=1200)"
   ]
  },
  {
   "cell_type": "code",
   "execution_count": null,
   "metadata": {},
   "outputs": [],
   "source": []
  }
 ],
 "metadata": {
  "kernelspec": {
   "display_name": ".venv",
   "language": "python",
   "name": "python3"
  },
  "language_info": {
   "codemirror_mode": {
    "name": "ipython",
    "version": 3
   },
   "file_extension": ".py",
   "mimetype": "text/x-python",
   "name": "python",
   "nbconvert_exporter": "python",
   "pygments_lexer": "ipython3",
   "version": "3.10.0"
  },
  "vscode": {
   "interpreter": {
    "hash": "d955faee816db44f0a85e254d00ad008273b576d6dbe16759b0bc5b99bc5dcbd"
   }
  }
 },
 "nbformat": 4,
 "nbformat_minor": 4
}
