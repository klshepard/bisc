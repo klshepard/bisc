{
 "cells": [
  {
   "cell_type": "code",
   "execution_count": null,
   "metadata": {},
   "outputs": [],
   "source": [
    "\"\"\" import settings \"\"\"\n",
    "%load_ext autoreload\n",
    "%autoreload 2\n",
    "\n",
    "import numpy as np\n",
    "import sys, os, csv\n",
    "\n",
    "from utils_invitro_global import *\n",
    "\n",
    "from utils_invitro_misc import parse_noise_filename, find_matching_filename"
   ]
  },
  {
   "cell_type": "code",
   "execution_count": null,
   "metadata": {},
   "outputs": [],
   "source": [
    "from matplotlib import pyplot as plt\n",
    "from matplotlib.ticker import FormatStrFormatter\n",
    "from matplotlib_settings import set_plot_settings, reset_plot_settings\n",
    "\n",
    "set_plot_settings()"
   ]
  },
  {
   "cell_type": "code",
   "execution_count": null,
   "metadata": {},
   "outputs": [],
   "source": [
    "\"\"\"\n",
    "Noise was measured by shorting the MEA and counter wells through Ag/AgCl electrodes\n",
    "and taking either 16x16 or 32x32 recording that covers a quarter of the array (centered at array center)\n",
    "coverage avoided including pixels at the edge of the array because of packaging limitations\n",
    "\n",
    "each file contains input-referred spectra of recording taken under a particular chip\n",
    "configuration: PGA gain, HPF cut-off, 256 vs 1024\n",
    "\"\"\""
   ]
  },
  {
   "cell_type": "code",
   "execution_count": null,
   "metadata": {},
   "outputs": [],
   "source": [
    "load_dir  = f'{REC_DATA_DIR}/noise_sweep'\n",
    "noise_files = [fn for fn in os.listdir(load_dir) if fn.endswith('.npz')]"
   ]
  },
  {
   "cell_type": "markdown",
   "metadata": {},
   "source": [
    "Choose Recording Configs"
   ]
  },
  {
   "cell_type": "code",
   "execution_count": null,
   "metadata": {},
   "outputs": [],
   "source": [
    "\"\"\" choose which configs to plot: GAIN, HPF \"\"\"\n",
    "VGA_GAIN       = 0 # choose from 0, 1, 2, 3.  0: lowest gain. 3: highest gain\n",
    "VBIAS_PR       = 6 # choose from 5, 6, 7. 5: lower cut-off. 7: higher-cut-off"
   ]
  },
  {
   "cell_type": "code",
   "execution_count": null,
   "metadata": {},
   "outputs": [],
   "source": [
    "\"\"\" load data \"\"\"\n",
    "noise_fn = find_matching_filename(noise_files, parse_noise_filename,\n",
    "                                  VGA_GAIN, VBIAS_PR, en_static_elec=1)\n",
    "tetrode_noise_fn = find_matching_filename(noise_files, parse_noise_filename,\n",
    "                                  VGA_GAIN, VBIAS_PR, en_static_elec=0)\n",
    "\n",
    "noise_data = np.load(f'{load_dir}/{noise_fn}')\n",
    "tetrode_noise_data = np.load(f'{load_dir}/{tetrode_noise_fn}')"
   ]
  },
  {
   "cell_type": "code",
   "execution_count": null,
   "metadata": {},
   "outputs": [],
   "source": [
    "\"\"\"\n",
    "noise data files (npz) have four fields\n",
    "\n",
    "freq_half: frequency range. dimensions: N\n",
    "nonsat_ratios: ratio of non-saturated data points for each pixel. dimensions: channel\n",
    "gain_mu_interp: transfer function used to compute input-referred spectra. output spectra\n",
    "was divided by this transfer function. dimensions: N\n",
    "input_fft_powers: input-referred power spectra. dimension: channel*N\n",
    "\n",
    "N: number of data points\n",
    "\"\"\""
   ]
  },
  {
   "cell_type": "code",
   "execution_count": null,
   "metadata": {},
   "outputs": [],
   "source": [
    "\"\"\" load data \"\"\"\n",
    "# 16x16 channel recording data\n",
    "noise_freqs         = noise_data['freq_half']\n",
    "noise_nonsat_ratios = noise_data['nonsat_ratios']\n",
    "noise_Hf            = noise_data['gain_mu_interp']\n",
    "input_fft_powers    = noise_data['input_fft_powers']\n",
    "\n",
    "# 32x32 channel recording data\n",
    "tetrode_noise_freqs         = tetrode_noise_data['freq_half']\n",
    "tetrode_noise_nonsat_ratios = tetrode_noise_data['nonsat_ratios']\n",
    "tetrode_noise_Hf            = tetrode_noise_data['gain_mu_interp']\n",
    "tetrode_input_fft_powers    = tetrode_noise_data['input_fft_powers']\n",
    "\n",
    "# pixel yield\n",
    "# noise_nonsat_ratios[noise_nonsat_ratios == 1].sum(), tetrode_noise_nonsat_ratios[tetrode_noise_nonsat_ratios == 1].sum()\n",
    "nonsat_idx = np.where(noise_nonsat_ratios == 1)[0]\n",
    "tetrode_nonsat_idx = np.where(tetrode_noise_nonsat_ratios == 1)[0]"
   ]
  },
  {
   "cell_type": "code",
   "execution_count": null,
   "metadata": {},
   "outputs": [],
   "source": [
    "\"\"\" Find representative pixels \"\"\"\n",
    "# define noise integration bandwidth (Hz)\n",
    "f_lc, f_hc = 10, 4e3 \n",
    "fbin, tet_fbin = noise_freqs[1], tetrode_noise_freqs[1] # these two are equal, sans numerical error\n",
    "i0, i1         = int(f_lc//fbin), int(f_hc//fbin)\n",
    "tet_i0, tet_i1 = int(f_lc//tet_fbin), int(f_hc//tet_fbin)\n",
    "assert i0 == tet_i0 and i1 == tet_i1\n",
    "\n",
    "# compute integrated input-referred noise.\n",
    "# note the \"divide by 2\" correction factor. Justification provided at the end of the script.\n",
    "irns = np.sum(input_fft_powers[nonsat_idx,i0:i1]/2, axis=1)**0.5/1e-6 \n",
    "tetrode_irns = np.sum(tetrode_input_fft_powers[tetrode_nonsat_idx,tet_i0:tet_i1]/2,\n",
    "                      axis=1)**0.5/1e-6\n",
    "\n",
    "# find mean and median\n",
    "# irn_mean    = np.mean(irns)\n",
    "irn_median  = np.median(irns)\n",
    "# tetrode_irn_mean    = np.mean(tetrode_irns)\n",
    "tetrode_irn_median  = np.median(tetrode_irns)\n",
    "\n",
    "# find the pixel closest to mean and median\n",
    "# mean_idx     = np.abs(irns - irn_mean).argmin()\n",
    "median_idx   = np.abs(irns - irn_median).argmin()\n",
    "# tetrode_mean_idx     = np.abs(tetrode_irns - tetrode_irn_mean).argmin()\n",
    "tetrode_median_idx   = np.abs(tetrode_irns - tetrode_irn_median).argmin()"
   ]
  },
  {
   "cell_type": "code",
   "execution_count": null,
   "metadata": {},
   "outputs": [],
   "source": [
    "\"\"\" Fetch PSD of a single representative pixels \"\"\"\n",
    "valid_input_fft_powers = input_fft_powers[nonsat_idx,:]\n",
    "valid_tetrode_input_fft_powers = tetrode_input_fft_powers[tetrode_nonsat_idx,:]\n",
    "\n",
    "# normalize by fbin for plotting\n",
    "pix_fft_powers = valid_input_fft_powers[median_idx,:]/fbin\n",
    "tetrode_pix_fft_powers = valid_tetrode_input_fft_powers[tetrode_median_idx,:]/fbin"
   ]
  },
  {
   "cell_type": "code",
   "execution_count": null,
   "metadata": {},
   "outputs": [],
   "source": [
    "\"\"\" Plot PSD of a single pixel \"\"\"\n",
    "# define plotting range\n",
    "f_lc, f_hc = 1, 4e3\n",
    "tol = 1e-2\n",
    "assert np.abs(noise_freqs[1] - tetrode_noise_freqs[1]) < tol\n",
    "i0, i1 = int(f_lc//fbin), int(f_hc//fbin)\n",
    "\n",
    "fig, ax = plt.subplots(figsize=(4, 3))\n",
    "\n",
    "ax.loglog(noise_freqs[i0:i1], np.sqrt(tetrode_pix_fft_powers[i0:i1]))\n",
    "ax.loglog(noise_freqs[i0:i1], np.sqrt(pix_fft_powers[i0:i1]))\n",
    "ax.set_xlim((f_lc, f_hc))\n",
    "ax.grid(True)\n",
    "ax.set_xlabel('Frequency (Hz)')\n",
    "ax.set_ylabel('IRN (V/$\\sqrt{Hz}$)')\n",
    "ax.set_ylim(None, 1e-4)\n",
    "\n",
    "legend = ax.legend(['32×32 Recording (8.48 kS/s)',\n",
    "                    '16×16 Recording (33.9 kS/s)'], fontsize=12, loc=(0.015, 0.74))\n",
    "print(f'Non-tetrode mode IRN: {irns[median_idx]:.2f} Vrms')\n",
    "print(f'Tetrode mode IRN: {tetrode_irns[tetrode_median_idx]:.2f} Vrms')"
   ]
  },
  {
   "cell_type": "code",
   "execution_count": null,
   "metadata": {},
   "outputs": [],
   "source": [
    "\"\"\" Fetch average PSD of XX representative pixels \"\"\"\n",
    "# find the pixel closest to mean and median\n",
    "median_idxs   = np.argsort(np.abs(irns - irn_median))[:10]\n",
    "tetrode_median_idxs   = np.argsort(np.abs(tetrode_irns - tetrode_irn_median))[:10]\n",
    "\n",
    "# normalize by fbin for plotting\n",
    "psd_mean = np.mean(valid_input_fft_powers[median_idxs], axis=0)/fbin\n",
    "tetrode_psd_mean = np.mean(valid_tetrode_input_fft_powers[median_idxs], axis=0)/fbin"
   ]
  },
  {
   "cell_type": "code",
   "execution_count": null,
   "metadata": {},
   "outputs": [],
   "source": [
    "\"\"\" Plot average PSD of XX pixels \"\"\"\n",
    "# define plotting range\n",
    "f_lc, f_hc = 1, 4e3\n",
    "tol = 1e-2\n",
    "assert np.abs(noise_freqs[1] - tetrode_noise_freqs[1]) < tol\n",
    "i0, i1 = int(f_lc//fbin), int(f_hc//fbin)\n",
    "\n",
    "fig, ax = plt.subplots(figsize=(4, 3))\n",
    "\n",
    "ax.loglog(noise_freqs[i0:i1], np.sqrt(tetrode_psd_mean[i0:i1]))\n",
    "ax.loglog(noise_freqs[i0:i1], np.sqrt(psd_mean[i0:i1]))\n",
    "ax.set_xlim((f_lc, f_hc))\n",
    "ax.grid(True)\n",
    "ax.set_xlabel('Frequency (Hz)')\n",
    "ax.set_ylabel('IRN (V/$\\sqrt{Hz}$)')\n",
    "ax.set_ylim(None, 1e-4)\n",
    "\n",
    "legend = ax.legend(['32×32 Recording (8.48 kS/s)',\n",
    "                    '16×16 Recording (33.9 kS/s)'], fontsize=12, loc=(0.015, 0.74))\n",
    "print(f'Non-tetrode mode IRN: {np.mean(irns[median_idxs]):.2f} Vrms')\n",
    "print(f'Tetrode mode IRN: {np.mean(tetrode_irns[tetrode_median_idxs]):.2f} Vrms')"
   ]
  },
  {
   "cell_type": "code",
   "execution_count": null,
   "metadata": {},
   "outputs": [],
   "source": [
    "\"\"\" Justification on divide by 2 \"\"\"\n",
    "# the following was used to compute the power spectra.\n",
    "def get_fft_power(y, Ts):\n",
    "    n = len(y)\n",
    "    freq = np.fft.fftfreq(n, d = Ts)\n",
    "    half_n = int(np.ceil(n/2.0))\n",
    "    freq_half = freq[:half_n]\n",
    "\n",
    "    y_fft = np.fft.fft(y)/n\n",
    "    # I assume that DC is irrelevant (either not used or zero-meaned prior to taking FFT).\n",
    "    # Your correction factor will depend on the scaling that is applied here\n",
    "    y_fft_half = 2*y_fft[:half_n] \n",
    "    y_power = np.abs(y_fft_half*np.conj(y_fft_half)) \n",
    "\n",
    "    return freq_half, y_power"
   ]
  },
  {
   "cell_type": "code",
   "execution_count": null,
   "metadata": {},
   "outputs": [],
   "source": [
    "\"\"\" Test on White Noise Sample \"\"\"\n",
    "# sampling rate and duration\n",
    "sampling_rate = 33900  # 33.9 kHz\n",
    "duration = 1  # 1 second\n",
    "num_samples = sampling_rate*duration\n",
    "# Std Dev of White Noise\n",
    "noise_std_dev = 1e-3\n",
    "\n",
    "# Generate a white noise recording\n",
    "white_noise = np.random.normal(0, noise_std_dev, num_samples)\n",
    "\n",
    "# Get Spectra\n",
    "freq_half, noise_power = get_fft_power(white_noise, 1/sampling_rate)\n",
    "\n",
    "integ_noise = (np.sum(noise_power)/2)**0.5 # Divide by 2 to correct for RMS\n",
    "\n",
    "\"\"\" Verify that the two are equivalent \"\"\"\n",
    "print(f\"{np.std(white_noise)=:.7f}\")\n",
    "print(f\"IRN: {integ_noise:.7f} RMS\")"
   ]
  },
  {
   "cell_type": "code",
   "execution_count": null,
   "metadata": {},
   "outputs": [],
   "source": []
  }
 ],
 "metadata": {
  "kernelspec": {
   "display_name": ".venv",
   "language": "python",
   "name": "python3"
  },
  "language_info": {
   "codemirror_mode": {
    "name": "ipython",
    "version": 3
   },
   "file_extension": ".py",
   "mimetype": "text/x-python",
   "name": "python",
   "nbconvert_exporter": "python",
   "pygments_lexer": "ipython3",
   "version": "3.10.0"
  },
  "orig_nbformat": 4,
  "vscode": {
   "interpreter": {
    "hash": "d955faee816db44f0a85e254d00ad008273b576d6dbe16759b0bc5b99bc5dcbd"
   }
  }
 },
 "nbformat": 4,
 "nbformat_minor": 2
}
