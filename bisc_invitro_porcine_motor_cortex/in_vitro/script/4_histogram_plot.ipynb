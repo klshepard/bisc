{
 "cells": [
  {
   "cell_type": "code",
   "execution_count": null,
   "metadata": {},
   "outputs": [],
   "source": [
    "\"\"\" import settings \"\"\"\n",
    "%load_ext autoreload\n",
    "%autoreload 2\n",
    "\n",
    "import numpy as np\n",
    "import sys, os, csv\n",
    "\n",
    "from utils_invitro_global import *\n",
    "\n",
    "from utils_invitro_misc import parse_Hf_filename"
   ]
  },
  {
   "cell_type": "code",
   "execution_count": null,
   "metadata": {},
   "outputs": [],
   "source": [
    "from matplotlib import pyplot as plt\n",
    "from matplotlib.ticker import FormatStrFormatter\n",
    "from matplotlib_settings import set_plot_settings, reset_plot_settings\n",
    "\n",
    "set_plot_settings()"
   ]
  },
  {
   "cell_type": "code",
   "execution_count": null,
   "metadata": {},
   "outputs": [],
   "source": [
    "\"\"\"\n",
    "Gain was characterized by injecting 1kHz sinusoid, and taking recordings in both \n",
    "16x16 and 32x32 modes. They were programmed in the most dense tiles, and were moved\n",
    "around the array to obtain full coverage.\n",
    "\n",
    "Chip Configurations Used:\n",
    "ibias global 4, ibias rec 4, vga_gain 0, vbias_pr 7\n",
    "\n",
    "Noise characterization was performed in the same way, except that instead of sinusoid input,\n",
    "the MEA and Counter wells were shorted through Ag/AgCl. Integration bandwidth was 10 to 4kHz\n",
    "No filtering was applied - this means that 60 Hz harmonics may be included in the integration.\n",
    "\n",
    "Pixels whose gain is below a threshold (300 V/V) have been marked as invalid (nan).\n",
    "Reasons for low gain include packaging, poor electrode impedance, DC offset, etc.\n",
    "\"\"\""
   ]
  },
  {
   "cell_type": "code",
   "execution_count": null,
   "metadata": {},
   "outputs": [],
   "source": [
    "\"\"\" Load Data \"\"\"\n",
    "load_dir  = f'{REC_DATA_DIR}/array_map'\n",
    "\n",
    "gain_map_128x128  = np.load(f'{load_dir}/gain_map_128x128.npy')\n",
    "gain_map_256x256  = np.load(f'{load_dir}/gain_map_256x256.npy')\n",
    "\n",
    "# noise_map_128x128 and noise_map_256x256 are integrated OUTPUT noise\n",
    "noise_map_128x128 = np.load(f'{load_dir}/noise_map_128x128.npy')\n",
    "noise_map_256x256 = np.load(f'{load_dir}/noise_map_256x256.npy')"
   ]
  },
  {
   "cell_type": "code",
   "execution_count": null,
   "metadata": {},
   "outputs": [],
   "source": [
    "\"\"\" print pixel yield stats \"\"\"\n",
    "assert np.count_nonzero(np.isnan(gain_map_128x128)) == np.count_nonzero(np.isnan(noise_map_128x128))\n",
    "assert np.count_nonzero(np.isnan(gain_map_256x256)) == np.count_nonzero(np.isnan(noise_map_256x256))\n",
    "\n",
    "count_excl_128x128 = np.count_nonzero(np.isnan(noise_map_128x128))\n",
    "count_excl_256x256 = np.count_nonzero(np.isnan(noise_map_256x256))\n",
    "\n",
    "count_incl_128x128 = 128*128 - count_excl_128x128\n",
    "count_incl_256x256 = 256*256 - count_excl_256x256\n",
    "\n",
    "print(f'excluded: {count_excl_128x128}, {count_excl_256x256}')\n",
    "print(f'included: {count_incl_128x128}, {count_incl_256x256}')\n",
    "print(f'yield: {count_incl_128x128/(128*128)*100:.2f}, {count_incl_256x256/(256*256)*100:.2f}')"
   ]
  },
  {
   "cell_type": "markdown",
   "metadata": {},
   "source": [
    "Plot Gain Histogram"
   ]
  },
  {
   "cell_type": "code",
   "execution_count": null,
   "metadata": {},
   "outputs": [],
   "source": [
    "\"\"\" Convert Gain from V/V to dB \"\"\"\n",
    "gain_map_db_128x128 = 20*np.log10(gain_map_128x128)\n",
    "gain_map_db_256x256 = 20*np.log10(gain_map_256x256)\n",
    "\n",
    "# find mean and std dev.\n",
    "gain_mu    = np.nanmean(gain_map_db_128x128)\n",
    "gain_sigma = np.nanstd(gain_map_db_128x128)\n",
    "tetrode_gain_mu    = np.nanmean(gain_map_db_256x256)\n",
    "tetrode_gain_sigma = np.nanstd(gain_map_db_256x256)"
   ]
  },
  {
   "cell_type": "code",
   "execution_count": null,
   "metadata": {},
   "outputs": [],
   "source": [
    "\"\"\" Plot Gain Histogram \"\"\"\n",
    "fig, ax = plt.subplots(figsize=(4, 3))\n",
    "\n",
    "# Generate Histogram data\n",
    "vmin = min(np.nanmin(gain_map_128x128), np.nanmin(gain_map_256x256))\n",
    "vmax = max(np.nanmax(gain_map_128x128), np.nanmax(gain_map_256x256))\n",
    "db_vmin, db_vmax = 20*np.log10(vmin), 20*np.log10(vmax)\n",
    "\n",
    "frq, edges = np.histogram(gain_map_db_128x128, bins=50, range=(db_vmin, db_vmax))\n",
    "tetrode_frq, tetrode_edges = np.histogram(gain_map_db_256x256, bins=50, range=(db_vmin, db_vmax))\n",
    "\n",
    "# Plot Histogram\n",
    "ax.bar(tetrode_edges[:-1], tetrode_frq, width=np.diff(edges), edgecolor='k', align=\"edge\")\n",
    "ax.bar(edges[:-1], frq, width=np.diff(edges), edgecolor='k', align=\"edge\")\n",
    "ax.set_xlim((51, 54.5))\n",
    "\n",
    "ax.set_xticks([51, 52, 53, 54])\n",
    "ax.set_yticks([1000, 3000, 5000])\n",
    "\n",
    "# Add Labels\n",
    "ax.set_xlabel('Gain (dB)')\n",
    "ax.set_ylabel('Count')\n",
    "\n",
    "title_str = f'Non-tet: {gain_mu:.2f} ± {gain_sigma:.2f} dB (SD) \\n'\n",
    "title_str += f'tetrode: {tetrode_gain_mu:.2f} ± {tetrode_gain_sigma:.2f} dB (SD) \\n'\n",
    "print(title_str)\n",
    "ax.legend(['32×32', '16×16'], fontsize=12, loc=(0.6, 0.7))"
   ]
  },
  {
   "cell_type": "code",
   "execution_count": null,
   "metadata": {},
   "outputs": [],
   "source": [
    "\"\"\"\n",
    "Since gain is programmed through the back-end amplifier which is shared by all pixels,\n",
    "overall system gain variation is equivalent to the pixel gain variation and is independent\n",
    "of the PGA configuration\n",
    "\"\"\""
   ]
  },
  {
   "cell_type": "code",
   "execution_count": null,
   "metadata": {},
   "outputs": [],
   "source": [
    "\"\"\" normalize \"\"\"\n",
    "norm_gain_128x128 = gain_map_128x128/np.nanmean(gain_map_128x128)\n",
    "norm_gain_256x256 = gain_map_256x256/np.nanmean(gain_map_256x256)\n",
    "\n",
    "# mean, std, min, max\n",
    "norm_mu, norm_sigma = np.nanmean(norm_gain_128x128), np.nanstd(norm_gain_128x128)\n",
    "tetrode_norm_mu, tetrode_norm_sigma = np.nanmean(norm_gain_256x256), np.nanstd(norm_gain_256x256)\n",
    "norm_vmin = min(np.nanmin(norm_gain_128x128), np.nanmin(norm_gain_256x256))\n",
    "norm_vmax = max(np.nanmax(norm_gain_128x128), np.nanmax(norm_gain_256x256))"
   ]
  },
  {
   "cell_type": "code",
   "execution_count": null,
   "metadata": {},
   "outputs": [],
   "source": [
    "\"\"\" Plot Normalized Gain Histogram \"\"\"\n",
    "fig, ax = plt.subplots(figsize=(4, 3))\n",
    "\n",
    "# Generate Histogram\n",
    "frq, edges = np.histogram(norm_gain_128x128, bins=50, range=(norm_vmin, norm_vmax))\n",
    "tetrode_frq, tetrode_edges = np.histogram(norm_gain_256x256, bins=50, range=(norm_vmin, norm_vmax))\n",
    "\n",
    "# Plot Histogram\n",
    "ax.bar(tetrode_edges[:-1], tetrode_frq, width=np.diff(edges), edgecolor='k', align=\"edge\")\n",
    "ax.bar(edges[:-1], frq, width=np.diff(edges), edgecolor='k', align=\"edge\")\n",
    "ax.set_xlim((0.75, 1.25))\n",
    "\n",
    "# Add Labels\n",
    "ax.set_xlabel('Normalized Gain')\n",
    "ax.set_ylabel('Count')\n",
    "\n",
    "title_str = f'Non-tet: {norm_mu:.2f} ± {norm_sigma:.3f} (SD) \\n'\n",
    "title_str += f'tetrode: {tetrode_norm_mu:.2f} ± {tetrode_norm_sigma:.3f} (SD) \\n'\n",
    "ax.legend(['32×32', '16×16'], fontsize=12, loc=(0.6, 0.7))\n",
    "print(title_str)"
   ]
  },
  {
   "cell_type": "markdown",
   "metadata": {},
   "source": [
    "Plot Noise Histogram"
   ]
  },
  {
   "cell_type": "code",
   "execution_count": null,
   "metadata": {},
   "outputs": [],
   "source": [
    "\"\"\" convert output noise to input-referred microvolt_rms \"\"\"\n",
    "irn_128x128 = noise_map_128x128/gain_map_128x128/1e-6\n",
    "irn_256x256 = noise_map_256x256/gain_map_256x256/1e-6"
   ]
  },
  {
   "cell_type": "code",
   "execution_count": null,
   "metadata": {},
   "outputs": [],
   "source": [
    "\"\"\" Print IRN Stats\"\"\"\n",
    "noise_mu    = np.nanmean(irn_128x128)\n",
    "noise_sigma = np.nanstd(irn_128x128)\n",
    "tetrode_noise_mu    = np.nanmean(irn_256x256)\n",
    "tetrode_noise_sigma = np.nanstd(irn_256x256)\n",
    "\n",
    "print(f'Mean: {noise_mu:.2f}. Std Dev: {noise_sigma:.2f}')\n",
    "print(f'Mean: {tetrode_noise_mu:.2f}. Std Dev: {tetrode_noise_sigma:.2f}')"
   ]
  },
  {
   "cell_type": "code",
   "execution_count": null,
   "metadata": {},
   "outputs": [],
   "source": [
    "\"\"\" Plot IRN Histogram \"\"\"\n",
    "fig, ax = plt.subplots(figsize=(4, 3))\n",
    "\n",
    "# Generate Histogram\n",
    "irn_vmin, irn_vmax = np.nanmin(irn_128x128), 35\n",
    "frq, edges = np.histogram(irn_128x128, bins=50, range=(irn_vmin, irn_vmax))\n",
    "tetrode_frq, tetrode_edges = np.histogram(irn_256x256, bins=50, range=(irn_vmin, irn_vmax))\n",
    "\n",
    "# Plot Histogram\n",
    "ax.bar(tetrode_edges[:-1], tetrode_frq, width=np.diff(edges), edgecolor='k', align=\"edge\")\n",
    "ax.bar(edges[:-1], frq, width=np.diff(edges), edgecolor='k', align=\"edge\")\n",
    "# ax.xaxis.set_major_formatter(FormatStrFormatter('%d'))\n",
    "ax.set_yticks([1000, 3000, 5000])\n",
    "ax.set_xticks([5, 15, 25, 35])\n",
    "\n",
    "# Add Labels\n",
    "ax.set_xlabel(r'Input-referred noise (μV$_\\text{RMS}$)', fontsize=16) \n",
    "ax.set_ylabel('Count')\n",
    "ax.legend(['32×32', '16×16'], fontsize=12)"
   ]
  },
  {
   "cell_type": "markdown",
   "metadata": {},
   "source": [
    "Plot Gain Maps"
   ]
  },
  {
   "cell_type": "markdown",
   "metadata": {},
   "source": [
    "NaN values near the edges of the array are affected by the silicone flowing over them during the packaging process."
   ]
  },
  {
   "cell_type": "code",
   "execution_count": null,
   "metadata": {},
   "outputs": [],
   "source": [
    "\"\"\" Non-Tetrode Mode \"\"\"\n",
    "fig, ax = plt.subplots(figsize=(4, 4))\n",
    "\n",
    "# Plot Map\n",
    "img = ax.imshow(gain_map_db_128x128, vmin=db_vmin, vmax=db_vmax)\n",
    "ax.set_xticks([])\n",
    "ax.set_yticks([])\n",
    "\n",
    "# Add a color bar to the plot\n",
    "cx0 = ax.get_position().x0\n",
    "cx1 = ax.get_position().x1\n",
    "cy0 = ax.get_position().y0\n",
    "cy1 = ax.get_position().y1\n",
    "cbar_ax = fig.add_axes([cx1 + 0.03*2, cy0, 0.03, cy1 - cy0]) # [left, bottom, width, height]\n",
    "cbar = fig.colorbar(img, cax=cbar_ax)\n",
    "cbar.ax.yaxis.set_major_formatter(FormatStrFormatter('%.1f'))\n",
    "cbar.set_ticks([db_vmin, (db_vmin + db_vmax)/2, db_vmax])\n",
    "cbar.set_label('Gain (dB)') "
   ]
  },
  {
   "cell_type": "code",
   "execution_count": null,
   "metadata": {},
   "outputs": [],
   "source": [
    "\"\"\" Non-Tetrode Mode \"\"\"\n",
    "fig, ax = plt.subplots(figsize=(4, 4))\n",
    "\n",
    "# Plot Map\n",
    "img = ax.imshow(gain_map_db_256x256, vmin=db_vmin, vmax=db_vmax)\n",
    "ax.set_xticks([])\n",
    "ax.set_yticks([])\n",
    "\n",
    "# Add a color bar to the plot\n",
    "cx0 = ax.get_position().x0\n",
    "cx1 = ax.get_position().x1\n",
    "cy0 = ax.get_position().y0\n",
    "cy1 = ax.get_position().y1\n",
    "cbar_ax = fig.add_axes([cx1 + 0.03*2, cy0, 0.03, cy1 - cy0]) # [left, bottom, width, height]\n",
    "cbar = fig.colorbar(img, cax=cbar_ax)\n",
    "cbar.ax.yaxis.set_major_formatter(FormatStrFormatter('%.1f'))\n",
    "cbar.set_ticks([db_vmin, (db_vmin + db_vmax)/2, db_vmax])\n",
    "cbar.set_label('Gain (dB)') "
   ]
  },
  {
   "cell_type": "markdown",
   "metadata": {},
   "source": [
    "Plot Noise Maps"
   ]
  },
  {
   "cell_type": "code",
   "execution_count": null,
   "metadata": {},
   "outputs": [],
   "source": [
    "\"\"\" Non-Tetrode Mode \"\"\"\n",
    "# Hot pixels near the top right corner are probably covered under a thin layer of silicone..\n",
    "# So the IRN number reported from our characterization is probably worse than our chip's true IRN\n",
    "fig, ax = plt.subplots(figsize=(4, 4))\n",
    "\n",
    "# Plot Map\n",
    "img = ax.imshow(irn_128x128, vmin=irn_vmin, vmax=irn_vmax)\n",
    "ax.set_xticks([])\n",
    "ax.set_yticks([])\n",
    "\n",
    "# Add a color bar to the plot\n",
    "cx0 = ax.get_position().x0\n",
    "cx1 = ax.get_position().x1\n",
    "cy0 = ax.get_position().y0\n",
    "cy1 = ax.get_position().y1\n",
    "cbar_ax = fig.add_axes([cx1 + 0.03*2, cy0, 0.03, cy1 - cy0]) # [left, bottom, width, height]\n",
    "cbar = fig.colorbar(img, cax=cbar_ax)\n",
    "cbar.ax.yaxis.set_major_formatter(FormatStrFormatter('%.1f'))\n",
    "cbar.set_ticks([irn_vmin, (irn_vmin + irn_vmax)/2, irn_vmax])\n",
    "cbar.set_label(r'Input-referred noise (μV$_\\text{RMS}$)')"
   ]
  },
  {
   "cell_type": "code",
   "execution_count": null,
   "metadata": {},
   "outputs": [],
   "source": [
    "\"\"\" Tetrode Mode \"\"\"\n",
    "# Hot pixels near the top right corner are probably covered under a thin layer of silicone..\n",
    "# So the IRN number reported from our characterization is probably worse than our chip's true IRN\n",
    "fig, ax = plt.subplots(figsize=(4, 4))\n",
    "\n",
    "# Plot Map\n",
    "irn_tetrode_vmin =np.nanmin(irn_256x256)\n",
    "img = ax.imshow(irn_256x256, vmin=irn_tetrode_vmin, vmax=irn_vmax)\n",
    "ax.set_xticks([])\n",
    "ax.set_yticks([])\n",
    "\n",
    "# Add a color bar to the plot\n",
    "cx0 = ax.get_position().x0\n",
    "cx1 = ax.get_position().x1\n",
    "cy0 = ax.get_position().y0\n",
    "cy1 = ax.get_position().y1\n",
    "cbar_ax = fig.add_axes([cx1 + 0.03*2, cy0, 0.03, cy1 - cy0]) # [left, bottom, width, height]\n",
    "cbar = fig.colorbar(img, cax=cbar_ax)\n",
    "cbar.ax.yaxis.set_major_formatter(FormatStrFormatter('%.1f'))\n",
    "cbar.set_ticks([irn_tetrode_vmin, (irn_tetrode_vmin + irn_vmax)/2, irn_vmax])\n",
    "cbar.set_label(r'Input-referred noise (μV$_\\text{RMS}$)')"
   ]
  },
  {
   "cell_type": "code",
   "execution_count": null,
   "metadata": {},
   "outputs": [],
   "source": []
  }
 ],
 "metadata": {
  "kernelspec": {
   "display_name": ".venv",
   "language": "python",
   "name": "python3"
  },
  "language_info": {
   "codemirror_mode": {
    "name": "ipython",
    "version": 3
   },
   "file_extension": ".py",
   "mimetype": "text/x-python",
   "name": "python",
   "nbconvert_exporter": "python",
   "pygments_lexer": "ipython3",
   "version": "3.10.0"
  }
 },
 "nbformat": 4,
 "nbformat_minor": 2
}
