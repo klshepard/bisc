{
 "cells": [
  {
   "cell_type": "code",
   "execution_count": null,
   "metadata": {},
   "outputs": [],
   "source": [
    "\"\"\" import settings \"\"\"\n",
    "%load_ext autoreload\n",
    "%autoreload 2\n",
    "\n",
    "import numpy as np\n",
    "import sys, os, csv\n",
    "\n",
    "from utils_invitro_global import *\n",
    "\n",
    "from utils_invitro_misc import parse_Hf_filename"
   ]
  },
  {
   "cell_type": "code",
   "execution_count": null,
   "metadata": {},
   "outputs": [],
   "source": [
    "from matplotlib import pyplot as plt\n",
    "from matplotlib_settings import set_plot_settings, reset_plot_settings\n",
    "\n",
    "set_plot_settings()"
   ]
  },
  {
   "cell_type": "code",
   "execution_count": null,
   "metadata": {},
   "outputs": [],
   "source": [
    "\"\"\"\n",
    "Transfer function was characterized by injecting sinusoid into the electrolyte\n",
    "and taking either 16x16 or 32x32 recording that covers a quarter of the array (centered at array center)\n",
    "coverage avoided including pixels at the edge of the array because of packaging limitations\n",
    "\n",
    "each file contains pixel gains that represent a particular combination of :\n",
    "chip config (PGA gain, HPF cut-off, 256 vs 1024) and injected sinusoid frequency\n",
    "\"\"\""
   ]
  },
  {
   "cell_type": "code",
   "execution_count": null,
   "metadata": {},
   "outputs": [],
   "source": [
    "\"\"\" fetch recording data file names \"\"\"\n",
    "data_dir = f'{REC_DATA_DIR}/sinusoid_sweep'\n",
    "file_list = [fn for fn in os.listdir(data_dir) if fn.endswith('.npy')]"
   ]
  },
  {
   "cell_type": "markdown",
   "metadata": {},
   "source": [
    "Part 1. Plot Transfer Function vs. PGA configuration"
   ]
  },
  {
   "cell_type": "markdown",
   "metadata": {},
   "source": [
    "Choose HPF and Tetrode Mode Configs"
   ]
  },
  {
   "cell_type": "code",
   "execution_count": null,
   "metadata": {},
   "outputs": [],
   "source": [
    "\"\"\" choose which configs to plot: HPF, 256 vs 1024 \"\"\"\n",
    "VBIAS_PR       = 6 # choose from 5, 6, 7. 5: lower cut-off. 7: higher-cut-off\n",
    "EN_STATIC_ELEC = 0 # choose from 0, 1. 0: 1024, 1: 256"
   ]
  },
  {
   "cell_type": "code",
   "execution_count": null,
   "metadata": {},
   "outputs": [],
   "source": [
    "\"\"\" Fetch pixel gain data for the given HPF, EN_STATIC_ELEC \"\"\"\n",
    "# gain_mu, gain_sigma, valid_npt, freq: gain mean, gain SD, # of non-saturated channels, input frequency\n",
    "gain_mu0, gain_sigma0, valid_npt0, freqs0 = [], [], [], [] # vga_gain = 0\n",
    "gain_mu1, gain_sigma1, valid_npt1, freqs1 = [], [], [], [] # vga_gain = 1\n",
    "gain_mu2, gain_sigma2, valid_npt2, freqs2 = [], [], [], [] # vga_gain = 2\n",
    "gain_mu3, gain_sigma3, valid_npt3, freqs3 = [], [], [], [] # vga_gain = 3\n",
    "\n",
    "for fn in file_list:\n",
    "    vga_gain, vbias_pr, en_static_elec, input_freq = parse_Hf_filename(fn)\n",
    "\n",
    "    if not (vbias_pr == VBIAS_PR and en_static_elec == EN_STATIC_ELEC):\n",
    "        continue\n",
    "\n",
    "    array_gain = np.load(f'{data_dir}/{fn}')\n",
    "    array_gain = 20*np.log10(array_gain)\n",
    "\n",
    "    mu = np.nanmean(array_gain)\n",
    "    sigma = np.nanstd(array_gain)\n",
    "    valid_npt = array_gain.size - np.isnan(array_gain).sum()\n",
    "\n",
    "    if vga_gain == 0:\n",
    "        gain_mu0.append(mu)\n",
    "        gain_sigma0.append(sigma)\n",
    "        valid_npt0.append(valid_npt)\n",
    "        freqs0.append(input_freq)\n",
    "    if vga_gain == 1:\n",
    "        gain_mu1.append(mu)\n",
    "        gain_sigma1.append(sigma)\n",
    "        valid_npt1.append(valid_npt)\n",
    "        freqs1.append(input_freq)\n",
    "    if vga_gain == 2:\n",
    "        gain_mu2.append(mu)\n",
    "        gain_sigma2.append(sigma)\n",
    "        valid_npt2.append(valid_npt)\n",
    "        freqs2.append(input_freq)\n",
    "    if vga_gain == 3:\n",
    "        gain_mu3.append(mu)\n",
    "        gain_sigma3.append(sigma)\n",
    "        valid_npt3.append(valid_npt)\n",
    "        freqs3.append(input_freq)\n",
    "        \n",
    "# convert to numpy arrays\n",
    "gain_mu0, gain_sigma0, valid_npt0, freqs0  = np.array(gain_mu0), np.array(gain_sigma0), np.array(valid_npt0), np.array(freqs0) \n",
    "gain_mu1, gain_sigma1, valid_npt1, freqs1  = np.array(gain_mu1), np.array(gain_sigma1), np.array(valid_npt1), np.array(freqs1) \n",
    "gain_mu2, gain_sigma2, valid_npt2, freqs2  = np.array(gain_mu2), np.array(gain_sigma2), np.array(valid_npt2), np.array(freqs2) \n",
    "gain_mu3, gain_sigma3, valid_npt3, freqs3  = np.array(gain_mu3), np.array(gain_sigma3), np.array(valid_npt3), np.array(freqs3) "
   ]
  },
  {
   "cell_type": "code",
   "execution_count": null,
   "metadata": {},
   "outputs": [],
   "source": [
    "\"\"\" sort by frequency \"\"\"\n",
    "assert np.array_equal(freqs0, freqs1)\n",
    "assert np.array_equal(freqs0, freqs2)\n",
    "assert np.array_equal(freqs0, freqs3) \n",
    "\n",
    "sorted_idxs = np.argsort(freqs0)\n",
    "\n",
    "freqs       = freqs0     [sorted_idxs]\n",
    "\n",
    "gain_mu0    = gain_mu0   [sorted_idxs]\n",
    "gain_sigma0 = gain_sigma0[sorted_idxs]\n",
    "valid_npt0  = valid_npt0 [sorted_idxs]\n",
    "\n",
    "gain_mu1    = gain_mu1   [sorted_idxs]\n",
    "gain_sigma1 = gain_sigma1[sorted_idxs]\n",
    "valid_npt1  = valid_npt1 [sorted_idxs]\n",
    "\n",
    "gain_mu2    = gain_mu2   [sorted_idxs]\n",
    "gain_sigma2 = gain_sigma2[sorted_idxs]\n",
    "valid_npt2  = valid_npt2 [sorted_idxs]\n",
    "\n",
    "gain_mu3    = gain_mu3   [sorted_idxs]\n",
    "gain_sigma3 = gain_sigma3[sorted_idxs]\n",
    "valid_npt3  = valid_npt3 [sorted_idxs]"
   ]
  },
  {
   "cell_type": "code",
   "execution_count": null,
   "metadata": {},
   "outputs": [],
   "source": [
    "\"\"\" plot \"\"\"\n",
    "fig, ax = plt.subplots(1, 1, figsize=(4, 3))\n",
    "\n",
    "ax.errorbar(freqs, gain_mu0, yerr=gain_sigma0/np.sqrt(valid_npt0), fmt='o-', label='mu', capsize=6)\n",
    "ax.errorbar(freqs, gain_mu1, yerr=gain_sigma1/np.sqrt(valid_npt1), fmt='o-', label='mu', capsize=6)\n",
    "ax.errorbar(freqs, gain_mu2, yerr=gain_sigma2/np.sqrt(valid_npt2), fmt='o-', label='mu', capsize=6)\n",
    "ax.errorbar(freqs, gain_mu3, yerr=gain_sigma3/np.sqrt(valid_npt3), fmt='o-', label='mu', capsize=6)\n",
    "ax.set_xscale('log')\n",
    "\n",
    "ax.set_xlabel('Frequency (Hz)')\n",
    "ax.set_ylabel('Gain (dB)')\n",
    "ax.grid(True)\n",
    "ax.set_xticks([1, 100, 1e4])\n",
    "if en_static_elec == 1:\n",
    "    ax.set_title(f'Non-Tetrode. Vbias_PR={VBIAS_PR}\\n')\n",
    "else:\n",
    "    ax.set_title(f'Tetrode. Vbias_PR={VBIAS_PR}\\n')\n",
    "\n",
    "legend = ax.legend(['0', '1', '2', '3'], title='PGA Gain',\n",
    "                   title_fontsize=14, fontsize=14, loc=(1.05, 0))\n",
    "\n",
    "fb_idx = np.where(freqs == 1e3)[0][0]\n",
    "print(f'Flat Band Gains (mean): {gain_mu0[fb_idx]:.2f}, {gain_mu1[fb_idx]:.2f}, {gain_mu2[fb_idx]:.2f}, {gain_mu3[fb_idx]:.2f} dB') \n",
    "print(f'Flat Band Gains (SD): {gain_sigma0[fb_idx]:.2f}, {gain_sigma1[fb_idx]:.2f}, {gain_sigma2[fb_idx]:.2f}, {gain_sigma3[fb_idx]:.2f} dB') \n",
    "print(f'Flat Band Gains (N): {valid_npt0[fb_idx]}, {valid_npt1[fb_idx]}, {valid_npt2[fb_idx]}, {valid_npt3[fb_idx]}') "
   ]
  },
  {
   "cell_type": "markdown",
   "metadata": {},
   "source": [
    "Part 2. Plot Transfer Function vs. HPF configuration"
   ]
  },
  {
   "cell_type": "markdown",
   "metadata": {},
   "source": [
    "Choose PGA Gain and Tetrode Mode Configs"
   ]
  },
  {
   "cell_type": "code",
   "execution_count": null,
   "metadata": {},
   "outputs": [],
   "source": [
    "\"\"\" choose which configs to plot: VGA_GAIN, 256 vs 1024 \"\"\"\n",
    "VGA_GAIN       = 2 # choose from 0, 1, 2, 3.  0: lowest gain. 3: highest gain\n",
    "EN_STATIC_ELEC = 1 # choose from 0, 1. 0: 1024, 1: 256"
   ]
  },
  {
   "cell_type": "code",
   "execution_count": null,
   "metadata": {},
   "outputs": [],
   "source": [
    "\"\"\" Fetch pixel gain data for the given VGA_GAIN, EN_STATIC_ELEC \"\"\"\n",
    "# gain_mu, gain_sigma, valid_npt, freq: gain mean, gain SD, # of non-saturated channels, input frequency\n",
    "gain_mu5, gain_sigma5, valid_npt5, freqs5 = [], [], [], [] # vbias_pr = 5. vbias_pr; voltage bias for pseudo-resistor\n",
    "gain_mu6, gain_sigma6, valid_npt6, freqs6 = [], [], [], [] # vbias_pr = 6\n",
    "gain_mu7, gain_sigma7, valid_npt7, freqs7 = [], [], [], [] # vbias_pr = 7\n",
    "\n",
    "for fn in file_list:\n",
    "    vga_gain, vbias_pr, en_static_elec, input_freq = parse_Hf_filename(fn)\n",
    "\n",
    "    if not (vga_gain == VGA_GAIN and en_static_elec == EN_STATIC_ELEC):\n",
    "        continue\n",
    "      \n",
    "    array_gain = np.load(f'{data_dir}/{fn}')\n",
    "    array_gain = 20*np.log10(array_gain)\n",
    "\n",
    "    mu = np.nanmean(array_gain)\n",
    "    sigma = np.nanstd(array_gain)\n",
    "    valid_npt = array_gain.size - np.isnan(array_gain).sum()\n",
    "\n",
    "    if vbias_pr == 5:\n",
    "        gain_mu5.append(mu)\n",
    "        gain_sigma5.append(sigma)\n",
    "        valid_npt5.append(valid_npt)\n",
    "        freqs5.append(input_freq)\n",
    "    if vbias_pr == 6:\n",
    "        gain_mu6.append(mu)\n",
    "        gain_sigma6.append(sigma)\n",
    "        valid_npt6.append(valid_npt)\n",
    "        freqs6.append(input_freq)\n",
    "    if vbias_pr == 7:\n",
    "        gain_mu7.append(mu)\n",
    "        gain_sigma7.append(sigma)\n",
    "        valid_npt7.append(valid_npt)\n",
    "        freqs7.append(input_freq)\n",
    "              \n",
    "# convert to numpy arrays\n",
    "gain_mu5, gain_sigma5, valid_npt5, freqs5  = np.array(gain_mu5), np.array(gain_sigma5), np.array(valid_npt5), np.array(freqs5) \n",
    "gain_mu6, gain_sigma6, valid_npt6, freqs6  = np.array(gain_mu6), np.array(gain_sigma6), np.array(valid_npt6), np.array(freqs6) \n",
    "gain_mu7, gain_sigma7, valid_npt7, freqs7  = np.array(gain_mu7), np.array(gain_sigma7), np.array(valid_npt7), np.array(freqs7) "
   ]
  },
  {
   "cell_type": "code",
   "execution_count": null,
   "metadata": {},
   "outputs": [],
   "source": [
    "\"\"\" sort by frequency \"\"\"\n",
    "assert np.array_equal(freqs5, freqs6)\n",
    "assert np.array_equal(freqs5, freqs7)\n",
    "\n",
    "sorted_idxs = np.argsort(freqs5)\n",
    "\n",
    "freqs       = freqs5     [sorted_idxs]\n",
    "\n",
    "gain_mu5    = gain_mu5   [sorted_idxs]\n",
    "gain_sigma5 = gain_sigma5[sorted_idxs]\n",
    "valid_npt5  = valid_npt5 [sorted_idxs]\n",
    "\n",
    "gain_mu6    = gain_mu6   [sorted_idxs]\n",
    "gain_sigma6 = gain_sigma6[sorted_idxs]\n",
    "valid_npt6  = valid_npt6 [sorted_idxs]\n",
    "\n",
    "gain_mu7    = gain_mu7   [sorted_idxs]\n",
    "gain_sigma7 = gain_sigma7[sorted_idxs]\n",
    "valid_npt7  = valid_npt7 [sorted_idxs]"
   ]
  },
  {
   "cell_type": "code",
   "execution_count": null,
   "metadata": {},
   "outputs": [],
   "source": [
    "from scipy.interpolate import interp1d\n",
    "\n",
    "def print_3dB_HPC(freq, gain_mu, gain_sigma, fb_gain, valid_npt):\n",
    "    \"\"\"\n",
    "    given transfer function measurements taken in a coarse frequency range,\n",
    "    1. interpolates the data to a finer resolution range\n",
    "    2. interpolates the 3-dB HPF cut-off and prints out the result\n",
    "\n",
    "    freq: measured frequencies\n",
    "    gain_mu: pixel gain, average. across frequencies\n",
    "    gain_sigma: pixel gain, SD. across frequencies\n",
    "    fb_gain: pixel gain, average @ flat band frequency \n",
    "    valid_npt: number of samples at each data point\n",
    "    \"\"\"\n",
    "    f_mu = interp1d(freq, gain_mu)\n",
    "    f_sigma = interp1d(freq, gain_sigma)\n",
    "    f_npt = interp1d(freq, valid_npt)\n",
    "\n",
    "    finer_freq = np.logspace(0, 3, 300)\n",
    "    finer_mu = f_mu(finer_freq)\n",
    "    # interpolating SD is okay because it is behaving monotonically in\n",
    "    # the frequency range of our interest\n",
    "    finer_sigma = f_sigma(finer_freq) \n",
    "    finer_npt = f_npt(finer_freq)\n",
    "\n",
    "    idx = np.where(finer_mu <= fb_gain - 3)[0][-1]\n",
    "    print(f'3dB HPC: {finer_freq[idx]:.2f} ± {finer_sigma[idx]:.2f} Hz, n = {int(finer_npt[idx])}')\n",
    "\n",
    "# confirm monotonicity of SD\n",
    "# fig, ax = plt.subplots(figsize=(4, 3))\n",
    "# ax.plot(freqs, gain_sigma5)\n",
    "# ax.plot(freqs, gain_sigma6)\n",
    "# ax.plot(freqs, gain_sigma7)\n",
    "# ax.set_xscale('log')"
   ]
  },
  {
   "cell_type": "code",
   "execution_count": null,
   "metadata": {},
   "outputs": [],
   "source": [
    "\"\"\" print 3-dB cut-offs \"\"\"\n",
    "fb_idx = np.where(freqs == 1e3)[0][0]\n",
    "fb_gain = np.mean((gain_mu5[fb_idx], gain_mu6[fb_idx], gain_mu7[fb_idx]))\n",
    "\n",
    "print_3dB_HPC(freqs, gain_mu5, gain_sigma5, fb_gain, valid_npt5)\n",
    "print_3dB_HPC(freqs, gain_mu6, gain_sigma6, fb_gain, valid_npt6)\n",
    "print_3dB_HPC(freqs, gain_mu7, gain_sigma7, fb_gain, valid_npt7)"
   ]
  },
  {
   "cell_type": "code",
   "execution_count": null,
   "metadata": {},
   "outputs": [],
   "source": [
    "\"\"\" plot \"\"\"\n",
    "fig, ax = plt.subplots(1, 1, figsize=(4, 3))\n",
    "\n",
    "ax.errorbar(freqs, gain_mu7, yerr=gain_sigma7/np.sqrt(valid_npt7), fmt='o-', label='mu', capsize=6)\n",
    "ax.errorbar(freqs, gain_mu6, yerr=gain_sigma6/np.sqrt(valid_npt6), fmt='o-', label='mu', capsize=6)\n",
    "ax.errorbar(freqs, gain_mu5, yerr=gain_sigma5/np.sqrt(valid_npt5), fmt='o-', label='mu', capsize=6)\n",
    "ax.set_xscale('log')\n",
    "\n",
    "ax.set_xlabel('Frequency (Hz)')\n",
    "ax.set_ylabel('Gain (dB)')\n",
    "ax.set_xticks([1, 100, 1e4])\n",
    "ax.set_yticks([20, 40, 60])\n",
    "ax.grid(True)"
   ]
  },
  {
   "cell_type": "code",
   "execution_count": null,
   "metadata": {},
   "outputs": [],
   "source": []
  }
 ],
 "metadata": {
  "kernelspec": {
   "display_name": ".venv",
   "language": "python",
   "name": "python3"
  },
  "language_info": {
   "codemirror_mode": {
    "name": "ipython",
    "version": 3
   },
   "file_extension": ".py",
   "mimetype": "text/x-python",
   "name": "python",
   "nbconvert_exporter": "python",
   "pygments_lexer": "ipython3",
   "version": "3.10.0"
  },
  "orig_nbformat": 4,
  "vscode": {
   "interpreter": {
    "hash": "d955faee816db44f0a85e254d00ad008273b576d6dbe16759b0bc5b99bc5dcbd"
   }
  }
 },
 "nbformat": 4,
 "nbformat_minor": 2
}
