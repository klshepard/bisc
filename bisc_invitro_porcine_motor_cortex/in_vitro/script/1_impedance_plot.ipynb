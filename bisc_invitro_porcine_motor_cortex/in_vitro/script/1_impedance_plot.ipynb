{
 "cells": [
  {
   "cell_type": "code",
   "execution_count": null,
   "metadata": {},
   "outputs": [],
   "source": [
    "import numpy as np\n",
    "import csv\n",
    "\n",
    "from utils_invitro_global import *"
   ]
  },
  {
   "cell_type": "code",
   "execution_count": null,
   "metadata": {},
   "outputs": [],
   "source": [
    "from matplotlib import pyplot as plt\n",
    "from matplotlib_settings import set_plot_settings, reset_plot_settings\n",
    "\n",
    "set_plot_settings()"
   ]
  },
  {
   "cell_type": "markdown",
   "metadata": {},
   "source": [
    "EIS"
   ]
  },
  {
   "cell_type": "code",
   "execution_count": null,
   "metadata": {},
   "outputs": [],
   "source": [
    "\"\"\"\n",
    "EIS measurement was taken from a 20x20 um^2 TiN sample.\n",
    "This sample was fabricated using the same recipe that was used on the implant electrodes\n",
    "\"\"\""
   ]
  },
  {
   "cell_type": "code",
   "execution_count": null,
   "metadata": {},
   "outputs": [],
   "source": [
    "\"\"\" load data \"\"\"\n",
    "fn = \"EIS_20x20.txt\" # taken from a 20x20 um sample\n",
    "fullpath = f\"{ELEC_DATA_DIR}/{fn}\"\n",
    "\n",
    "freq, mag, phase = [], [], []\n",
    "scale_factor = (20*20)/(14*14) # scale by BISC electrode size: 14x14\n",
    "with open(fullpath, 'r') as file:\n",
    "    csvreader = csv.reader(file, delimiter=\"\\t\")\n",
    "    next(csvreader)\n",
    "    for row in csvreader:\n",
    "        freq.append(float(row[0]))\n",
    "        mag.append(float(row[3])*scale_factor)\n",
    "        phase.append(float(row[4]))\n",
    "\n",
    "freq = np.asarray(freq, dtype=np.double)\n",
    "mag = np.asarray(mag, dtype=np.double)\n",
    "phase = np.asarray(phase, dtype=np.double)"
   ]
  },
  {
   "cell_type": "code",
   "execution_count": null,
   "metadata": {},
   "outputs": [],
   "source": [
    "\"\"\" interpolate impedance @ 1kHz \"\"\"\n",
    "f1kHz = 1e3\n",
    "idx = np.where(freq < f1kHz)[0][0]\n",
    "f0, f1 = freq[idx], freq[idx-1] # freq is sorted descending\n",
    "z0, z1 = mag[idx], mag[idx-1]\n",
    "z_1kHz = mag[idx] + (z1 - z0)/(f1 - f0)*(1e3 - f0)\n",
    "print(f'{z_1kHz/1e3:.2f} kOhm @ 1kHz')\n",
    "\n",
    "# print equivalent cap\n",
    "c_equiv = 1/(2*np.pi*z_1kHz*f1kHz) # (F)\n",
    "print(f'Equivalent Cap: {c_equiv/1e-9:.3f} nF')\n",
    "\n",
    "# print equivalent charge storage capacity\n",
    "# compliance voltage. circuit-side compliance is ~1.4V\n",
    "# but TiN CV shows its limit is near 1.2V which is also consistent with the literature\n",
    "Vcomp = 1.2 # (V)\n",
    "pix_area = 4*0.0014**2 # (cm^2)\n",
    "\n",
    "csc = c_equiv*Vcomp/pix_area\n",
    "print(f'Expected charge storage capacity: {csc/1e-3:.2f} (mC/cm^2)')"
   ]
  },
  {
   "cell_type": "code",
   "execution_count": null,
   "metadata": {},
   "outputs": [],
   "source": [
    "\"\"\" plot EIS \"\"\"\n",
    "fig, ax = plt.subplots(1, 1, figsize=(3.5, 3))\n",
    "\n",
    "ax.grid(True)\n",
    "ax.tick_params(axis='both', which='major')\n",
    "ax.set_xlabel('Frequency (Hz)')\n",
    "ax.set_ylabel('|Z| ($\\Omega$)')\n",
    "\n",
    "ax.loglog(freq, mag)\n",
    "\n",
    "ax2 = ax.twinx()\n",
    "ax2.semilogx(freq, phase, '--', color='purple')\n",
    "ax2.set_yticks([-30, -60, -90])\n",
    "ax2.tick_params(axis='both', which='major')\n",
    "ax2.set_ylabel('Phase (°)')\n",
    "\n",
    "# fig.legend(['|Z|','Phase'], loc=(0.5, 0.68), fontsize=16)\n",
    "fig.legend(['|Z|','Phase'], loc=(0.5, 0.7), fontsize=14)"
   ]
  },
  {
   "cell_type": "code",
   "execution_count": null,
   "metadata": {},
   "outputs": [],
   "source": []
  }
 ],
 "metadata": {
  "kernelspec": {
   "display_name": ".venv",
   "language": "python",
   "name": "python3"
  },
  "language_info": {
   "codemirror_mode": {
    "name": "ipython",
    "version": 3
   },
   "file_extension": ".py",
   "mimetype": "text/x-python",
   "name": "python",
   "nbconvert_exporter": "python",
   "pygments_lexer": "ipython3",
   "version": "3.10.0"
  }
 },
 "nbformat": 4,
 "nbformat_minor": 2
}
