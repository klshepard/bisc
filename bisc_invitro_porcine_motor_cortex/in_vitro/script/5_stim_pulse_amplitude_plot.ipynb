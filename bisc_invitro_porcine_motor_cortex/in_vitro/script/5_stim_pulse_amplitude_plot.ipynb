{
 "cells": [
  {
   "cell_type": "code",
   "execution_count": null,
   "metadata": {},
   "outputs": [],
   "source": [
    "\"\"\" import settings \"\"\"\n",
    "%load_ext autoreload\n",
    "%autoreload 2\n",
    "\n",
    "import numpy as np\n",
    "import sys, os, csv\n",
    "\n",
    "from utils_invitro_global import *\n",
    "\n",
    "\n",
    "from utils_invitro_misc import parse_stim_filename, load_stim_csv\n",
    "from utils_invitro_plot import stim_wavform_colors"
   ]
  },
  {
   "cell_type": "code",
   "execution_count": null,
   "metadata": {},
   "outputs": [],
   "source": [
    "from matplotlib import pyplot as plt\n",
    "from matplotlib_settings import set_plot_settings, reset_plot_settings\n",
    "\n",
    "set_plot_settings()"
   ]
  },
  {
   "cell_type": "code",
   "execution_count": null,
   "metadata": {},
   "outputs": [],
   "source": [
    "\"\"\"\n",
    "Stimulation waveforms were measured using the following setup:\n",
    "BISC stimulation current is injected into 1x PBS wells\n",
    "Each well (MEA and Counter) have Ag/AgCl electrodes connected to BNC cable\n",
    "BCN cable is connected to TIA (SR570) whose gain is configured to TIA_GAIN\n",
    "TIA output is connected to an oscilloscope whose voltage measurement is read out and stored \n",
    "\"\"\""
   ]
  },
  {
   "cell_type": "code",
   "execution_count": null,
   "metadata": {},
   "outputs": [],
   "source": [
    "\"\"\" fetch all data files \"\"\"\n",
    "data_dir = f'{STIM_DATA_DIR}/amp_sweep'\n",
    "file_list = [fn for fn in os.listdir(data_dir) if fn.endswith('csv')]"
   ]
  },
  {
   "cell_type": "code",
   "execution_count": null,
   "metadata": {},
   "outputs": [],
   "source": [
    "\"\"\" how to parse filename \"\"\"\n",
    "# stimulation configurations have been directly embedded in the filename..\n",
    "# this cell is an example of parsing a filename\n",
    "# errata: although prog_set in the filename says 3\n",
    "# sets 0, 1, 2, 3 were actually used, resulting in 4*(8x8) pixels.\n",
    "# it means that all measurements were taken from a set of 256 (out of 16384) pixels\n",
    "\n",
    "fn = 'ibias_global_6_ibias_stim_4_prog_set_4_polarity_0_negative_4_positive_4_balance_15_num_rep_1_num_spikes_3_extra_balance_10.csv'\n",
    "ibias_global, ibias_stim, prog_set, polarity, negative, positive, balance, _, _, _ =  parse_stim_filename(fn)\n",
    "print(ibias_global, ibias_stim, prog_set, polarity, negative, positive, balance)"
   ]
  },
  {
   "cell_type": "markdown",
   "metadata": {},
   "source": [
    "Plot Amplitude Sweep Waveforms"
   ]
  },
  {
   "cell_type": "code",
   "execution_count": null,
   "metadata": {},
   "outputs": [],
   "source": [
    "\"\"\" Expected Amplitudes \"\"\"\n",
    "# stimulation current amplitude is configured using\n",
    "# two configuration params: ibias_global and ibias_stim\n",
    "# amplitude follows formula: ibias_global*ibias_stim_map[ibias_stim] (uA)\n",
    "\n",
    "y0_theory = []\n",
    "ibias_stim_map = [0, 1, 2, 4, 6, 8, 12, 16]\n",
    "ibias_stim = 7\n",
    "for ibias_global in range(1, 8):\n",
    "    y0_theory.append(10e-6*ibias_global*ibias_stim_map[ibias_stim])\n",
    "\n",
    "# in theory, these are the currents we expect (uA)\n",
    "print(np.array(y0_theory)/1e-6)"
   ]
  },
  {
   "cell_type": "code",
   "execution_count": null,
   "metadata": {},
   "outputs": [],
   "source": [
    "\"\"\" pick IBIAS_STIM from 0, 1, ... , 7 \"\"\"\n",
    "IBIAS_STIM = 7"
   ]
  },
  {
   "cell_type": "code",
   "execution_count": null,
   "metadata": {},
   "outputs": [],
   "source": [
    "\"\"\" Plot Cathodic First, for a fixed IBIAS_STIM \"\"\"\n",
    "plt.close('all')\n",
    "fig, ax = plt.subplots(figsize=(4, 3))\n",
    "\n",
    "T0 = 25e-6*(12.5/13.56)\n",
    "color_idx = 0\n",
    "\n",
    "for fn in file_list:\n",
    "    ibias_global, ibias_stim, _, polarity, negative, positive, balance, _, _, _ = parse_stim_filename(fn)\n",
    "    assert negative == positive # equal length bi-phasic\n",
    "    pulse_length = negative\n",
    "\n",
    "    # polarity = 0 indicates cathodic-first\n",
    "    if not (polarity == 0 and ibias_stim == IBIAS_STIM):\n",
    "        continue\n",
    "    data = load_stim_csv(data_dir, fn)\n",
    "\n",
    "    # measurement setup: BISC -> TIA -> Oscilloscope \n",
    "    # convert oscilloscope voltage to current\n",
    "    t, v1 = np.array(data[:, 0]), np.array(data[:, 1])/TIA_GAIN\n",
    "\n",
    "    # oscilloscope was triggered to a positive edge\n",
    "    # apply time offset correction\n",
    "    if polarity == 0:\n",
    "        t = t - t[len(t)//2]\n",
    "    else:\n",
    "        t = t - t[len(t)//2] - (pulse_length*T0)\n",
    "\n",
    "    # pick color. wrap around if needed\n",
    "    color = stim_wavform_colors[color_idx%len(stim_wavform_colors)]\n",
    "    color_idx += 1\n",
    "\n",
    "    # plot\n",
    "    ax.plot(t/1e-6, v1/1e-3, color=color)\n",
    "\n",
    "ax.set_xlim((-125, 125))\n",
    "ax.set_ylabel('Stim (mA)')\n",
    "ax.set_xlabel('Time (μs)')\n",
    "ax.grid(True)"
   ]
  },
  {
   "cell_type": "code",
   "execution_count": null,
   "metadata": {},
   "outputs": [],
   "source": [
    "\"\"\" Plot Cathodic First, for a fixed IBIAS_STIM \"\"\"\n",
    "plt.close('all')\n",
    "fig, ax = plt.subplots(figsize=(4, 3))\n",
    "\n",
    "T0 = 25e-6*(12.5/13.56)\n",
    "color_idx = 0\n",
    "\n",
    "for fn in file_list:\n",
    "    ibias_global, ibias_stim, _, polarity, negative, positive, balance, _, _, _ = parse_stim_filename(fn)\n",
    "    assert negative == positive # equal length bi-phasic\n",
    "    pulse_length = negative\n",
    "\n",
    "    # polarity = 1 indicates anodic-first\n",
    "    if not (polarity == 1 and ibias_stim == IBIAS_STIM):\n",
    "        continue\n",
    "    data = load_stim_csv(data_dir, fn)\n",
    "\n",
    "    # measurement setup: BISC -> TIA -> Oscilloscope \n",
    "    # convert oscilloscope voltage to current\n",
    "    t, v1 = np.array(data[:, 0]), np.array(data[:, 1])/TIA_GAIN\n",
    "\n",
    "    # oscilloscope was triggered to a positive edge\n",
    "    # apply time offset correction\n",
    "    if polarity == 0:\n",
    "        t = t - t[len(t)//2]\n",
    "    else:\n",
    "        t = t - t[len(t)//2] - (pulse_length*T0)\n",
    "\n",
    "    # pick color. wrap around if needed\n",
    "    color = stim_wavform_colors[color_idx%len(stim_wavform_colors)]\n",
    "    color_idx += 1\n",
    "\n",
    "    # plot\n",
    "    ax.plot(t/1e-6, v1/1e-3, color=color)\n",
    "\n",
    "ax.set_xlim((-125, 125))\n",
    "ax.set_ylabel('Stim (mA)')\n",
    "ax.set_xlabel('Time (μs)')\n",
    "ax.grid(True)"
   ]
  }
 ],
 "metadata": {
  "kernelspec": {
   "display_name": ".venv",
   "language": "python",
   "name": "python3"
  },
  "language_info": {
   "codemirror_mode": {
    "name": "ipython",
    "version": 3
   },
   "file_extension": ".py",
   "mimetype": "text/x-python",
   "name": "python",
   "nbconvert_exporter": "python",
   "pygments_lexer": "ipython3",
   "version": "3.10.0"
  },
  "orig_nbformat": 4
 },
 "nbformat": 4,
 "nbformat_minor": 2
}
