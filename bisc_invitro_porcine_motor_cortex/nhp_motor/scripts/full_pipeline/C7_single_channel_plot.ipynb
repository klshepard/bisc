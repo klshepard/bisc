{
 "cells": [
  {
   "cell_type": "code",
   "execution_count": null,
   "metadata": {},
   "outputs": [],
   "source": [
    "%load_ext autoreload\n",
    "%autoreload 2\n",
    "import os, sys\n",
    "\n",
    "import numpy as np\n",
    "\n",
    "from matplotlib import pyplot as plt\n",
    "from matplotlib_settings import set_plot_settings, reset_plot_settings\n",
    "\n",
    "# Set the plot settings\n",
    "set_plot_settings()\n",
    "\n",
    "# import global variables\n",
    "from utils_motor_global import *\n",
    "\n",
    "from utils_motor_sigproc import get_mt_ch_psd, normalize_spect\n",
    "\n",
    "SAVE_IMG_DIR = './paper_figure_fodder/thesis'"
   ]
  },
  {
   "cell_type": "markdown",
   "metadata": {},
   "source": [
    "Channel Spectrogram "
   ]
  },
  {
   "cell_type": "code",
   "execution_count": null,
   "metadata": {},
   "outputs": [],
   "source": [
    "spect_mu  = np.load(f'{BAND_MU_SIGMA_DIR}/spect_mu.npy')\n",
    "spect_sigma  = np.load(f'{BAND_MU_SIGMA_DIR}/spect_sigma.npy')"
   ]
  },
  {
   "cell_type": "code",
   "execution_count": null,
   "metadata": {},
   "outputs": [],
   "source": [
    "key = '010'"
   ]
  },
  {
   "cell_type": "code",
   "execution_count": null,
   "metadata": {},
   "outputs": [],
   "source": [
    "\"\"\" load recording before PC removal \"\"\"\n",
    "rec_load_dir = f'{REC_DIR}/2_BPF_DS/{key}'\n",
    "DS_t = np.load(f'{rec_load_dir}/t_DS_session_{key}.npy')\n",
    "DS_rec_data = np.load(f'{rec_load_dir}/recording_DS_session_{key}.npy')\n",
    "DS_good_ch = np.load(f'{rec_load_dir}/good_channels_{key}.npy')\n",
    "\n",
    "DS_rec_data = DS_rec_data.T # channel * time"
   ]
  },
  {
   "cell_type": "code",
   "execution_count": null,
   "metadata": {},
   "outputs": [],
   "source": [
    "\"\"\" load recording after PC removal \"\"\"\n",
    "rec_load_dir = f'{REC_DIR}/3_HD_remove_5_PCs/{key}'\n",
    "t_HB_removed = np.load(f'{rec_load_dir}/t_HB_removed_session_{key}.npy')\n",
    "rec_data_HB_removed = np.load(f'{rec_load_dir}/recording_HB_removed_session_{key}.npy')\n",
    "good_ch_HB_removed = np.load(f'{rec_load_dir}/good_channels_{key}.npy')\n",
    "\n",
    "rec_data_HB_removed = rec_data_HB_removed.T # channel * time"
   ]
  },
  {
   "cell_type": "code",
   "execution_count": null,
   "metadata": {},
   "outputs": [],
   "source": [
    "\"\"\" truncate data before PC removal \"\"\"\n",
    "t_HB_removed[0], t_HB_removed[-1], DS_t[0], DS_t[-1]\n",
    "idx0 = np.where(DS_t == t_HB_removed[0])[0][0]\n",
    "idx1 = np.where(DS_t == t_HB_removed[-1])[0][0] + 1\n",
    "\n",
    "DS_t = DS_t[idx0:idx1]\n",
    "DS_rec_data = DS_rec_data[:,idx0:idx1]\n",
    "\n",
    "assert DS_rec_data.shape == rec_data_HB_removed.shape"
   ]
  },
  {
   "cell_type": "code",
   "execution_count": null,
   "metadata": {},
   "outputs": [],
   "source": [
    "\"\"\" load spectrogram data \"\"\"\n",
    "# recording data\n",
    "spect_load_dir = f'{REC_DIR}/6_truncate/{key}'\n",
    "good_chs_10    = np.load(f'{spect_load_dir}/good_channels_{key}.npy')\n",
    "spect_10       = np.load(f'{spect_load_dir}/spect_{key}.npy'     ) \n",
    "lmp_data_10    = np.load(f'{spect_load_dir}/lmp_{key}.npy'       ) \n",
    "spect_f_10     = np.load(f'{spect_load_dir}/spect_f_{key}.npy'   ) \n",
    "spect_t_10     = np.load(f'{spect_load_dir}/spect_t_{key}.npy'   ) "
   ]
  },
  {
   "cell_type": "code",
   "execution_count": null,
   "metadata": {},
   "outputs": [],
   "source": [
    "\"\"\" load motion data \"\"\"\n",
    "motion_dir = f'{MODEL_INPUT_DIR}/motion/{key}'\n",
    "\n",
    "y_10            = np.load(f'{motion_dir}/norm_wrist_vel_y_{key}.npy')\n",
    "motion_t_10     = np.load(f'{motion_dir}/model_t_{key}.npy')"
   ]
  },
  {
   "cell_type": "code",
   "execution_count": null,
   "metadata": {},
   "outputs": [],
   "source": [
    "t_HB_removed[0], t_HB_removed[-1], spect_t_10[0], spect_t_10[-1], motion_t_10[0], motion_t_10[-1]"
   ]
  },
  {
   "cell_type": "code",
   "execution_count": null,
   "metadata": {},
   "outputs": [],
   "source": [
    "\"\"\" truncate the recording and spectrogram to match motion (model) time window \"\"\"\n",
    "rec_idx0   = np.where(t_HB_removed >= motion_t_10[0])[0][0]\n",
    "rec_idx1   = np.where(t_HB_removed <= motion_t_10[-1])[0][-1] + 1\n",
    "\n",
    "spect_idx0 = np.where(spect_t_10 >= motion_t_10[0])[0][0]\n",
    "spect_idx1 = np.where(spect_t_10 <= motion_t_10[-1])[0][-1] + 1\n",
    "assert spect_idx1 - spect_idx0 == len(motion_t_10)\n",
    "\n",
    "t_HB_removed        = t_HB_removed[rec_idx0:rec_idx1]\n",
    "rec_data_HB_removed = rec_data_HB_removed[:,rec_idx0:rec_idx1]\n",
    "spect_t_10   = spect_t_10[spect_idx0:spect_idx1]\n",
    "spect_10     = spect_10[:,spect_idx0:spect_idx1,:]"
   ]
  },
  {
   "cell_type": "code",
   "execution_count": null,
   "metadata": {},
   "outputs": [],
   "source": [
    "\"\"\" force the all times to start at zero \"\"\"\n",
    "t_HB_removed -= t_HB_removed[0]\n",
    "spect_t_10  -= spect_t_10[0]\n",
    "motion_t_10 -= motion_t_10[0]\n",
    "\n",
    "t_HB_removed[0], t_HB_removed[-1], spect_t_10[0], spect_t_10[-1], motion_t_10[0], motion_t_10[-1]"
   ]
  },
  {
   "cell_type": "code",
   "execution_count": null,
   "metadata": {},
   "outputs": [],
   "source": [
    "\"\"\" z-score spectrogram \"\"\"\n",
    "zs_spect_10  =  normalize_spect(good_chs_10, spect_10, spect_mu, spect_sigma, sel_zscore=True)"
   ]
  },
  {
   "cell_type": "code",
   "execution_count": null,
   "metadata": {},
   "outputs": [],
   "source": [
    "from scipy.signal.windows import dpss\n",
    "\"\"\" multi-taper params (decide how long to plot) \"\"\"\n",
    "t_start, t_end = 0, 20 # seconds\n",
    "Ts = t_HB_removed[1] - t_HB_removed[0]\n",
    "rec_idx0 = np.where(t_HB_removed >= t_start)[0][0]\n",
    "rec_idx1 = np.where(t_HB_removed <= t_end)[0][-1] + 1\n",
    "\n",
    "len_win = t_HB_removed[rec_idx1] - t_HB_removed[rec_idx0]\n",
    "\n",
    "W = 0.5 # Hz. frequency smoothing: [f0 - W , f0 + W]\n",
    "NW = len_win*W # common choices are 2.5, 3, 3.5, 4\n",
    "K = int(2*NW - 1) # Number of tapers\n",
    "print(f'{NW=:.2f}, {K=}')\n",
    "\n",
    "fs = 1/Ts\n",
    "win_size = rec_idx1 - rec_idx0\n",
    "\n",
    "n = win_size\n",
    "half_n = int(np.ceil(win_size/2))\n",
    "freq = np.fft.fftfreq(win_size, d = 1/fs)\n",
    "half_freq = freq[:half_n]\n",
    "fbin = half_freq[1]\n",
    "\n",
    "# DPSS\n",
    "dpss_tapers, dpss_eigen = dpss(n, NW, K, return_ratios=True)\n",
    "wt = np.ones(K)/K # apply unity weight"
   ]
  },
  {
   "cell_type": "code",
   "execution_count": null,
   "metadata": {},
   "outputs": [],
   "source": [
    "\"\"\" plot motion, time domain trace, spectrogram of a single channel \"\"\"\n",
    "r, c = 3, 8\n",
    "ch = 16*r + c # pick a channel\n",
    "\n",
    "rec_ch_idx   = np.where(good_ch_HB_removed == ch)[0][0]\n",
    "spect_ch_idx = np.where(good_chs_10 == ch)[0][0]\n",
    "\n",
    "# motion params\n",
    "motion_idx0 = np.where(motion_t_10 >= t_start)[0][0]\n",
    "motion_idx1 = np.where(motion_t_10 <= t_end)[0][-1] + 1\n",
    "\n",
    "# rec params\n",
    "assert np.array_equal(good_ch_HB_removed, DS_good_ch)\n",
    "ch_data = rec_data_HB_removed[rec_ch_idx,rec_idx0:rec_idx1]\n",
    "ch_data = ch_data*FS_ADC/MAX_ADC_CODE/GAIN\n",
    "DS_ch_data = DS_rec_data[rec_ch_idx,rec_idx0:rec_idx1]\n",
    "DS_ch_data = DS_ch_data*FS_ADC/MAX_ADC_CODE/GAIN\n",
    "\n",
    "# spectrogram params\n",
    "spect_idx0 = np.where(spect_t_10 >= t_start)[0][0]\n",
    "spect_idx1 = np.where(spect_t_10 <= t_end)[0][-1] + 1\n",
    "\n",
    "ch_zs_spect = zs_spect_10[spect_ch_idx,spect_idx0:spect_idx1,:]\n",
    "ch_zs_spect = ch_zs_spect[::16, :] # downsample\n",
    "\n",
    "t0, t1 = t_start, t_end\n",
    "f0, f1 = int(spect_f_10[0]), round(spect_f_10[-1])\n",
    "extent = [t0, t1, f1, f0]\n",
    "q_cut = 0.01\n",
    "vmin = np.quantile(ch_zs_spect, q_cut)\n",
    "vmax = np.quantile(ch_zs_spect, 1-q_cut)\n",
    "cmap = 'viridis'\n",
    "\n",
    "plt.close('all')\n",
    "k = 0.9\n",
    "fig, ax = plt.subplots(3, 1, sharex=True, figsize=(10*k, 6*k),\n",
    "                       gridspec_kw = {'height_ratios': [1.5, 1.5, 2]})\n",
    "plt.subplots_adjust(hspace=0.3)\n",
    "\n",
    "ax[0].plot(motion_t_10[motion_idx0:motion_idx1], y_10[motion_idx0:motion_idx1])\n",
    "ax[1].plot(t_HB_removed[rec_idx0:rec_idx1], ch_data/1e-6)\n",
    "\n",
    "im = ax[2].imshow(ch_zs_spect.T, aspect='auto', vmin=vmin, vmax=vmax, extent=extent, cmap=cmap,\n",
    "             interpolation='bilinear')\n",
    "ax[2].invert_yaxis()\n",
    "\n",
    "\n",
    "ax[0].set_yticks([0])\n",
    "ax[2].set_xticks([0, 5, 10, 15, 20])\n",
    "\n",
    "for ii in range(3):\n",
    "    ax[ii].grid(True)\n",
    "\n",
    "ax[0].set_title(f'Channel ({r, c})\\n')\n",
    "fontsize = 14\n",
    "ax[0].set_ylabel('Wrist y-vel.\\n(normalized)\\n', fontsize=fontsize)\n",
    "ax[1].set_ylabel('Recording (μV)', fontsize=fontsize)\n",
    "ax[2].set_ylabel('Frequency (Hz)', fontsize=fontsize)\n",
    "\n",
    "ax[2].set_xlabel('Time (s)')\n",
    "\n",
    "left_cbar = 0.92  # Adjust left position of the colorbars\n",
    "bottom_cbar0 = 0.11  # Adjust bottom position of the colorbars\n",
    "width_cbar = 0.015  # Adjust width of the colorbars\n",
    "height_cbar = 0.26  # Adjust height of the colorbars\n",
    "\n",
    "cbar0_ax = fig.add_axes([left_cbar, bottom_cbar0, width_cbar, height_cbar])\n",
    "cbar0 = fig.colorbar(im, ax=ax[2], cax=cbar0_ax)\n",
    "# cbar0.set_ticks([-1.5, 0, 1.5])\n",
    "\n",
    "plt.savefig(f\"{SAVE_IMG_DIR}./channel_spectrogram.svg\", bbox_inches='tight')\n",
    "plt.savefig(f\"{SAVE_IMG_DIR}./channel_spectrogram.png\", bbox_inches='tight', dpi=1200)"
   ]
  },
  {
   "cell_type": "code",
   "execution_count": null,
   "metadata": {},
   "outputs": [],
   "source": [
    "\"\"\" plot a single channel PSD\"\"\"\n",
    "assert len(ch_data) == win_size\n",
    "\n",
    "# freq_half, ch_psd = get_fft_power(ch_data/MAX_ADC_CODE*FS_ADC, Ts, filter='None')\n",
    "ch_psd = get_mt_ch_psd(ch_data, dpss_tapers, wt)\n",
    "DS_ch_psd = get_mt_ch_psd(DS_ch_data, dpss_tapers, wt)\n",
    "\n",
    "psd_idx0 = np.where(half_freq >= 1)[0][0]\n",
    "psd_idx1 = np.where(half_freq <= 300)[0][-1] + 1\n",
    "norm_val = np.max(ch_psd[psd_idx0:psd_idx1])\n",
    "ch_psd = ch_psd/norm_val\n",
    "DS_ch_psd = DS_ch_psd/norm_val\n",
    "\n",
    "plt.close('all')\n",
    "fig, ax = plt.subplots(figsize=(4, 3))\n",
    "ax.loglog(half_freq, DS_ch_psd)\n",
    "ax.loglog(half_freq, ch_psd)\n",
    "\n",
    "ax.set_xlim((1, 300))\n",
    "# ax.set_ylim((np.min(ch_psd)*0.5, 2))\n",
    "ax.set_ylim((1e-5, 2))\n",
    "ax.set_xlabel('Frequency (Hz)')\n",
    "ax.set_ylabel('PSD (a.u.)')\n",
    "\n",
    "ax.set_title(f'Channel ({r, c})')\n",
    "ax.grid(True)\n",
    "\n",
    "ax.axvline(x = HB_BPF_LOW , linestyle='--', color='k')\n",
    "ax.axvline(x = HB_BPF_HIGH, linestyle='--', color='k')\n",
    "\n",
    "ax.legend(['Before HD Removal', 'After HD Removal'], loc = (1.02, 0))\n",
    "\n",
    "plt.savefig(f\"{SAVE_IMG_DIR}./channel_psd.svg\", bbox_inches='tight')\n",
    "plt.savefig(f\"{SAVE_IMG_DIR}./channel_psd.png\", bbox_inches='tight', dpi=1200)"
   ]
  },
  {
   "cell_type": "code",
   "execution_count": null,
   "metadata": {},
   "outputs": [],
   "source": [
    "fig, ax = plt.subplots(2, 1, sharex=True, sharey=True, figsize=(4, 3))\n",
    "ax[0].plot(t_HB_removed[rec_idx0:rec_idx1], DS_ch_data/1e-6)\n",
    "ax[1].plot(t_HB_removed[rec_idx0:rec_idx1], ch_data/1e-6)\n",
    "ax[0].set_xlim((15, 20))\n",
    "\n",
    "\n",
    "fontsize = 12\n",
    "ax[0].set_ylabel('Before HD\\nRemoval (μV)', fontsize=fontsize)\n",
    "ax[1].set_ylabel('After HD\\nRemoval (μV)', fontsize=fontsize)\n",
    "ax[1].set_xlabel('Time (s)')\n",
    "\n",
    "plt.savefig(f\"{SAVE_IMG_DIR}./HD_effect_channel_td.svg\", bbox_inches='tight')\n",
    "plt.savefig(f\"{SAVE_IMG_DIR}./HD_effect_channel_td.png\", bbox_inches='tight', dpi=1200)"
   ]
  },
  {
   "cell_type": "code",
   "execution_count": null,
   "metadata": {},
   "outputs": [],
   "source": []
  }
 ],
 "metadata": {
  "kernelspec": {
   "display_name": ".venv",
   "language": "python",
   "name": "python3"
  },
  "language_info": {
   "codemirror_mode": {
    "name": "ipython",
    "version": 3
   },
   "file_extension": ".py",
   "mimetype": "text/x-python",
   "name": "python",
   "nbconvert_exporter": "python",
   "pygments_lexer": "ipython3",
   "version": "3.10.0"
  },
  "orig_nbformat": 4,
  "vscode": {
   "interpreter": {
    "hash": "d955faee816db44f0a85e254d00ad008273b576d6dbe16759b0bc5b99bc5dcbd"
   }
  }
 },
 "nbformat": 4,
 "nbformat_minor": 2
}
