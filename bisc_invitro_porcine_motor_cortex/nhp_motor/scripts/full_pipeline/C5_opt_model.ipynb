{
 "cells": [
  {
   "cell_type": "code",
   "execution_count": null,
   "metadata": {},
   "outputs": [],
   "source": [
    "%load_ext autoreload\n",
    "%autoreload 2\n",
    "import os, sys\n",
    "\n",
    "import numpy as np\n",
    "\n",
    "from matplotlib import pyplot as plt\n",
    "from matplotlib_settings import set_plot_settings, reset_plot_settings\n",
    "\n",
    "# Set the plot settings\n",
    "set_plot_settings()\n",
    "\n",
    "# import global variables\n",
    "from utils_motor_global import *\n",
    "from utils_motor_model import prepare_model_data, sweep_model, build_model\n",
    "from utils_motor_plot  import draw_CS_boundary\n",
    "\n",
    "# from utils_motor_sigproc import get_mt_ch_psd, normalize_spect\n",
    "\n",
    "ROOT_SCALOMAT_DIR = f'{MODEL_INPUT_DIR}/scalogram_matrix'\n",
    "ROOT_MOTION_DIR = f'{MODEL_INPUT_DIR}/motion'\n",
    "\n",
    "ROOT_SAVE_DIR = f'{MODEL_OUTPUT_DIR}/decoded'\n",
    "SAVE_IMG_DIR = f'{MODEL_OUTPUT_DIR}/decoded_img'"
   ]
  },
  {
   "cell_type": "markdown",
   "metadata": {},
   "source": [
    "Part 1. Build Decoder"
   ]
  },
  {
   "cell_type": "code",
   "execution_count": null,
   "metadata": {},
   "outputs": [],
   "source": [
    "\"\"\" After the sweep, it has been decided that these params will be used \"\"\"\n",
    "# All sweepable params\n",
    "SEL_CHANNELS = 'all'\n",
    "SEL_INCLUDE_LFS = False\n",
    "SEL_MODEL = 'pls' # Ridge\n",
    "\n",
    "band_strs = ['LMP', 'β ', 'Low γ ', 'High γ']"
   ]
  },
  {
   "cell_type": "code",
   "execution_count": null,
   "metadata": {},
   "outputs": [],
   "source": [
    "\"\"\" load common channels \"\"\"\n",
    "common_chs = np.load(f'{ROOT_SCALOMAT_DIR}/common_good_channels.npy')\n",
    "M1_chs     = np.load(f'{ROOT_SCALOMAT_DIR}/M1_channels.npy')\n",
    "S1_chs     = np.load(f'{ROOT_SCALOMAT_DIR}/S1_channels.npy')\n",
    "\n",
    "M1_ch_idxs = np.array([ch_idx for ch_idx, ch in enumerate(common_chs) if ch in M1_chs])\n",
    "S1_ch_idxs = np.array([ch_idx for ch_idx, ch in enumerate(common_chs) if ch in S1_chs])"
   ]
  },
  {
   "cell_type": "code",
   "execution_count": null,
   "metadata": {},
   "outputs": [],
   "source": [
    "spect_mu  = np.load(f'{BAND_MU_SIGMA_DIR}/spect_mu.npy')\n",
    "spect_sigma  = np.load(f'{BAND_MU_SIGMA_DIR}/spect_sigma.npy')"
   ]
  },
  {
   "cell_type": "code",
   "execution_count": null,
   "metadata": {},
   "outputs": [],
   "source": [
    "X, (_, _, _), (wrist_vel_xs, wrist_vel_ys, wrist_vel_zs), ssids, taus = \\\n",
    "prepare_model_data(ROOT_SCALOMAT_DIR, ROOT_MOTION_DIR,\n",
    "                        TAU_START, TAU_END, TAU_DF, T_DF_MOTION,\n",
    "                        SEL_INCLUDE_LFS, SEL_CHANNELS, M1_ch_idxs, S1_ch_idxs)"
   ]
  },
  {
   "cell_type": "code",
   "execution_count": null,
   "metadata": {},
   "outputs": [],
   "source": [
    "from sklearn.model_selection import KFold \n",
    "from sklearn.cross_decomposition import PLSRegression\n",
    "from sklearn.linear_model import Ridge\n",
    "from sklearn.metrics import mean_squared_error, r2_score, explained_variance_score"
   ]
  },
  {
   "cell_type": "markdown",
   "metadata": {},
   "source": [
    "Part 2. Plot Decoder for X, Y, Z"
   ]
  },
  {
   "cell_type": "code",
   "execution_count": null,
   "metadata": {},
   "outputs": [],
   "source": [
    "\"\"\" manually repeat for DIMENSION = 'x', 'y', 'z' \"\"\" \n",
    "DIMENSION = 'z'"
   ]
  },
  {
   "cell_type": "code",
   "execution_count": null,
   "metadata": {},
   "outputs": [],
   "source": [
    "if DIMENSION == 'x':\n",
    "    y, OPT_HPARAM = np.abs(wrist_vel_xs), X_OPT_HPARAM\n",
    "if DIMENSION == 'y':\n",
    "    y, OPT_HPARAM = wrist_vel_ys, Y_OPT_HPARAM\n",
    "if DIMENSION == 'z':\n",
    "    y, OPT_HPARAM = wrist_vel_zs, Z_OPT_HPARAM\n",
    "\n",
    "if   SEL_MODEL == 'pls':   hparam_range = np.arange(1, 10)\n",
    "elif SEL_MODEL == 'ridge': hparam_range = np.logspace(3, 6, (6-3)*2 + 1)"
   ]
  },
  {
   "cell_type": "code",
   "execution_count": null,
   "metadata": {},
   "outputs": [],
   "source": [
    "sweep_result = sweep_model(N_SPLIT, X, y, SEL_MODEL, hparam_range)\n",
    "\n",
    "\"\"\" find the optimum hparam \"\"\"\n",
    "presses, r2s, mses, rs = [np.array(sweep_result[hparam]['presses']) for hparam in hparam_range], \\\n",
    "    [np.array(sweep_result[hparam]['r2s']) for hparam in hparam_range], \\\n",
    "    [np.array(sweep_result[hparam]['mses']) for hparam in hparam_range], \\\n",
    "    [np.array(sweep_result[hparam]['rs']) for hparam in hparam_range]"
   ]
  },
  {
   "cell_type": "code",
   "execution_count": null,
   "metadata": {},
   "outputs": [],
   "source": [
    "press_avgs = [np.mean(press) for press in presses]\n",
    "r2_avgs =    [np.mean(r2) for r2 in r2s]\n",
    "mse_avgs =   [np.mean(mse) for mse in mses]\n",
    "r_avgs =     [np.mean(r) for r in rs]\n",
    "\n",
    "press_stds = [np.std(press) for press in presses]\n",
    "r2_stds =    [np.std(r2) for r2 in r2s]\n",
    "mse_stds =   [np.std(mse) for mse in mses]\n",
    "r_stds =     [np.std(r) for r in rs]"
   ]
  },
  {
   "cell_type": "code",
   "execution_count": null,
   "metadata": {},
   "outputs": [],
   "source": [
    "\"\"\" plot sweep result \"\"\"\n",
    "fig, ax = plt.subplots(2, 1, figsize=(4, 3), sharex=True)\n",
    "\n",
    "x_range = hparam_range\n",
    "xlabel_str = '# of PLS components'\n",
    "\n",
    "ax[0].errorbar(x_range, press_avgs, yerr=press_stds/np.sqrt(N_SPLIT), fmt='o',\n",
    "            capsize=3, markersize = 6, markerfacecolor='none', markeredgecolor='darkblue',\n",
    "            color='darkblue') # markersize..\n",
    "ax[0].plot(x_range, press_avgs, 'o-', markersize=6)\n",
    "ax[1].errorbar(x_range, r_avgs, yerr=r_stds/np.sqrt(N_SPLIT), fmt='o',\n",
    "            capsize=3, markersize = 6, markerfacecolor='none', markeredgecolor='darkblue',\n",
    "            color='darkblue') # markersize..\n",
    "ax[1].plot(x_range, r_avgs, 'o-', markersize=6)\n",
    "\n",
    "ax[0].set_ylabel('PRESS')\n",
    "ax[1].set_ylabel('Corr. Coeff.')\n",
    "ax[0].set_yticks([400, 500, 600])\n",
    "ax[1].set_yticks([0.4, 0.5, 0.6])\n",
    "ax[0].set_xticks(hparam_range)\n",
    "\n",
    "ax[-1].set_xlabel(xlabel_str)\n",
    "\n",
    "for ii in range(2):\n",
    "    ax[ii].grid(True)\n",
    "\n",
    "save_img_dir = f'{ROOT_SAVE_DIR}_img/hparam_sweep'\n",
    "if not os.path.exists(save_img_dir):\n",
    "    os.makedirs(save_img_dir)\n",
    "plt.savefig(f\"{save_img_dir}./hparam_sweep_{DIMENSION}.svg\", bbox_inches='tight')\n",
    "plt.savefig(f\"{save_img_dir}./hparam_sweep_{DIMENSION}.png\", bbox_inches='tight', dpi=1200)"
   ]
  },
  {
   "cell_type": "code",
   "execution_count": null,
   "metadata": {},
   "outputs": [],
   "source": [
    "opt_idx = np.argmin(press_avgs)\n",
    "assert hparam_range[opt_idx] == OPT_HPARAM"
   ]
  },
  {
   "cell_type": "code",
   "execution_count": null,
   "metadata": {},
   "outputs": [],
   "source": [
    "y_preds, test_idxs, coefs, intercepts, (opt_presses, opt_r2s, opt_mses, opt_rs) = \\\n",
    "    build_model(N_SPLIT, X, y, SEL_MODEL, OPT_HPARAM)"
   ]
  },
  {
   "cell_type": "code",
   "execution_count": null,
   "metadata": {},
   "outputs": [],
   "source": [
    "y_preds_flat = np.concatenate(y_preds, axis=-1)\n",
    "np.mean(opt_rs), np.std(opt_rs)/np.sqrt(N_SPLIT)"
   ]
  },
  {
   "cell_type": "code",
   "execution_count": null,
   "metadata": {},
   "outputs": [],
   "source": [
    "\"\"\" save \"\"\"\n",
    "for idx, key in enumerate(SESSION_KEYS):\n",
    "    save_data_dir = f'{ROOT_SAVE_DIR}/{key}'\n",
    "    save_img_dir = f'{SAVE_IMG_DIR}/{key}'\n",
    "    if not os.path.exists(save_data_dir):\n",
    "        os.makedirs(save_data_dir)\n",
    "    if not os.path.exists(save_img_dir):\n",
    "        os.makedirs(save_img_dir)\n",
    "\n",
    "    # save data\n",
    "    session_idxs = np.where(ssids == idx)[0]\n",
    "    session_y = y[session_idxs]\n",
    "    session_y_pred = y_preds_flat[session_idxs]\n",
    "\n",
    "    t = np.arange(0, len(session_y_pred))*T_STEP_SCALO*T_DF_MOTION\n",
    "\n",
    "    np.save(f'{save_data_dir}/vel_{DIMENSION}_observed_{key}.npy', session_y)\n",
    "    np.save(f'{save_data_dir}/vel_{DIMENSION}_predicted_{key}.npy', session_y_pred)\n",
    "    np.save(f'{save_data_dir}/t_{key}.npy', t)\n",
    "\n",
    "    # save plot\n",
    "    fig, ax = plt.subplots(figsize=(min(int(t[-1]*0.3), 15), 2))\n",
    "    ax.plot(t, session_y)\n",
    "    ax.plot(t, session_y_pred)\n",
    "\n",
    "    ax.grid(True)\n",
    "    ax.set_yticks([0])\n",
    "    ax.set_xlim(t[0], t[-1])\n",
    "    ax.set_xlabel('Time (s)')\n",
    "    ax.set_ylabel(f'Wrist {DIMENSION}-vel.\\n(normalized)')\n",
    "\n",
    "    plt.savefig(f\"{save_img_dir}./vel_{DIMENSION}_decoded.svg\", bbox_inches='tight')\n",
    "    plt.savefig(f\"{save_img_dir}./vel_{DIMENSION}_decoded.png\", bbox_inches='tight', dpi=1200)\n",
    "\n",
    "    plt.close(fig)"
   ]
  },
  {
   "cell_type": "code",
   "execution_count": null,
   "metadata": {},
   "outputs": [],
   "source": [
    "# fig, ax = plt.subplots(figsize=(min(int(t[-1]*0.3), 15), 3))\n",
    "# ax.plot(t, session_y)\n",
    "# ax.plot(t, session_y_pred)\n",
    "\n",
    "# ax.grid(True)\n",
    "# ax.set_yticks([])\n",
    "# ax.set_xlim(t[0], t[-1])\n",
    "# ax.set_xlabel('Time (s)')\n",
    "# ax.set_ylabel(f'Wrist {DIMENSION}-vel.\\n(normalized)')"
   ]
  },
  {
   "cell_type": "code",
   "execution_count": null,
   "metadata": {},
   "outputs": [],
   "source": [
    "from utils_motor_model import plot_decoded_y\n",
    "\n",
    "plt.close('all')\n",
    "fig, ax = plt.subplots(N_SPLIT, 1, figsize=(12, 8),\n",
    "                       sharex=True) # , sharey=True)\n",
    "\n",
    "title_str = f'PLS Component: #{OPT_HPARAM}, r: {np.mean(opt_rs):.2f}'\n",
    "if DIMENSION == 'x':\n",
    "    title_str += f'\\nWrist {DIMENSION}-speed (normalized) vs. CV'\n",
    "else:\n",
    "    title_str += f'\\nWrist {DIMENSION}-velocity (normalized) vs. CV'\n",
    "\n",
    "plot_decoded_y(fig, ax, N_SPLIT, y, y_preds, test_idxs, opt_rs, title_str)\n",
    "\n",
    "ax[0].set_title(title_str)\n",
    "ax[-1].set_xlabel('Time (sec)')\n",
    "\n",
    "plt.savefig(f\"{SAVE_IMG_DIR}./full_decoder_{DIMENSION}.svg\", bbox_inches='tight')\n",
    "plt.savefig(f\"{SAVE_IMG_DIR}./full_decoder_{DIMENSION}.png\", bbox_inches='tight', dpi=1200)"
   ]
  },
  {
   "cell_type": "markdown",
   "metadata": {},
   "source": [
    "Part 3. Plot Coefficient Contribution"
   ]
  },
  {
   "cell_type": "code",
   "execution_count": null,
   "metadata": {},
   "outputs": [],
   "source": [
    "if SEL_CHANNELS == 'all': good_chs = common_chs\n",
    "if SEL_CHANNELS == 'M1':  good_chs = M1_ch_idxs\n",
    "if SEL_CHANNELS == 'S1':  good_chs = S1_ch_idxs\n",
    "coefs = np.squeeze(np.array(coefs))\n",
    "coefs = coefs.reshape(N_SPLIT, len(good_chs), len(taus), len(band_strs))\n",
    "coef_avg = np.mean(coefs, axis=0)"
   ]
  },
  {
   "cell_type": "code",
   "execution_count": null,
   "metadata": {},
   "outputs": [],
   "source": [
    "chance = 100/len(good_chs)\n",
    "\"\"\" spatial \"\"\"\n",
    "w_ch = np.sum(np.sum(np.abs(coef_avg), axis=1), axis=1)\n",
    "w_ch_padded = np.full((NCH, ), np.nan)\n",
    "w_ch_padded[good_chs] = w_ch/np.sum(w_ch)*100\n",
    "\n",
    "\"\"\" temporal \"\"\"\n",
    "w_t  = np.sum(np.sum(np.abs(coefs), axis=3), axis=1)\n",
    "w_t = w_t/np.sum(w_t)*100*N_SPLIT\n",
    "\n",
    "w_t_avg = np.mean(w_t, axis=0)\n",
    "w_t_stderr = np.std(w_t, axis=0)/np.sqrt(N_SPLIT)\n",
    "\n",
    "\"\"\" spectral \"\"\"\n",
    "w_f  = np.sum(np.sum(np.abs(coefs), axis=2), axis=1)\n",
    "w_f = w_f/np.sum(w_f)*100*N_SPLIT\n",
    "\n",
    "w_f_avg = np.mean(w_f, axis=0)\n",
    "w_f_stderr = np.std(w_f, axis=0)/np.sqrt(N_SPLIT)"
   ]
  },
  {
   "cell_type": "code",
   "execution_count": null,
   "metadata": {},
   "outputs": [],
   "source": [
    "def plot_channel_weights(ax, data, q_cut, chance):\n",
    "    vmax = np.nanquantile(data, 1-q_cut)\n",
    "    vmin = np.nanquantile(data, q_cut)\n",
    "    \n",
    "    # force chance to be at the middle of the scale i.e. bwr's white maps to chance\n",
    "    l, r = chance - vmin, vmax - chance\n",
    "    if r > l:\n",
    "        vmin = chance - r\n",
    "    else:\n",
    "        vmax = chance + l\n",
    "\n",
    "    im = ax.imshow(data.reshape(16, -1), vmin=vmin, vmax=vmax, cmap='coolwarm')\n",
    "    ax.set_xticks([])\n",
    "    ax.set_yticks([])\n",
    "    draw_CS_boundary(ax)\n",
    "\n",
    "    cbar = fig.colorbar(im, ax=ax, pad=0.05, shrink=0.8, orientation='horizontal')\n",
    "    # tick_format = FormatStrFormatter('%.2f')\n",
    "    # cbar.ax.xaxis.set_major_formatter(tick_format)\n",
    "    cbar.set_ticks([round(max(vmin, 0), 2), round(chance, 2), round(vmax, 2)])\n",
    "    cbar.set_label('Contribution (%)')"
   ]
  },
  {
   "cell_type": "code",
   "execution_count": null,
   "metadata": {},
   "outputs": [],
   "source": [
    "fig, ax = plt.subplots(figsize=(3, 3))\n",
    "plot_channel_weights(ax, w_ch_padded, 0.01, chance)\n",
    "\n",
    "plt.savefig(f\"{SAVE_IMG_DIR}/contributions/spatial_contribution_{DIMENSION}.svg\", bbox_inches='tight')\n",
    "plt.savefig(f\"{SAVE_IMG_DIR}/contributions/spatial_contribution_{DIMENSION}.png\", bbox_inches='tight', dpi=1200)"
   ]
  },
  {
   "cell_type": "code",
   "execution_count": null,
   "metadata": {},
   "outputs": [],
   "source": [
    "plt.close('all')\n",
    "fig, ax = plt.subplots(figsize=(3, 3))\n",
    "\n",
    "# draw chance level\n",
    "ax.axhline(y = 1/len(taus)*100, color='gray', linestyle='--')\n",
    "\n",
    "ax.errorbar(taus[1:-1], w_t_avg[1:-1], yerr=w_t_stderr[1:-1], fmt='o', capsize=3,\n",
    "            markersize = 4,\n",
    "            markerfacecolor='none', markeredgecolor='darkblue', color='darkblue') # markersize.\n",
    "ax.plot(taus[1:-1], w_t_avg[1:-1], 'o-', markersize=4)\n",
    "# ax[1].set_ylim(bottom=3)\n",
    "\n",
    "# ax.set_title('Temporal')\n",
    "ax.set_xlabel('Time Lag (s)')\n",
    "ax.set_ylabel('Contribution (%)')\n",
    "ax.set_yticks([4.5, 5, 5.5, 6])\n",
    "ax.set_xticks([-0.4, 0, 0.4])\n",
    "\n",
    "plt.savefig(f\"{SAVE_IMG_DIR}/contributions/lag_contribution_{DIMENSION}.svg\", bbox_inches='tight')\n",
    "plt.savefig(f\"{SAVE_IMG_DIR}/contributions/lag_contribution_{DIMENSION}.png\", bbox_inches='tight', dpi=1200)"
   ]
  },
  {
   "cell_type": "code",
   "execution_count": null,
   "metadata": {},
   "outputs": [],
   "source": [
    "fig, ax = plt.subplots(figsize=(3, 2.5))\n",
    "ax.axhline(y = 1/len(band_strs)*100, color='gray', linestyle='--')\n",
    "\n",
    "ax.bar(band_strs, w_f_avg)\n",
    "ax.errorbar(band_strs, w_f_avg, yerr=w_f_stderr, fmt='.', capsize=6, color='darkblue',\n",
    "            markerfacecolor='none', markeredgecolor='none')\n",
    "ax.tick_params(axis='x', labelrotation=90, labelsize=16)\n",
    "ax.set_ylabel('Contribution (%)')\n",
    "\n",
    "plt.savefig(f\"{SAVE_IMG_DIR}/contributions/freq_contribution_{DIMENSION}.svg\", bbox_inches='tight')\n",
    "plt.savefig(f\"{SAVE_IMG_DIR}/contributions/freq_contribution_{DIMENSION}.png\", bbox_inches='tight', dpi=1200)"
   ]
  },
  {
   "cell_type": "code",
   "execution_count": null,
   "metadata": {},
   "outputs": [],
   "source": [
    "\"\"\" per-band spatial\"\"\"\n",
    "w_ch_lmp  = np.sum(np.abs(coef_avg[:,:,0]), axis=1)\n",
    "w_ch_beta = np.sum(np.abs(coef_avg[:,:,1]), axis=1)\n",
    "w_ch_lga  = np.sum(np.abs(coef_avg[:,:,2]), axis=1)\n",
    "w_ch_hga  = np.sum(np.abs(coef_avg[:,:,3]), axis=1)\n",
    "\n",
    "w_ch_lmp_padded  = np.full((NCH, ), np.nan)\n",
    "w_ch_beta_padded = np.full((NCH, ), np.nan)\n",
    "w_ch_lga_padded  = np.full((NCH, ), np.nan)\n",
    "w_ch_hga_padded  = np.full((NCH, ), np.nan)\n",
    "\n",
    "w_ch_lmp_padded[good_chs] = w_ch_lmp/np.sum(w_ch_lmp)*100\n",
    "w_ch_beta_padded[good_chs] = w_ch_beta/np.sum(w_ch_beta)*100\n",
    "w_ch_lga_padded[good_chs] = w_ch_lga/np.sum(w_ch_lga)*100\n",
    "w_ch_hga_padded[good_chs] = w_ch_hga/np.sum(w_ch_hga)*100"
   ]
  },
  {
   "cell_type": "code",
   "execution_count": null,
   "metadata": {},
   "outputs": [],
   "source": [
    "plt.close('all')\n",
    "fig, ax = plt.subplots(figsize=(3, 3))\n",
    "plot_channel_weights(ax, w_ch_lmp_padded, 0.01, chance)\n",
    "\n",
    "save_img_dir = f'{SAVE_IMG_DIR}/contributions/perband_spatial'\n",
    "ax.set_title(band_strs[0])\n",
    "plt.savefig(f\"{save_img_dir}/spatial_contribution_lmp_{DIMENSION}.svg\", bbox_inches='tight')\n",
    "plt.savefig(f\"{save_img_dir}/spatial_contribution_lmp_{DIMENSION}.png\", bbox_inches='tight', dpi=1200)"
   ]
  },
  {
   "cell_type": "code",
   "execution_count": null,
   "metadata": {},
   "outputs": [],
   "source": [
    "plt.close('all')\n",
    "fig, ax = plt.subplots(figsize=(3, 3))\n",
    "plot_channel_weights(ax, w_ch_beta_padded, 0.01, chance)\n",
    "\n",
    "save_img_dir = f'{SAVE_IMG_DIR}/contributions/perband_spatial'\n",
    "ax.set_title(band_strs[1])\n",
    "plt.savefig(f\"{save_img_dir}/spatial_contribution_beta_{DIMENSION}.svg\", bbox_inches='tight')\n",
    "plt.savefig(f\"{save_img_dir}/spatial_contribution_beta_{DIMENSION}.png\", bbox_inches='tight', dpi=1200)"
   ]
  },
  {
   "cell_type": "code",
   "execution_count": null,
   "metadata": {},
   "outputs": [],
   "source": [
    "plt.close('all')\n",
    "fig, ax = plt.subplots(figsize=(3, 3))\n",
    "plot_channel_weights(ax, w_ch_lga_padded, 0.01, chance)\n",
    "\n",
    "save_img_dir = f'{SAVE_IMG_DIR}/contributions/perband_spatial'\n",
    "ax.set_title(band_strs[2])\n",
    "plt.savefig(f\"{save_img_dir}/spatial_contribution_lga_{DIMENSION}.svg\", bbox_inches='tight')\n",
    "plt.savefig(f\"{save_img_dir}/spatial_contribution_lga_{DIMENSION}.png\", bbox_inches='tight', dpi=1200)"
   ]
  },
  {
   "cell_type": "code",
   "execution_count": null,
   "metadata": {},
   "outputs": [],
   "source": [
    "plt.close('all')\n",
    "fig, ax = plt.subplots(figsize=(3, 3))\n",
    "plot_channel_weights(ax, w_ch_hga_padded, 0.01, chance)\n",
    "\n",
    "save_img_dir = f'{SAVE_IMG_DIR}/contributions/perband_spatial'\n",
    "ax.set_title(band_strs[3])\n",
    "plt.savefig(f\"{save_img_dir}/spatial_contribution_hga_{DIMENSION}.svg\", bbox_inches='tight')\n",
    "plt.savefig(f\"{save_img_dir}/spatial_contribution_hga_{DIMENSION}.png\", bbox_inches='tight', dpi=1200)"
   ]
  },
  {
   "cell_type": "code",
   "execution_count": null,
   "metadata": {},
   "outputs": [],
   "source": []
  }
 ],
 "metadata": {
  "kernelspec": {
   "display_name": ".venv",
   "language": "python",
   "name": "python3"
  },
  "language_info": {
   "codemirror_mode": {
    "name": "ipython",
    "version": 3
   },
   "file_extension": ".py",
   "mimetype": "text/x-python",
   "name": "python",
   "nbconvert_exporter": "python",
   "pygments_lexer": "ipython3",
   "version": "3.10.0"
  },
  "orig_nbformat": 4,
  "vscode": {
   "interpreter": {
    "hash": "d955faee816db44f0a85e254d00ad008273b576d6dbe16759b0bc5b99bc5dcbd"
   }
  }
 },
 "nbformat": 4,
 "nbformat_minor": 2
}
