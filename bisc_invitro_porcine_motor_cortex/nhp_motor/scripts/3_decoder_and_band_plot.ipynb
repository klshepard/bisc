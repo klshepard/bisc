{
 "cells": [
  {
   "cell_type": "code",
   "execution_count": null,
   "metadata": {},
   "outputs": [],
   "source": [
    "%load_ext autoreload\n",
    "%autoreload 2\n",
    "import os, sys\n",
    "\n",
    "import numpy as np\n",
    "\n",
    "from matplotlib import pyplot as plt\n",
    "from matplotlib_settings import set_plot_settings, reset_plot_settings\n",
    "\n",
    "# Set the plot settings\n",
    "set_plot_settings()\n",
    "\n",
    "# import global variables\n",
    "from utils_motor_global import *\n",
    "from utils_motor_plot  import draw_CS_boundary\n",
    "\n",
    "from utils_motor_sigproc import normalize_band\n",
    "from utils_motor_misc import load_session_spect_data\n",
    "\n",
    "ROOT_SCALOMAT_DIR = f'{MODEL_INPUT_DIR}/scalogram_matrix'\n",
    "# SAVE_IMG_DIR = f'{MODEL_OUTPUT_DIR}/decoder_and_band_plot'"
   ]
  },
  {
   "cell_type": "markdown",
   "metadata": {},
   "source": [
    "Load data from sessions 10, 12, 13"
   ]
  },
  {
   "cell_type": "code",
   "execution_count": null,
   "metadata": {},
   "outputs": [],
   "source": [
    "def fetch_motion_data(key):\n",
    "    load_dir = f'{MODEL_OUTPUT_DIR}/decoded/{key}'\n",
    "    y_true  = np.load(f'{load_dir}/vel_y_observed_{key}.npy')\n",
    "    y_pred  = np.load(f'{load_dir}/vel_y_predicted_{key}.npy')\n",
    "    return y_true, y_pred\n",
    "\n",
    "y_true_10, y_pred_10 = fetch_motion_data('010')\n",
    "y_true_12, y_pred_12 = fetch_motion_data('012')\n",
    "y_true_13, y_pred_13 = fetch_motion_data('013')\n",
    "\n",
    "# motion time scale\n",
    "motion_t_10 = np.load(f'{MOTION_DIR}/010/model_t_010.npy')\n",
    "motion_t_12 = np.load(f'{MOTION_DIR}/012/model_t_012.npy')\n",
    "motion_t_13 = np.load(f'{MOTION_DIR}/013/model_t_013.npy')"
   ]
  },
  {
   "cell_type": "code",
   "execution_count": null,
   "metadata": {},
   "outputs": [],
   "source": [
    "\"\"\" channel band mean and standard deviation \"\"\"\n",
    "spect_mu  = np.load(f'{BAND_MU_SIGMA_DIR}/spect_mu.npy')\n",
    "lmp_mu    = np.load(f'{BAND_MU_SIGMA_DIR}/lmp_mu.npy')\n",
    "beta_mu   = np.load(f'{BAND_MU_SIGMA_DIR}/beta_mu.npy')\n",
    "hga_mu    = np.load(f'{BAND_MU_SIGMA_DIR}/hga_mu.npy')\n",
    "\n",
    "spect_sigma  = np.load(f'{BAND_MU_SIGMA_DIR}/spect_sigma.npy')\n",
    "lmp_sigma    = np.load(f'{BAND_MU_SIGMA_DIR}/lmp_sigma.npy')\n",
    "beta_sigma   = np.load(f'{BAND_MU_SIGMA_DIR}/beta_sigma.npy')\n",
    "hga_sigma    = np.load(f'{BAND_MU_SIGMA_DIR}/hga_sigma.npy')"
   ]
  },
  {
   "cell_type": "code",
   "execution_count": null,
   "metadata": {},
   "outputs": [],
   "source": [
    "\"\"\" load session data \"\"\"\n",
    "# spectrogram and LMP\n",
    "good_chs_10, spect_10, lmp_data_10, spect_t_10 = load_session_spect_data(\n",
    "    f'{SPECT_DATA_DIR}/010', '010')\n",
    "good_chs_12, spect_12, lmp_data_12, spect_t_12 = load_session_spect_data(\n",
    "    f'{SPECT_DATA_DIR}/012', '012')\n",
    "good_chs_13, spect_13, lmp_data_13, spect_t_13 = load_session_spect_data(\n",
    "    f'{SPECT_DATA_DIR}/013', '013')\n",
    "\n",
    "# load common data\n",
    "key = '013'\n",
    "spect_f     = np.load(f'{SPECT_DATA_DIR}/{key}/spect_f_{key}.npy'   ) \n",
    "beta_fidxs  = np.load(f'{SPECT_DATA_DIR}/{key}/beta_fidxs_{key}.npy') \n",
    "hga_fidxs   = np.load(f'{SPECT_DATA_DIR}/{key}/hga_fidxs_{key}.npy' ) "
   ]
  },
  {
   "cell_type": "code",
   "execution_count": null,
   "metadata": {},
   "outputs": [],
   "source": [
    "\"\"\" extract band from spectrogram \"\"\"\n",
    "spect_beta_10 = np.sum(spect_10[:,:,beta_fidxs], axis=2)\n",
    "spect_beta_12 = np.sum(spect_12[:,:,beta_fidxs], axis=2)\n",
    "spect_beta_13 = np.sum(spect_13[:,:,beta_fidxs], axis=2)\n",
    "spect_hga_10  = np.sum(spect_10[:,:, hga_fidxs], axis=2)\n",
    "spect_hga_12  = np.sum(spect_12[:,:, hga_fidxs], axis=2)\n",
    "spect_hga_13  = np.sum(spect_13[:,:, hga_fidxs], axis=2)"
   ]
  },
  {
   "cell_type": "code",
   "execution_count": null,
   "metadata": {},
   "outputs": [],
   "source": [
    "\"\"\" z-score bands \"\"\"\n",
    "zs_lmp_10  = normalize_band(good_chs_10, lmp_data_10, lmp_mu, lmp_sigma, sel_zscore=True)\n",
    "zs_lmp_12  = normalize_band(good_chs_12, lmp_data_12, lmp_mu, lmp_sigma, sel_zscore=True)\n",
    "zs_lmp_13  = normalize_band(good_chs_13, lmp_data_13, lmp_mu, lmp_sigma, sel_zscore=True)\n",
    "\n",
    "zs_hga_10  = normalize_band(good_chs_10, spect_hga_10, hga_mu, hga_sigma, sel_zscore=True)\n",
    "zs_hga_12  = normalize_band(good_chs_12, spect_hga_12, hga_mu, hga_sigma, sel_zscore=True)\n",
    "zs_hga_13  = normalize_band(good_chs_13, spect_hga_13, hga_mu, hga_sigma, sel_zscore=True)\n",
    "\n",
    "zs_beta_10 = normalize_band(good_chs_10, spect_beta_10, beta_mu, beta_sigma, sel_zscore=True)\n",
    "zs_beta_12 = normalize_band(good_chs_12, spect_beta_12, beta_mu, beta_sigma, sel_zscore=True)\n",
    "zs_beta_13 = normalize_band(good_chs_13, spect_beta_13, beta_mu, beta_sigma, sel_zscore=True)"
   ]
  },
  {
   "cell_type": "code",
   "execution_count": null,
   "metadata": {},
   "outputs": [],
   "source": [
    "\"\"\" find common channels and create subset. do not truncate yet \"\"\"\n",
    "overlap_chs = np.intersect1d(good_chs_10, good_chs_12)\n",
    "overlap_chs = np.intersect1d(overlap_chs, good_chs_13)\n",
    "\n",
    "ch_idxs_10 = np.array([ch_idx for ch_idx, ch in enumerate(good_chs_10) if ch in overlap_chs])\n",
    "ch_idxs_12 = np.array([ch_idx for ch_idx, ch in enumerate(good_chs_12) if ch in overlap_chs])\n",
    "ch_idxs_13 = np.array([ch_idx for ch_idx, ch in enumerate(good_chs_13) if ch in overlap_chs])"
   ]
  },
  {
   "cell_type": "code",
   "execution_count": null,
   "metadata": {},
   "outputs": [],
   "source": [
    "\"\"\" truncate in time \"\"\"\n",
    "# motion (wrist velocity) data time range is a subset of spectrogram time scale\n",
    "# truncate the spectrogram in time domain to make them equal\n",
    "\n",
    "# step 1. identify index\n",
    "idx0_10 = np.where(spect_t_10 >= motion_t_10[0])[0][0]\n",
    "idx1_10 = np.where(spect_t_10 <= motion_t_10[-1])[0][-1] + 1\n",
    "\n",
    "idx0_12 = np.where(spect_t_12 >= motion_t_12[0])[0][0]\n",
    "idx1_12 = np.where(spect_t_12 <= motion_t_12[-1])[0][-1] + 1\n",
    "\n",
    "idx0_13 = np.where(spect_t_13 >= motion_t_13[0])[0][0]\n",
    "idx1_13 = np.where(spect_t_13 <= motion_t_13[-1])[0][-1] + 1\n",
    "\n",
    "assert len(spect_t_10[idx0_10:idx1_10]) == len(motion_t_10)\n",
    "assert len(spect_t_12[idx0_12:idx1_12]) == len(motion_t_12)\n",
    "assert len(spect_t_13[idx0_13:idx1_13]) == len(motion_t_13)\n",
    "\n",
    "# step 2. truncate\n",
    "zs_lmp_10 = zs_lmp_10[:, idx0_10:idx1_10]\n",
    "zs_hga_10 = zs_hga_10[:, idx0_10:idx1_10]\n",
    "zs_beta_10 = zs_beta_10[:, idx0_10:idx1_10]\n",
    "\n",
    "zs_lmp_12 = zs_lmp_12[:, idx0_12:idx1_12]\n",
    "zs_hga_12 = zs_hga_12[:, idx0_12:idx1_12]\n",
    "zs_beta_12 = zs_beta_12[:, idx0_12:idx1_12]\n",
    "\n",
    "zs_lmp_13 = zs_lmp_13[:, idx0_13:idx1_13]\n",
    "zs_hga_13 = zs_hga_13[:, idx0_13:idx1_13]\n",
    "zs_beta_13 = zs_beta_13[:, idx0_13:idx1_13]"
   ]
  },
  {
   "cell_type": "code",
   "execution_count": null,
   "metadata": {},
   "outputs": [],
   "source": [
    "\"\"\" create copy before truncating channels (for spatiotemporal progression plots later)\"\"\"\n",
    "fch_zs_lmp_10 = np.copy(zs_lmp_10)\n",
    "fch_zs_hga_10 = np.copy(zs_hga_10)\n",
    "fch_zs_beta_10 = np.copy(zs_beta_10)"
   ]
  },
  {
   "cell_type": "code",
   "execution_count": null,
   "metadata": {},
   "outputs": [],
   "source": [
    "\"\"\" truncate channels (keep only common channels) \"\"\"\n",
    "zs_lmp_10 = zs_lmp_10[ch_idxs_10, :]\n",
    "zs_hga_10 = zs_hga_10[ch_idxs_10, :]\n",
    "zs_beta_10 = zs_beta_10[ch_idxs_10, :]\n",
    "\n",
    "zs_lmp_12 = zs_lmp_12[ch_idxs_12, :]\n",
    "zs_hga_12 = zs_hga_12[ch_idxs_12, :]\n",
    "zs_beta_12 = zs_beta_12[ch_idxs_12, :]\n",
    "\n",
    "zs_lmp_13 = zs_lmp_13[ch_idxs_13, :]\n",
    "zs_hga_13 = zs_hga_13[ch_idxs_13, :]\n",
    "zs_beta_13 = zs_beta_13[ch_idxs_13, :]"
   ]
  },
  {
   "cell_type": "markdown",
   "metadata": {},
   "source": [
    "Merge data across sessions 10, 12, 13"
   ]
  },
  {
   "cell_type": "code",
   "execution_count": null,
   "metadata": {},
   "outputs": [],
   "source": [
    "\"\"\" merge motor features, bands \"\"\"\n",
    "merged_y_true = np.concatenate((y_true_10, y_true_12, y_true_13))\n",
    "merged_y_pred = np.concatenate((y_pred_10, y_pred_12, y_pred_13))\n",
    "\n",
    "merged_zs_lmp = np.concatenate((zs_lmp_10, zs_lmp_12, zs_lmp_13), axis=-1)\n",
    "merged_zs_hga = np.concatenate((zs_hga_10, zs_hga_12, zs_hga_13), axis=-1)\n",
    "merged_zs_beta = np.concatenate((zs_beta_10, zs_beta_12, zs_beta_13), axis=-1)"
   ]
  },
  {
   "cell_type": "code",
   "execution_count": null,
   "metadata": {},
   "outputs": [],
   "source": [
    "\"\"\" merge time \"\"\"\n",
    "motion_t_10 = motion_t_10 - motion_t_10[0]\n",
    "motion_t_12 = motion_t_12 - motion_t_12[0] + motion_t_10[-1] + motion_t_10[1]\n",
    "motion_t_13 = motion_t_13 - motion_t_13[0] + motion_t_12[-1] + motion_t_10[1]\n",
    "\n",
    "merged_t = np.concatenate((motion_t_10, motion_t_12))\n",
    "merged_t = np.concatenate((merged_t, motion_t_13))"
   ]
  },
  {
   "cell_type": "markdown",
   "metadata": {},
   "source": [
    "Plot Bands"
   ]
  },
  {
   "cell_type": "code",
   "execution_count": null,
   "metadata": {},
   "outputs": [],
   "source": [
    "\"\"\" decide on time segment to plot \"\"\"\n",
    "t_end = 60 # choose length of segment to plot\n",
    "t_end_idx = np.where(merged_t > t_end)[0][0]\n",
    "\n",
    "merged_zs_lmp   = merged_zs_lmp  [:,:t_end_idx]\n",
    "merged_zs_hga   = merged_zs_hga  [:,:t_end_idx]\n",
    "merged_zs_beta  = merged_zs_beta [:,:t_end_idx]"
   ]
  },
  {
   "cell_type": "code",
   "execution_count": null,
   "metadata": {},
   "outputs": [],
   "source": [
    "\"\"\" decide on quantile to apply for colormap range \"\"\"\n",
    "lmp_qcut = 0.01\n",
    "vmin = np.quantile(merged_zs_lmp, lmp_qcut)\n",
    "vmax = np.quantile(merged_zs_lmp, 1-lmp_qcut)\n",
    "abs_vmax = max(-vmin, vmax)\n",
    "lmp_vmin = -1*abs_vmax\n",
    "lmp_vmax = abs_vmax\n",
    "\n",
    "hga_qcut = 0.01\n",
    "hga_vmin = np.quantile(merged_zs_hga, hga_qcut)\n",
    "hga_vmax = np.quantile(merged_zs_hga, 1-hga_qcut)\n",
    "\n",
    "beta_qcut = 0.01\n",
    "beta_vmin = np.quantile(merged_zs_beta, beta_qcut)\n",
    "beta_vmax = np.quantile(merged_zs_beta, 1-beta_qcut)"
   ]
  },
  {
   "cell_type": "code",
   "execution_count": null,
   "metadata": {},
   "outputs": [],
   "source": [
    "\"\"\" plot two bands \"\"\"\n",
    "# step 1. plot\n",
    "plt.close('all')\n",
    "fig, ax = plt.subplots(2, 1, figsize=(7, 2.2), sharex=True)\n",
    "\n",
    "t0, t1 = 0, t_end\n",
    "extent = [t0, t1, len(ch_idxs_10), 0]\n",
    "im0 = ax[0].imshow(merged_zs_lmp, aspect='auto', vmin=lmp_vmin, vmax=lmp_vmax, \n",
    "             extent=extent, cmap='bwr', interpolation='none')\n",
    "im1 = ax[1].imshow(merged_zs_hga, aspect='auto', vmin=hga_vmin, vmax=hga_vmax, \n",
    "             extent=extent, cmap='viridis')\n",
    "\n",
    "fig.text(0.08, 0.5, 'Channels', va='center', rotation='vertical')\n",
    "ax[0].invert_yaxis()\n",
    "ax[1].invert_yaxis()\n",
    "\n",
    "# step 2. add labels\n",
    "left_cbar = 0.92  # Adjust left position of the colorbars\n",
    "bottom_cbar0 = 0.53  # Adjust bottom position of the colorbars\n",
    "width_cbar = 0.02  # Adjust width of the colorbars\n",
    "height_cbar = 0.35  # Adjust height of the colorbars\n",
    "\n",
    "cbar0_ax = fig.add_axes([left_cbar, bottom_cbar0, width_cbar, height_cbar])\n",
    "cbar0 = fig.colorbar(im0, cax=cbar0_ax)\n",
    "cbar0.set_ticks([-1.5, 0, 1.5])\n",
    "\n",
    "bottom_cbar1 = 0.12  # Adjust bottom position of the colorbars\n",
    "cbar1_ax = fig.add_axes([left_cbar, bottom_cbar1, width_cbar, height_cbar])\n",
    "cbar1 = fig.colorbar(im1, cax=cbar1_ax)\n",
    "cbar1.set_ticks([-1.5, 0, 1.5, 3])\n",
    "\n",
    "ax[1].set_xlabel('Time (s)')\n",
    "\n",
    "ax[0].grid(True)\n",
    "ax[1].grid(True)\n",
    "\n",
    "ax[0].set_yticks([])\n",
    "ax[1].set_yticks([])\n",
    "ax[1].set_xticks([0, 10, 20, 30, 40, 50, 60])\n",
    "\n",
    "plt.subplots_adjust(hspace=0.15)\n",
    "\n",
    "# plt.savefig(f\"{SAVE_IMG_DIR}/two_bands.svg\", bbox_inches='tight')\n",
    "# plt.savefig(f\"{SAVE_IMG_DIR}/two_bands.png\", bbox_inches='tight', dpi=1200)"
   ]
  },
  {
   "cell_type": "code",
   "execution_count": null,
   "metadata": {},
   "outputs": [],
   "source": [
    "\"\"\" plot three bands \"\"\"\n",
    "# step 1. plot\n",
    "plt.close('all')\n",
    "fig, ax = plt.subplots(4, 1, figsize=(7, 2.2*2), sharex=True)\n",
    "\n",
    "ax[0].plot(merged_t[:len(merged_y_true)]*T_DF_MOTION, merged_y_true)\n",
    "ax[0].plot(merged_t[:len(merged_y_true)]*T_DF_MOTION, merged_y_pred)\n",
    "ax[0].grid(True)\n",
    "ax[0].set_yticks([0])\n",
    "ax[0].set_xlim((0, 60)) # set the rnage to (0, 100) if you want to re-create the figure in paper\n",
    "\n",
    "ax[0].set_ylabel('Wrist y-vel.\\n(normalized)', fontsize=10)\n",
    "ax[0].legend(['Observed', 'Predicted'], loc=(1.02, 0.03), fontsize=10)\n",
    "ax[0].set_xticks(np.arange(0, 61, 10))\n",
    "\n",
    "t0, t1 = 0, t_end\n",
    "extent = [t0, t1, len(ch_idxs_10), 0]\n",
    "\n",
    "im1 = ax[1].imshow(merged_zs_lmp, aspect='auto', vmin=lmp_vmin, vmax=lmp_vmax, \n",
    "             extent=extent, cmap='bwr', interpolation='none')\n",
    "im2 = ax[2].imshow(merged_zs_beta, aspect='auto', vmin=beta_vmin, vmax=beta_vmax, \n",
    "             extent=extent, cmap='viridis')\n",
    "im3 = ax[3].imshow(merged_zs_hga, aspect='auto', vmin=hga_vmin, vmax=hga_vmax, \n",
    "             extent=extent, cmap='viridis')\n",
    "\n",
    "ax[1].invert_yaxis()\n",
    "ax[2].invert_yaxis()\n",
    "ax[3].invert_yaxis()\n",
    "\n",
    "# step 2. add labels\n",
    "left_cbar = 0.92  # Adjust left position of the colorbars\n",
    "width_cbar = 0.02  # Adjust width of the colorbars\n",
    "height_cbar = 0.17  # Adjust height of the colorbars\n",
    "\n",
    "bottom_cbar1 = 0.51  # Adjust bottom position of the colorbars\n",
    "bottom_cbar2 = 0.31  # Adjust bottom position of the colorbars\n",
    "bottom_cbar3 = 0.11  # Adjust bottom position of the colorbars\n",
    "\n",
    "cbar1_ax = fig.add_axes([left_cbar, bottom_cbar1, width_cbar, height_cbar])\n",
    "cbar2_ax = fig.add_axes([left_cbar, bottom_cbar2, width_cbar, height_cbar])\n",
    "cbar3_ax = fig.add_axes([left_cbar, bottom_cbar3, width_cbar, height_cbar])\n",
    "\n",
    "cbar1 = fig.colorbar(im1, cax=cbar1_ax)\n",
    "cbar2 = fig.colorbar(im2, cax=cbar2_ax)\n",
    "cbar3 = fig.colorbar(im3, cax=cbar3_ax)\n",
    "cbar1.set_ticks([-1.5, 0, 1.5])\n",
    "cbar2.set_ticks([-1, 0, 1.5, 3])\n",
    "cbar3.set_ticks([-1.5, 0, 1.5, 3])\n",
    "\n",
    "for r in [1, 2, 3]:\n",
    "    ax[r].grid(True)\n",
    "    ax[r].set_yticks([])\n",
    "\n",
    "ax[1].set_ylabel('Channels\\n(LMP)', fontsize=12)\n",
    "ax[2].set_ylabel('Channels\\n(β)', fontsize=12)\n",
    "ax[3].set_ylabel('Channels\\n(High γ)', fontsize=12)\n",
    "\n",
    "ax[-1].set_xlabel('Time (s)')\n",
    "ax[-1].set_xticks([0, 10, 20, 30, 40, 50, 60])\n",
    "\n",
    "plt.subplots_adjust(hspace=0.2)\n",
    "\n",
    "# plt.savefig(f\"{SAVE_IMG_DIR}/three_bands.svg\", bbox_inches='tight')\n",
    "# plt.savefig(f\"{SAVE_IMG_DIR}/three_bands.png\", bbox_inches='tight', dpi=1200)"
   ]
  },
  {
   "cell_type": "markdown",
   "metadata": {},
   "source": [
    "Plot Spatiotemporal Progression using session 10 data"
   ]
  },
  {
   "cell_type": "code",
   "execution_count": null,
   "metadata": {},
   "outputs": [],
   "source": [
    "\"\"\" pad the band data to full 16x16 channels \"\"\"\n",
    "padded_zs_lmp   = np.zeros((NCH, len(motion_t_10)))\n",
    "padded_zs_hga   = np.zeros((NCH, len(motion_t_10)))\n",
    "padded_zs_beta  = np.zeros((NCH, len(motion_t_10)))\n",
    "\n",
    "padded_zs_lmp[good_chs_10] = fch_zs_lmp_10\n",
    "padded_zs_hga[good_chs_10] = fch_zs_hga_10\n",
    "padded_zs_beta[good_chs_10] = fch_zs_beta_10"
   ]
  },
  {
   "cell_type": "code",
   "execution_count": null,
   "metadata": {},
   "outputs": [],
   "source": [
    "\"\"\" decide time range to plot \"\"\"\n",
    "t_start, t_end = 13.5, 14.5\n",
    "t_range = np.arange(t_start, t_end, (t_end-t_start)/10) # 10: number of frames to plot\n",
    "frame_idxs = []\n",
    "for tt in t_range:\n",
    "    frame_idxs.append(np.where(motion_t_10 > tt)[0][0])"
   ]
  },
  {
   "cell_type": "code",
   "execution_count": null,
   "metadata": {},
   "outputs": [],
   "source": [
    "\"\"\" plot LMP and High-gamma \"\"\"\n",
    "plt.close('all')\n",
    "fig, ax = plt.subplots(3, 10, figsize=(20, 5), gridspec_kw={'height_ratios': [1, 2, 2]})\n",
    "\n",
    "ax[0, 0].set_yticks([0])\n",
    "ax[0, 0].set_ylabel('Wrist y-vel.\\n(normalized)', fontsize=18)\n",
    "ax[1, 0].set_ylabel('LMP', fontsize=24)\n",
    "ax[2, 0].set_ylabel('High γ', fontsize=24)\n",
    "\n",
    "for idx, frame_idx in enumerate(frame_idxs):\n",
    "    lmp_frame = padded_zs_lmp[:, frame_idx].reshape(16, -1)\n",
    "    hga_frame = padded_zs_hga[:, frame_idx].reshape(16, -1)\n",
    "\n",
    "    ax[0, idx].axhline(y=0, color = 'silver', linewidth=2)\n",
    "    # the following two lines only works because 10 is the first session\n",
    "    ax[0, idx].plot(motion_t_10[:len(y_true_10)]*T_DF_MOTION, y_true_10, linewidth=4)\n",
    "    ax[0, idx].plot(motion_t_10[:len(y_pred_10)]*T_DF_MOTION, y_pred_10, linewidth=2.5)\n",
    "    ax[0, idx].set_xlim((t_start-0.1, t_end))\n",
    "    ax[0, idx].axvline(x = t_range[idx], color='k', linestyle='--', linewidth=4)\n",
    "\n",
    "    ax[1, idx].imshow(lmp_frame, vmin=lmp_vmin, vmax=lmp_vmax, cmap='bwr')\n",
    "    ax[2, idx].imshow(hga_frame, vmin=hga_vmin, vmax=hga_vmax, cmap='viridis')\n",
    "\n",
    "    draw_CS_boundary(ax[1, idx])\n",
    "    draw_CS_boundary(ax[2, idx])\n",
    "\n",
    "    ax[0, idx].set_title(f'{t_range[idx]:.1f}s', fontsize=24)\n",
    "    \n",
    "    if idx > 0:\n",
    "        ax[0, idx].set_yticks([])\n",
    "    ax[0, idx].set_xticks([])\n",
    "    ax[1, idx].set_xticks([])\n",
    "    ax[1, idx].set_yticks([])\n",
    "    ax[2, idx].set_xticks([])\n",
    "    ax[2, idx].set_yticks([])\n",
    "\n",
    "plt.subplots_adjust(hspace=0.02, wspace=0.02)\n",
    "\n",
    "# plt.savefig(f\"{SAVE_IMG_DIR}/spatiotemporal_two_bands.svg\", bbox_inches='tight')\n",
    "# plt.savefig(f\"{SAVE_IMG_DIR}/spatiotemporal_two_bands.png\", bbox_inches='tight', dpi=1200)"
   ]
  },
  {
   "cell_type": "code",
   "execution_count": null,
   "metadata": {},
   "outputs": [],
   "source": []
  }
 ],
 "metadata": {
  "kernelspec": {
   "display_name": ".venv",
   "language": "python",
   "name": "python3"
  },
  "language_info": {
   "codemirror_mode": {
    "name": "ipython",
    "version": 3
   },
   "file_extension": ".py",
   "mimetype": "text/x-python",
   "name": "python",
   "nbconvert_exporter": "python",
   "pygments_lexer": "ipython3",
   "version": "3.10.0"
  },
  "orig_nbformat": 4,
  "vscode": {
   "interpreter": {
    "hash": "d955faee816db44f0a85e254d00ad008273b576d6dbe16759b0bc5b99bc5dcbd"
   }
  }
 },
 "nbformat": 4,
 "nbformat_minor": 2
}
