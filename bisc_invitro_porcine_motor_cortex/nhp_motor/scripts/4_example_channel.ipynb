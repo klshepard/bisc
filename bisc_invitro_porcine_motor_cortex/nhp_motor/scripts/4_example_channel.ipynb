{
 "cells": [
  {
   "cell_type": "code",
   "execution_count": null,
   "metadata": {},
   "outputs": [],
   "source": [
    "\"\"\" import settings \"\"\"\n",
    "%load_ext autoreload\n",
    "%autoreload 2\n",
    "\n",
    "import numpy as np\n",
    "from matplotlib import pyplot as plt\n",
    "from matplotlib_settings import set_plot_settings, reset_plot_settings\n",
    "\n",
    "# Set the plot settings\n",
    "set_plot_settings()\n",
    "\n",
    "# import global variables\n",
    "from utils_motor_global import *\n",
    "from utils_motor_sigproc import get_mt_ch_psd"
   ]
  },
  {
   "cell_type": "code",
   "execution_count": null,
   "metadata": {},
   "outputs": [],
   "source": [
    "\"\"\" load channel data \"\"\"\n",
    "load_dir = CH_DATA_DIR\n",
    "motion_t    = np.load(f'{load_dir}/motion_t.npy')\n",
    "wrist_vel_y = np.load(f'{load_dir}/wrist_vel_y.npy')\n",
    "\n",
    "t           = np.load(f'{load_dir}/t.npy')\n",
    "ch_data_HB  = np.load(f'{load_dir}/ch_data.npy')\n",
    "ch_data     = np.load(f'{load_dir}/ch_data_HB_removed.npy')\n",
    "\n",
    "spect_t     = np.load(f'{load_dir}/spect_t.npy')\n",
    "spect_f     = np.load(f'{load_dir}/spect_f.npy')\n",
    "ch_zs_spect = np.load(f'{load_dir}/ch_zs_spect.npy')"
   ]
  },
  {
   "cell_type": "code",
   "execution_count": null,
   "metadata": {},
   "outputs": [],
   "source": [
    "\"\"\" convert to input-referred voltage \"\"\"\n",
    "ch_data = ch_data*FS_ADC/MAX_ADC_CODE/GAIN\n",
    "ch_data_HB = ch_data_HB*FS_ADC/MAX_ADC_CODE/GAIN"
   ]
  },
  {
   "cell_type": "markdown",
   "metadata": {},
   "source": [
    "Plot Example Channel Spectrogram, Time-domain Waveform"
   ]
  },
  {
   "cell_type": "code",
   "execution_count": null,
   "metadata": {},
   "outputs": [],
   "source": [
    "# pick length of segment to plot\n",
    "t_start, t_end = 0, 20 # seconds"
   ]
  },
  {
   "cell_type": "code",
   "execution_count": null,
   "metadata": {},
   "outputs": [],
   "source": [
    "\"\"\" plot motion, time domain trace, spectrogram of a single channel \"\"\"\n",
    "r, c = 3, 8\n",
    "# ch = 16*r + c # pick a channel\n",
    "\n",
    "# spectrogram params\n",
    "ch_zs_spect = ch_zs_spect[::16, :] # downsample by 16\n",
    "t0, t1 = t_start, t_end\n",
    "f0, f1 = int(spect_f[0]), round(spect_f[-1])\n",
    "extent = [t0, t1, f1, f0]\n",
    "q_cut = 0.01\n",
    "vmin = np.quantile(ch_zs_spect, q_cut)\n",
    "vmax = np.quantile(ch_zs_spect, 1-q_cut)\n",
    "cmap = 'viridis'\n",
    "\n",
    "# plot\n",
    "plt.close('all')\n",
    "k = 0.9\n",
    "fig, ax = plt.subplots(3, 1, sharex=True, figsize=(10*k, 6*k),\n",
    "                       gridspec_kw = {'height_ratios': [1.5, 1.5, 2]})\n",
    "plt.subplots_adjust(hspace=0.3)\n",
    "\n",
    "ax[0].plot(motion_t, wrist_vel_y)\n",
    "ax[1].plot(t, ch_data/1e-6)\n",
    "\n",
    "im = ax[2].imshow(ch_zs_spect.T, aspect='auto', vmin=vmin, vmax=vmax, extent=extent, cmap=cmap,\n",
    "             interpolation='bilinear')\n",
    "ax[2].invert_yaxis()\n",
    "\n",
    "\n",
    "ax[0].set_yticks([0])\n",
    "ax[2].set_xticks([0, 5, 10, 15, 20])\n",
    "\n",
    "for ii in range(3):\n",
    "    ax[ii].grid(True)\n",
    "\n",
    "ax[0].set_title(f'Channel {r, c}\\n')\n",
    "fontsize = 14\n",
    "ax[0].set_ylabel('Wrist y-vel.\\n(normalized)\\n', fontsize=fontsize)\n",
    "ax[1].set_ylabel('Recording (μV)', fontsize=fontsize)\n",
    "ax[2].set_ylabel('Frequency (Hz)', fontsize=fontsize)\n",
    "\n",
    "ax[2].set_xlabel('Time (s)')\n",
    "\n",
    "left_cbar = 0.92  # Adjust left position of the colorbars\n",
    "bottom_cbar0 = 0.11  # Adjust bottom position of the colorbars\n",
    "width_cbar = 0.015  # Adjust width of the colorbars\n",
    "height_cbar = 0.26  # Adjust height of the colorbars\n",
    "\n",
    "cbar0_ax = fig.add_axes([left_cbar, bottom_cbar0, width_cbar, height_cbar])\n",
    "cbar0 = fig.colorbar(im, ax=ax[2], cax=cbar0_ax)\n",
    "# cbar0.set_ticks([-1.5, 0, 1.5])"
   ]
  },
  {
   "cell_type": "markdown",
   "metadata": {},
   "source": [
    "Plot Example Channel Power Spectral Density, Before and After Hemodynamics Removal"
   ]
  },
  {
   "cell_type": "code",
   "execution_count": null,
   "metadata": {},
   "outputs": [],
   "source": [
    "\"\"\" multi-taper params \"\"\"\n",
    "from scipy.signal.windows import dpss\n",
    "\n",
    "# pick length of segment to plot\n",
    "t_start, t_end = 0, 20 # seconds\n",
    "\n",
    "Ts = t[1] - t[0]\n",
    "rec_idx0 = np.where(t >= t_start)[0][0]\n",
    "rec_idx1 = np.where(t <= t_end)[0][-1]\n",
    "len_win = t[rec_idx1] - t[rec_idx0]\n",
    "\n",
    "# pick half-BW\n",
    "W = 0.5 # Hz. frequency smoothing: [f0 - W , f0 + W]\n",
    "\n",
    "NW = len_win*W # common choices are 2.5, 3, 3.5, 4\n",
    "K = int(2*NW - 1) # Number of tapers\n",
    "print(f'{NW=:.2f}, {K=}')\n",
    "\n",
    "# dependent params\n",
    "fs = 1/Ts\n",
    "win_size = rec_idx1 - rec_idx0 + 1\n",
    "n = win_size\n",
    "half_n = int(np.ceil(win_size/2))\n",
    "freq = np.fft.fftfreq(win_size, d = 1/fs)\n",
    "half_freq = freq[:half_n]\n",
    "fbin = half_freq[1]\n",
    "\n",
    "# DPSS\n",
    "dpss_tapers, dpss_eigen = dpss(n, NW, K, return_ratios=True)\n",
    "wt = np.ones(K)/K # apply unity weight"
   ]
  },
  {
   "cell_type": "code",
   "execution_count": null,
   "metadata": {},
   "outputs": [],
   "source": [
    "\"\"\" plot a single channel PSD \"\"\"\n",
    "assert len(ch_data) == win_size\n",
    "\n",
    "ch_psd_HB = get_mt_ch_psd(ch_data_HB, dpss_tapers, wt)\n",
    "ch_psd    = get_mt_ch_psd(ch_data, dpss_tapers, wt)\n",
    "\n",
    "# normalize for plotting. plot LFP range: (1 to 300) Hz\n",
    "psd_idx0 = np.where(half_freq >= 1)[0][0]\n",
    "psd_idx1 = np.where(half_freq <= 300)[0][-1] + 1\n",
    "norm_val = np.max(ch_psd_HB[psd_idx0:psd_idx1])\n",
    "ch_psd_HB = ch_psd_HB/norm_val\n",
    "ch_psd    = ch_psd/norm_val\n",
    "\n",
    "# plot\n",
    "plt.close('all')\n",
    "fig, ax = plt.subplots(figsize=(4, 3))\n",
    "ax.loglog(half_freq, ch_psd_HB)\n",
    "ax.loglog(half_freq, ch_psd)\n",
    "\n",
    "ax.set_xlim((1, 300))\n",
    "# ax.set_ylim((np.min(ch_psd)*0.5, 2))\n",
    "ax.set_ylim((1e-5, 2))\n",
    "ax.set_xlabel('Frequency (Hz)')\n",
    "ax.set_ylabel('PSD (a.u.)')\n",
    "\n",
    "ax.set_title(f'Channel {r, c}')\n",
    "ax.grid(True)\n",
    "\n",
    "ax.axvline(x = HB_BPF_LOW , linestyle='--', color='k')\n",
    "ax.axvline(x = HB_BPF_HIGH, linestyle='--', color='k')\n",
    "\n",
    "ax.legend(['Before HD Removal', 'After HD Removal'], loc = (1.02, 0))"
   ]
  },
  {
   "cell_type": "code",
   "execution_count": null,
   "metadata": {},
   "outputs": [],
   "source": []
  }
 ],
 "metadata": {
  "kernelspec": {
   "display_name": ".venv",
   "language": "python",
   "name": "python3"
  },
  "language_info": {
   "codemirror_mode": {
    "name": "ipython",
    "version": 3
   },
   "file_extension": ".py",
   "mimetype": "text/x-python",
   "name": "python",
   "nbconvert_exporter": "python",
   "pygments_lexer": "ipython3",
   "version": "3.10.0"
  },
  "orig_nbformat": 4,
  "vscode": {
   "interpreter": {
    "hash": "d955faee816db44f0a85e254d00ad008273b576d6dbe16759b0bc5b99bc5dcbd"
   }
  }
 },
 "nbformat": 4,
 "nbformat_minor": 2
}
